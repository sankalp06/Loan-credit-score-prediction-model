{
 "cells": [
  {
   "cell_type": "code",
   "execution_count": 1,
   "metadata": {},
   "outputs": [],
   "source": [
    "import pandas as pd\n",
    "import numpy as np\n",
    "import random\n",
    "import matplotlib.pyplot as plt\n",
    "from sklearn.preprocessing import LabelEncoder\n",
    "from sklearn.metrics import accuracy_score\n",
    "from sklearn.metrics import confusion_matrix\n"
   ]
  },
  {
   "cell_type": "code",
   "execution_count": 2,
   "metadata": {},
   "outputs": [],
   "source": [
    "df = pd.read_csv(\"credit_loan_data.csv\")"
   ]
  },
  {
   "cell_type": "code",
   "execution_count": 3,
   "metadata": {},
   "outputs": [
    {
     "name": "stdout",
     "output_type": "stream",
     "text": [
      "<class 'pandas.core.frame.DataFrame'>\n",
      "RangeIndex: 12001 entries, 0 to 12000\n",
      "Data columns (total 20 columns):\n",
      "Unnamed: 0                      12001 non-null int64\n",
      "Loan ID                         12001 non-null object\n",
      "Customer ID                     12001 non-null object\n",
      "Loan Status                     12001 non-null object\n",
      "Current Loan Amount             12001 non-null int64\n",
      "Term                            12001 non-null object\n",
      "Credit Score                    9223 non-null float64\n",
      "Annual Income                   9223 non-null float64\n",
      "Years in current job            11449 non-null object\n",
      "Home Ownership                  12001 non-null object\n",
      "Purpose                         12001 non-null object\n",
      "Monthly Debt                    12001 non-null float64\n",
      "Years of Credit History         12001 non-null float64\n",
      "Months since last delinquent    5583 non-null float64\n",
      "Number of Open Accounts         12001 non-null int64\n",
      "Number of Credit Problems       12001 non-null int64\n",
      "Current Credit Balance          12001 non-null int64\n",
      "Maximum Open Credit             12001 non-null int64\n",
      "Bankruptcies                    11985 non-null float64\n",
      "Tax Liens                       12001 non-null int64\n",
      "dtypes: float64(6), int64(7), object(7)\n",
      "memory usage: 1.8+ MB\n"
     ]
    }
   ],
   "source": [
    "df.info()"
   ]
  },
  {
   "cell_type": "markdown",
   "metadata": {},
   "source": [
    "###### We will remove duplicate customer IDs to increase data accuracy"
   ]
  },
  {
   "cell_type": "code",
   "execution_count": 4,
   "metadata": {},
   "outputs": [],
   "source": [
    "df = df.drop_duplicates('Customer ID')"
   ]
  },
  {
   "cell_type": "markdown",
   "metadata": {},
   "source": [
    "###### Columns with Null values"
   ]
  },
  {
   "cell_type": "code",
   "execution_count": 5,
   "metadata": {},
   "outputs": [
    {
     "data": {
      "text/plain": [
       "Index(['Credit Score', 'Annual Income', 'Years in current job',\n",
       "       'Months since last delinquent', 'Bankruptcies'],\n",
       "      dtype='object')"
      ]
     },
     "execution_count": 5,
     "metadata": {},
     "output_type": "execute_result"
    }
   ],
   "source": [
    "df.columns[df.isnull().any()]"
   ]
  },
  {
   "cell_type": "code",
   "execution_count": 6,
   "metadata": {
    "scrolled": true
   },
   "outputs": [
    {
     "name": "stdout",
     "output_type": "stream",
     "text": [
      "<class 'pandas.core.frame.DataFrame'>\n",
      "Int64Index: 9884 entries, 0 to 12000\n",
      "Data columns (total 20 columns):\n",
      "Unnamed: 0                      9884 non-null int64\n",
      "Loan ID                         9884 non-null object\n",
      "Customer ID                     9884 non-null object\n",
      "Loan Status                     9884 non-null object\n",
      "Current Loan Amount             9884 non-null int64\n",
      "Term                            9884 non-null object\n",
      "Credit Score                    7392 non-null float64\n",
      "Annual Income                   7392 non-null float64\n",
      "Years in current job            9427 non-null object\n",
      "Home Ownership                  9884 non-null object\n",
      "Purpose                         9884 non-null object\n",
      "Monthly Debt                    9884 non-null float64\n",
      "Years of Credit History         9884 non-null float64\n",
      "Months since last delinquent    4493 non-null float64\n",
      "Number of Open Accounts         9884 non-null int64\n",
      "Number of Credit Problems       9884 non-null int64\n",
      "Current Credit Balance          9884 non-null int64\n",
      "Maximum Open Credit             9884 non-null int64\n",
      "Bankruptcies                    9868 non-null float64\n",
      "Tax Liens                       9884 non-null int64\n",
      "dtypes: float64(6), int64(7), object(7)\n",
      "memory usage: 1.6+ MB\n"
     ]
    }
   ],
   "source": [
    "df.info()"
   ]
  },
  {
   "cell_type": "markdown",
   "metadata": {},
   "source": [
    "###### Credit Score and Annual Income are important factors and need to have the actual values. Our decision is to remove records with null values in these two columns"
   ]
  },
  {
   "cell_type": "code",
   "execution_count": 7,
   "metadata": {},
   "outputs": [],
   "source": [
    "df = df.dropna(subset=['Credit Score','Annual Income'])"
   ]
  },
  {
   "cell_type": "code",
   "execution_count": 8,
   "metadata": {},
   "outputs": [
    {
     "data": {
      "text/plain": [
       "<matplotlib.axes._subplots.AxesSubplot at 0x2b8fc7ca6128>"
      ]
     },
     "execution_count": 8,
     "metadata": {},
     "output_type": "execute_result"
    },
    {
     "data": {
      "image/png": "[encoded data removed]",
      "text/plain": [
       "<Figure size 432x288 with 1 Axes>"
      ]
     },
     "metadata": {
      "needs_background": "light"
     },
     "output_type": "display_data"
    }
   ],
   "source": [
    "df.groupby('Purpose').count()['Loan Status'].plot(kind = 'bar')"
   ]
  },
  {
   "cell_type": "markdown",
   "metadata": {},
   "source": [
    "###### Loan ID and Customer ID are not important columns for our analysis."
   ]
  },
  {
   "cell_type": "code",
   "execution_count": 9,
   "metadata": {},
   "outputs": [],
   "source": [
    "df.drop(['Loan ID','Customer ID'], axis = 1, inplace = True)"
   ]
  },
  {
   "cell_type": "markdown",
   "metadata": {},
   "source": [
    "##### Months since last delinquent and Purpose of loan could be deciding factor, but based on the values and the variations here we consider them to be unimportant and drop them as well."
   ]
  },
  {
   "cell_type": "code",
   "execution_count": 10,
   "metadata": {},
   "outputs": [],
   "source": [
    "df.drop('Months since last delinquent', axis = 1, inplace = True)\n",
    "df.drop('Purpose', axis = 1, inplace = True)"
   ]
  },
  {
   "cell_type": "code",
   "execution_count": 11,
   "metadata": {},
   "outputs": [
    {
     "data": {
      "text/html": [
       "<div>\n",
       "<style scoped>\n",
       "    .dataframe tbody tr th:only-of-type {\n",
       "        vertical-align: middle;\n",
       "    }\n",
       "\n",
       "    .dataframe tbody tr th {\n",
       "        vertical-align: top;\n",
       "    }\n",
       "\n",
       "    .dataframe thead th {\n",
       "        text-align: right;\n",
       "    }\n",
       "</style>\n",
       "<table border=\"1\" class=\"dataframe\">\n",
       "  <thead>\n",
       "    <tr style=\"text-align: right;\">\n",
       "      <th></th>\n",
       "      <th>Loan Status</th>\n",
       "    </tr>\n",
       "    <tr>\n",
       "      <th>Term</th>\n",
       "      <th></th>\n",
       "    </tr>\n",
       "  </thead>\n",
       "  <tbody>\n",
       "    <tr>\n",
       "      <th>Long Term</th>\n",
       "      <td>2008</td>\n",
       "    </tr>\n",
       "    <tr>\n",
       "      <th>Short Term</th>\n",
       "      <td>5384</td>\n",
       "    </tr>\n",
       "  </tbody>\n",
       "</table>\n",
       "</div>"
      ],
      "text/plain": [
       "            Loan Status\n",
       "Term                   \n",
       "Long Term          2008\n",
       "Short Term         5384"
      ]
     },
     "execution_count": 11,
     "metadata": {},
     "output_type": "execute_result"
    }
   ],
   "source": [
    "df[['Loan Status','Term']].groupby('Term').count()"
   ]
  },
  {
   "cell_type": "code",
   "execution_count": 12,
   "metadata": {},
   "outputs": [],
   "source": [
    "df['Loan Status'] = df['Loan Status'].map({'Charged Off':0, 'Fully Paid':1}).astype(int)"
   ]
  },
  {
   "cell_type": "code",
   "execution_count": 13,
   "metadata": {},
   "outputs": [
    {
     "data": {
      "text/plain": [
       "array([1, 0])"
      ]
     },
     "execution_count": 13,
     "metadata": {},
     "output_type": "execute_result"
    }
   ],
   "source": [
    "df['Loan Status'].unique()"
   ]
  },
  {
   "cell_type": "code",
   "execution_count": 14,
   "metadata": {},
   "outputs": [
    {
     "data": {
      "text/html": [
       "<div>\n",
       "<style scoped>\n",
       "    .dataframe tbody tr th:only-of-type {\n",
       "        vertical-align: middle;\n",
       "    }\n",
       "\n",
       "    .dataframe tbody tr th {\n",
       "        vertical-align: top;\n",
       "    }\n",
       "\n",
       "    .dataframe thead th {\n",
       "        text-align: right;\n",
       "    }\n",
       "</style>\n",
       "<table border=\"1\" class=\"dataframe\">\n",
       "  <thead>\n",
       "    <tr style=\"text-align: right;\">\n",
       "      <th></th>\n",
       "      <th>Loan Status</th>\n",
       "    </tr>\n",
       "    <tr>\n",
       "      <th>Years in current job</th>\n",
       "      <th></th>\n",
       "    </tr>\n",
       "  </thead>\n",
       "  <tbody>\n",
       "    <tr>\n",
       "      <th>1 year</th>\n",
       "      <td>437</td>\n",
       "    </tr>\n",
       "    <tr>\n",
       "      <th>10+ years</th>\n",
       "      <td>2292</td>\n",
       "    </tr>\n",
       "    <tr>\n",
       "      <th>2 years</th>\n",
       "      <td>651</td>\n",
       "    </tr>\n",
       "    <tr>\n",
       "      <th>3 years</th>\n",
       "      <td>633</td>\n",
       "    </tr>\n",
       "    <tr>\n",
       "      <th>4 years</th>\n",
       "      <td>447</td>\n",
       "    </tr>\n",
       "    <tr>\n",
       "      <th>5 years</th>\n",
       "      <td>503</td>\n",
       "    </tr>\n",
       "    <tr>\n",
       "      <th>6 years</th>\n",
       "      <td>413</td>\n",
       "    </tr>\n",
       "    <tr>\n",
       "      <th>7 years</th>\n",
       "      <td>430</td>\n",
       "    </tr>\n",
       "    <tr>\n",
       "      <th>8 years</th>\n",
       "      <td>337</td>\n",
       "    </tr>\n",
       "    <tr>\n",
       "      <th>9 years</th>\n",
       "      <td>267</td>\n",
       "    </tr>\n",
       "    <tr>\n",
       "      <th>&lt; 1 year</th>\n",
       "      <td>649</td>\n",
       "    </tr>\n",
       "  </tbody>\n",
       "</table>\n",
       "</div>"
      ],
      "text/plain": [
       "                      Loan Status\n",
       "Years in current job             \n",
       "1 year                        437\n",
       "10+ years                    2292\n",
       "2 years                       651\n",
       "3 years                       633\n",
       "4 years                       447\n",
       "5 years                       503\n",
       "6 years                       413\n",
       "7 years                       430\n",
       "8 years                       337\n",
       "9 years                       267\n",
       "< 1 year                      649"
      ]
     },
     "execution_count": 14,
     "metadata": {},
     "output_type": "execute_result"
    }
   ],
   "source": [
    "df[['Loan Status','Years in current job']].groupby('Years in current job').count()"
   ]
  },
  {
   "cell_type": "code",
   "execution_count": 15,
   "metadata": {},
   "outputs": [],
   "source": [
    "df['Years in current job'] = df['Years in current job'].map({'< 1 year':0, '1 year':1, '2 years':2, '3 years':3, '4 years':4, '5 years':5, '6 years':6, '7 years':7, '8 years':8, '9 years':9, '10+ years':10})"
   ]
  },
  {
   "cell_type": "code",
   "execution_count": 16,
   "metadata": {},
   "outputs": [],
   "source": [
    "df['Years in current job'] = df['Years in current job'].fillna(df['Years in current job'].median())"
   ]
  },
  {
   "cell_type": "code",
   "execution_count": 17,
   "metadata": {},
   "outputs": [],
   "source": [
    "df['Years in current job'] = df['Years in current job'].astype(int)"
   ]
  },
  {
   "cell_type": "code",
   "execution_count": 18,
   "metadata": {},
   "outputs": [
    {
     "data": {
      "text/plain": [
       "<matplotlib.axes._subplots.AxesSubplot at 0x2b8fc76754a8>"
      ]
     },
     "execution_count": 18,
     "metadata": {},
     "output_type": "execute_result"
    },
    {
     "data": {
      "image/png": "[encoded data removed]",
      "text/plain": [
       "<Figure size 432x288 with 1 Axes>"
      ]
     },
     "metadata": {
      "needs_background": "light"
     },
     "output_type": "display_data"
    }
   ],
   "source": [
    "df.groupby('Bankruptcies').count()['Loan Status'].plot(kind = 'bar')"
   ]
  },
  {
   "cell_type": "code",
   "execution_count": 19,
   "metadata": {},
   "outputs": [],
   "source": [
    "df['Bankruptcies'] = df['Bankruptcies'].fillna(0.0)"
   ]
  },
  {
   "cell_type": "code",
   "execution_count": 20,
   "metadata": {},
   "outputs": [
    {
     "data": {
      "text/plain": [
       "<matplotlib.axes._subplots.AxesSubplot at 0x2b8fc750d3c8>"
      ]
     },
     "execution_count": 20,
     "metadata": {},
     "output_type": "execute_result"
    },
    {
     "data": {
      "image/png": "[encoded data removed]",
      "text/plain": [
       "<Figure size 432x288 with 1 Axes>"
      ]
     },
     "metadata": {
      "needs_background": "light"
     },
     "output_type": "display_data"
    }
   ],
   "source": [
    "df.groupby('Tax Liens').count()['Loan Status'].plot(kind = 'bar')"
   ]
  },
  {
   "cell_type": "code",
   "execution_count": 21,
   "metadata": {},
   "outputs": [],
   "source": [
    "df['Tax Liens'] = df['Tax Liens'].fillna(0.0)"
   ]
  },
  {
   "cell_type": "code",
   "execution_count": 22,
   "metadata": {},
   "outputs": [
    {
     "data": {
      "text/plain": [
       "<matplotlib.axes._subplots.AxesSubplot at 0x2b8fc7585978>"
      ]
     },
     "execution_count": 22,
     "metadata": {},
     "output_type": "execute_result"
    },
    {
     "data": {
      "image/png": "[encoded data removed]",
      "text/plain": [
       "<Figure size 432x288 with 1 Axes>"
      ]
     },
     "metadata": {
      "needs_background": "light"
     },
     "output_type": "display_data"
    }
   ],
   "source": [
    "df['Home Ownership'].value_counts().sort_values(ascending = True).plot(kind='bar', title=\"Number of Loan based on Home ownership\")"
   ]
  },
  {
   "cell_type": "markdown",
   "metadata": {},
   "source": [
    "###### Categorical columns"
   ]
  },
  {
   "cell_type": "code",
   "execution_count": 23,
   "metadata": {},
   "outputs": [],
   "source": [
    "cols = pd.get_dummies(df['Term'], prefix= 'Term')\n",
    "df[cols.columns] = cols\n",
    "df.drop('Term', axis = 1, inplace = True)\n",
    "\n",
    "cols = pd.get_dummies(df['Home Ownership'], prefix= 'Home Ownership')\n",
    "df[cols.columns] = cols\n",
    "df.drop('Home Ownership', axis = 1, inplace = True)\n",
    "             "
   ]
  },
  {
   "cell_type": "code",
   "execution_count": 24,
   "metadata": {},
   "outputs": [
    {
     "data": {
      "text/html": [
       "<div>\n",
       "<style scoped>\n",
       "    .dataframe tbody tr th:only-of-type {\n",
       "        vertical-align: middle;\n",
       "    }\n",
       "\n",
       "    .dataframe tbody tr th {\n",
       "        vertical-align: top;\n",
       "    }\n",
       "\n",
       "    .dataframe thead th {\n",
       "        text-align: right;\n",
       "    }\n",
       "</style>\n",
       "<table border=\"1\" class=\"dataframe\">\n",
       "  <thead>\n",
       "    <tr style=\"text-align: right;\">\n",
       "      <th></th>\n",
       "      <th>Unnamed: 0</th>\n",
       "      <th>Loan Status</th>\n",
       "      <th>Current Loan Amount</th>\n",
       "      <th>Credit Score</th>\n",
       "      <th>Annual Income</th>\n",
       "      <th>Years in current job</th>\n",
       "      <th>Monthly Debt</th>\n",
       "      <th>Years of Credit History</th>\n",
       "      <th>Number of Open Accounts</th>\n",
       "      <th>Number of Credit Problems</th>\n",
       "      <th>Current Credit Balance</th>\n",
       "      <th>Maximum Open Credit</th>\n",
       "      <th>Bankruptcies</th>\n",
       "      <th>Tax Liens</th>\n",
       "      <th>Term_Long Term</th>\n",
       "      <th>Term_Short Term</th>\n",
       "      <th>Home Ownership_HaveMortgage</th>\n",
       "      <th>Home Ownership_Home Mortgage</th>\n",
       "      <th>Home Ownership_Own Home</th>\n",
       "      <th>Home Ownership_Rent</th>\n",
       "    </tr>\n",
       "  </thead>\n",
       "  <tbody>\n",
       "    <tr>\n",
       "      <th>0</th>\n",
       "      <td>1</td>\n",
       "      <td>1</td>\n",
       "      <td>258082</td>\n",
       "      <td>746.0</td>\n",
       "      <td>950475.0</td>\n",
       "      <td>4</td>\n",
       "      <td>6748.42</td>\n",
       "      <td>11.5</td>\n",
       "      <td>12</td>\n",
       "      <td>0</td>\n",
       "      <td>330429</td>\n",
       "      <td>815782</td>\n",
       "      <td>0.0</td>\n",
       "      <td>0</td>\n",
       "      <td>0</td>\n",
       "      <td>1</td>\n",
       "      <td>0</td>\n",
       "      <td>0</td>\n",
       "      <td>0</td>\n",
       "      <td>1</td>\n",
       "    </tr>\n",
       "    <tr>\n",
       "      <th>2</th>\n",
       "      <td>3</td>\n",
       "      <td>1</td>\n",
       "      <td>260986</td>\n",
       "      <td>734.0</td>\n",
       "      <td>1314838.0</td>\n",
       "      <td>10</td>\n",
       "      <td>16325.94</td>\n",
       "      <td>30.3</td>\n",
       "      <td>7</td>\n",
       "      <td>0</td>\n",
       "      <td>189221</td>\n",
       "      <td>373890</td>\n",
       "      <td>0.0</td>\n",
       "      <td>0</td>\n",
       "      <td>0</td>\n",
       "      <td>1</td>\n",
       "      <td>0</td>\n",
       "      <td>0</td>\n",
       "      <td>1</td>\n",
       "      <td>0</td>\n",
       "    </tr>\n",
       "    <tr>\n",
       "      <th>5</th>\n",
       "      <td>6</td>\n",
       "      <td>1</td>\n",
       "      <td>353760</td>\n",
       "      <td>692.0</td>\n",
       "      <td>1202985.0</td>\n",
       "      <td>10</td>\n",
       "      <td>6115.15</td>\n",
       "      <td>13.8</td>\n",
       "      <td>10</td>\n",
       "      <td>0</td>\n",
       "      <td>173394</td>\n",
       "      <td>300564</td>\n",
       "      <td>0.0</td>\n",
       "      <td>0</td>\n",
       "      <td>1</td>\n",
       "      <td>0</td>\n",
       "      <td>0</td>\n",
       "      <td>0</td>\n",
       "      <td>0</td>\n",
       "      <td>1</td>\n",
       "    </tr>\n",
       "    <tr>\n",
       "      <th>8</th>\n",
       "      <td>9</td>\n",
       "      <td>1</td>\n",
       "      <td>134508</td>\n",
       "      <td>745.0</td>\n",
       "      <td>550620.0</td>\n",
       "      <td>6</td>\n",
       "      <td>3932.43</td>\n",
       "      <td>17.8</td>\n",
       "      <td>8</td>\n",
       "      <td>1</td>\n",
       "      <td>109668</td>\n",
       "      <td>307450</td>\n",
       "      <td>1.0</td>\n",
       "      <td>0</td>\n",
       "      <td>0</td>\n",
       "      <td>1</td>\n",
       "      <td>0</td>\n",
       "      <td>1</td>\n",
       "      <td>0</td>\n",
       "      <td>0</td>\n",
       "    </tr>\n",
       "    <tr>\n",
       "      <th>9</th>\n",
       "      <td>10</td>\n",
       "      <td>1</td>\n",
       "      <td>175208</td>\n",
       "      <td>750.0</td>\n",
       "      <td>1648915.0</td>\n",
       "      <td>10</td>\n",
       "      <td>1071.79</td>\n",
       "      <td>22.0</td>\n",
       "      <td>7</td>\n",
       "      <td>0</td>\n",
       "      <td>75221</td>\n",
       "      <td>1404964</td>\n",
       "      <td>0.0</td>\n",
       "      <td>0</td>\n",
       "      <td>0</td>\n",
       "      <td>1</td>\n",
       "      <td>0</td>\n",
       "      <td>0</td>\n",
       "      <td>1</td>\n",
       "      <td>0</td>\n",
       "    </tr>\n",
       "  </tbody>\n",
       "</table>\n",
       "</div>"
      ],
      "text/plain": [
       "   Unnamed: 0  Loan Status  Current Loan Amount  Credit Score  Annual Income  \\\n",
       "0           1            1               258082         746.0       950475.0   \n",
       "2           3            1               260986         734.0      1314838.0   \n",
       "5           6            1               353760         692.0      1202985.0   \n",
       "8           9            1               134508         745.0       550620.0   \n",
       "9          10            1               175208         750.0      1648915.0   \n",
       "\n",
       "   Years in current job  Monthly Debt  Years of Credit History  \\\n",
       "0                     4       6748.42                     11.5   \n",
       "2                    10      16325.94                     30.3   \n",
       "5                    10       6115.15                     13.8   \n",
       "8                     6       3932.43                     17.8   \n",
       "9                    10       1071.79                     22.0   \n",
       "\n",
       "   Number of Open Accounts  Number of Credit Problems  Current Credit Balance  \\\n",
       "0                       12                          0                  330429   \n",
       "2                        7                          0                  189221   \n",
       "5                       10                          0                  173394   \n",
       "8                        8                          1                  109668   \n",
       "9                        7                          0                   75221   \n",
       "\n",
       "   Maximum Open Credit  Bankruptcies  Tax Liens  Term_Long Term  \\\n",
       "0               815782           0.0          0               0   \n",
       "2               373890           0.0          0               0   \n",
       "5               300564           0.0          0               1   \n",
       "8               307450           1.0          0               0   \n",
       "9              1404964           0.0          0               0   \n",
       "\n",
       "   Term_Short Term  Home Ownership_HaveMortgage  Home Ownership_Home Mortgage  \\\n",
       "0                1                            0                             0   \n",
       "2                1                            0                             0   \n",
       "5                0                            0                             0   \n",
       "8                1                            0                             1   \n",
       "9                1                            0                             0   \n",
       "\n",
       "   Home Ownership_Own Home  Home Ownership_Rent  \n",
       "0                        0                    1  \n",
       "2                        1                    0  \n",
       "5                        0                    1  \n",
       "8                        0                    0  \n",
       "9                        1                    0  "
      ]
     },
     "execution_count": 24,
     "metadata": {},
     "output_type": "execute_result"
    }
   ],
   "source": [
    "df.head()"
   ]
  },
  {
   "cell_type": "markdown",
   "metadata": {},
   "source": [
    "###### Review statistics for each column"
   ]
  },
  {
   "cell_type": "code",
   "execution_count": 25,
   "metadata": {},
   "outputs": [
    {
     "data": {
      "text/html": [
       "<div>\n",
       "<style scoped>\n",
       "    .dataframe tbody tr th:only-of-type {\n",
       "        vertical-align: middle;\n",
       "    }\n",
       "\n",
       "    .dataframe tbody tr th {\n",
       "        vertical-align: top;\n",
       "    }\n",
       "\n",
       "    .dataframe thead th {\n",
       "        text-align: right;\n",
       "    }\n",
       "</style>\n",
       "<table border=\"1\" class=\"dataframe\">\n",
       "  <thead>\n",
       "    <tr style=\"text-align: right;\">\n",
       "      <th></th>\n",
       "      <th>Unnamed: 0</th>\n",
       "      <th>Loan Status</th>\n",
       "      <th>Current Loan Amount</th>\n",
       "      <th>Credit Score</th>\n",
       "      <th>Annual Income</th>\n",
       "      <th>Years in current job</th>\n",
       "      <th>Monthly Debt</th>\n",
       "      <th>Years of Credit History</th>\n",
       "      <th>Number of Open Accounts</th>\n",
       "      <th>Number of Credit Problems</th>\n",
       "      <th>Current Credit Balance</th>\n",
       "      <th>Maximum Open Credit</th>\n",
       "      <th>Bankruptcies</th>\n",
       "      <th>Tax Liens</th>\n",
       "      <th>Term_Long Term</th>\n",
       "      <th>Term_Short Term</th>\n",
       "      <th>Home Ownership_HaveMortgage</th>\n",
       "      <th>Home Ownership_Home Mortgage</th>\n",
       "      <th>Home Ownership_Own Home</th>\n",
       "      <th>Home Ownership_Rent</th>\n",
       "    </tr>\n",
       "  </thead>\n",
       "  <tbody>\n",
       "    <tr>\n",
       "      <th>count</th>\n",
       "      <td>7392.000000</td>\n",
       "      <td>7392.000000</td>\n",
       "      <td>7392.000000</td>\n",
       "      <td>7392.000000</td>\n",
       "      <td>7.392000e+03</td>\n",
       "      <td>7392.000000</td>\n",
       "      <td>7392.000000</td>\n",
       "      <td>7392.000000</td>\n",
       "      <td>7392.000000</td>\n",
       "      <td>7392.000000</td>\n",
       "      <td>7.392000e+03</td>\n",
       "      <td>7.392000e+03</td>\n",
       "      <td>7392.000000</td>\n",
       "      <td>7392.000000</td>\n",
       "      <td>7392.000000</td>\n",
       "      <td>7392.000000</td>\n",
       "      <td>7392.000000</td>\n",
       "      <td>7392.000000</td>\n",
       "      <td>7392.000000</td>\n",
       "      <td>7392.000000</td>\n",
       "    </tr>\n",
       "    <tr>\n",
       "      <th>mean</th>\n",
       "      <td>6009.732143</td>\n",
       "      <td>0.761228</td>\n",
       "      <td>310033.949405</td>\n",
       "      <td>718.006899</td>\n",
       "      <td>1.378539e+06</td>\n",
       "      <td>5.877435</td>\n",
       "      <td>18308.151216</td>\n",
       "      <td>18.177611</td>\n",
       "      <td>11.124324</td>\n",
       "      <td>0.165449</td>\n",
       "      <td>2.952390e+05</td>\n",
       "      <td>7.417375e+05</td>\n",
       "      <td>0.116748</td>\n",
       "      <td>0.031656</td>\n",
       "      <td>0.271645</td>\n",
       "      <td>0.728355</td>\n",
       "      <td>0.002029</td>\n",
       "      <td>0.484172</td>\n",
       "      <td>0.091991</td>\n",
       "      <td>0.421807</td>\n",
       "    </tr>\n",
       "    <tr>\n",
       "      <th>std</th>\n",
       "      <td>3462.403835</td>\n",
       "      <td>0.426362</td>\n",
       "      <td>184640.319595</td>\n",
       "      <td>28.397136</td>\n",
       "      <td>1.013503e+06</td>\n",
       "      <td>3.555520</td>\n",
       "      <td>12118.585920</td>\n",
       "      <td>6.960855</td>\n",
       "      <td>5.013211</td>\n",
       "      <td>0.486130</td>\n",
       "      <td>3.787879e+05</td>\n",
       "      <td>3.924000e+06</td>\n",
       "      <td>0.353242</td>\n",
       "      <td>0.276875</td>\n",
       "      <td>0.444838</td>\n",
       "      <td>0.444838</td>\n",
       "      <td>0.045004</td>\n",
       "      <td>0.499783</td>\n",
       "      <td>0.289033</td>\n",
       "      <td>0.493881</td>\n",
       "    </tr>\n",
       "    <tr>\n",
       "      <th>min</th>\n",
       "      <td>1.000000</td>\n",
       "      <td>0.000000</td>\n",
       "      <td>11242.000000</td>\n",
       "      <td>585.000000</td>\n",
       "      <td>1.112450e+05</td>\n",
       "      <td>0.000000</td>\n",
       "      <td>0.000000</td>\n",
       "      <td>3.700000</td>\n",
       "      <td>1.000000</td>\n",
       "      <td>0.000000</td>\n",
       "      <td>0.000000e+00</td>\n",
       "      <td>0.000000e+00</td>\n",
       "      <td>0.000000</td>\n",
       "      <td>0.000000</td>\n",
       "      <td>0.000000</td>\n",
       "      <td>0.000000</td>\n",
       "      <td>0.000000</td>\n",
       "      <td>0.000000</td>\n",
       "      <td>0.000000</td>\n",
       "      <td>0.000000</td>\n",
       "    </tr>\n",
       "    <tr>\n",
       "      <th>25%</th>\n",
       "      <td>3029.000000</td>\n",
       "      <td>1.000000</td>\n",
       "      <td>171660.500000</td>\n",
       "      <td>705.000000</td>\n",
       "      <td>8.404222e+05</td>\n",
       "      <td>3.000000</td>\n",
       "      <td>10117.500000</td>\n",
       "      <td>13.500000</td>\n",
       "      <td>8.000000</td>\n",
       "      <td>0.000000</td>\n",
       "      <td>1.116392e+05</td>\n",
       "      <td>2.763860e+05</td>\n",
       "      <td>0.000000</td>\n",
       "      <td>0.000000</td>\n",
       "      <td>0.000000</td>\n",
       "      <td>0.000000</td>\n",
       "      <td>0.000000</td>\n",
       "      <td>0.000000</td>\n",
       "      <td>0.000000</td>\n",
       "      <td>0.000000</td>\n",
       "    </tr>\n",
       "    <tr>\n",
       "      <th>50%</th>\n",
       "      <td>6006.500000</td>\n",
       "      <td>1.000000</td>\n",
       "      <td>266266.000000</td>\n",
       "      <td>725.000000</td>\n",
       "      <td>1.167788e+06</td>\n",
       "      <td>6.000000</td>\n",
       "      <td>16133.945000</td>\n",
       "      <td>16.900000</td>\n",
       "      <td>10.000000</td>\n",
       "      <td>0.000000</td>\n",
       "      <td>2.103965e+05</td>\n",
       "      <td>4.682920e+05</td>\n",
       "      <td>0.000000</td>\n",
       "      <td>0.000000</td>\n",
       "      <td>0.000000</td>\n",
       "      <td>1.000000</td>\n",
       "      <td>0.000000</td>\n",
       "      <td>0.000000</td>\n",
       "      <td>0.000000</td>\n",
       "      <td>0.000000</td>\n",
       "    </tr>\n",
       "    <tr>\n",
       "      <th>75%</th>\n",
       "      <td>8985.250000</td>\n",
       "      <td>1.000000</td>\n",
       "      <td>430259.500000</td>\n",
       "      <td>740.000000</td>\n",
       "      <td>1.652074e+06</td>\n",
       "      <td>10.000000</td>\n",
       "      <td>23606.835000</td>\n",
       "      <td>21.700000</td>\n",
       "      <td>14.000000</td>\n",
       "      <td>0.000000</td>\n",
       "      <td>3.649852e+05</td>\n",
       "      <td>7.922805e+05</td>\n",
       "      <td>0.000000</td>\n",
       "      <td>0.000000</td>\n",
       "      <td>1.000000</td>\n",
       "      <td>1.000000</td>\n",
       "      <td>0.000000</td>\n",
       "      <td>1.000000</td>\n",
       "      <td>0.000000</td>\n",
       "      <td>1.000000</td>\n",
       "    </tr>\n",
       "    <tr>\n",
       "      <th>max</th>\n",
       "      <td>12001.000000</td>\n",
       "      <td>1.000000</td>\n",
       "      <td>789184.000000</td>\n",
       "      <td>751.000000</td>\n",
       "      <td>3.647544e+07</td>\n",
       "      <td>10.000000</td>\n",
       "      <td>173265.560000</td>\n",
       "      <td>59.700000</td>\n",
       "      <td>56.000000</td>\n",
       "      <td>9.000000</td>\n",
       "      <td>1.274640e+07</td>\n",
       "      <td>2.655129e+08</td>\n",
       "      <td>5.000000</td>\n",
       "      <td>9.000000</td>\n",
       "      <td>1.000000</td>\n",
       "      <td>1.000000</td>\n",
       "      <td>1.000000</td>\n",
       "      <td>1.000000</td>\n",
       "      <td>1.000000</td>\n",
       "      <td>1.000000</td>\n",
       "    </tr>\n",
       "  </tbody>\n",
       "</table>\n",
       "</div>"
      ],
      "text/plain": [
       "         Unnamed: 0  Loan Status  Current Loan Amount  Credit Score  \\\n",
       "count   7392.000000  7392.000000          7392.000000   7392.000000   \n",
       "mean    6009.732143     0.761228        310033.949405    718.006899   \n",
       "std     3462.403835     0.426362        184640.319595     28.397136   \n",
       "min        1.000000     0.000000         11242.000000    585.000000   \n",
       "25%     3029.000000     1.000000        171660.500000    705.000000   \n",
       "50%     6006.500000     1.000000        266266.000000    725.000000   \n",
       "75%     8985.250000     1.000000        430259.500000    740.000000   \n",
       "max    12001.000000     1.000000        789184.000000    751.000000   \n",
       "\n",
       "       Annual Income  Years in current job   Monthly Debt  \\\n",
       "count   7.392000e+03           7392.000000    7392.000000   \n",
       "mean    1.378539e+06              5.877435   18308.151216   \n",
       "std     1.013503e+06              3.555520   12118.585920   \n",
       "min     1.112450e+05              0.000000       0.000000   \n",
       "25%     8.404222e+05              3.000000   10117.500000   \n",
       "50%     1.167788e+06              6.000000   16133.945000   \n",
       "75%     1.652074e+06             10.000000   23606.835000   \n",
       "max     3.647544e+07             10.000000  173265.560000   \n",
       "\n",
       "       Years of Credit History  Number of Open Accounts  \\\n",
       "count              7392.000000              7392.000000   \n",
       "mean                 18.177611                11.124324   \n",
       "std                   6.960855                 5.013211   \n",
       "min                   3.700000                 1.000000   \n",
       "25%                  13.500000                 8.000000   \n",
       "50%                  16.900000                10.000000   \n",
       "75%                  21.700000                14.000000   \n",
       "max                  59.700000                56.000000   \n",
       "\n",
       "       Number of Credit Problems  Current Credit Balance  Maximum Open Credit  \\\n",
       "count                7392.000000            7.392000e+03         7.392000e+03   \n",
       "mean                    0.165449            2.952390e+05         7.417375e+05   \n",
       "std                     0.486130            3.787879e+05         3.924000e+06   \n",
       "min                     0.000000            0.000000e+00         0.000000e+00   \n",
       "25%                     0.000000            1.116392e+05         2.763860e+05   \n",
       "50%                     0.000000            2.103965e+05         4.682920e+05   \n",
       "75%                     0.000000            3.649852e+05         7.922805e+05   \n",
       "max                     9.000000            1.274640e+07         2.655129e+08   \n",
       "\n",
       "       Bankruptcies    Tax Liens  Term_Long Term  Term_Short Term  \\\n",
       "count   7392.000000  7392.000000     7392.000000      7392.000000   \n",
       "mean       0.116748     0.031656        0.271645         0.728355   \n",
       "std        0.353242     0.276875        0.444838         0.444838   \n",
       "min        0.000000     0.000000        0.000000         0.000000   \n",
       "25%        0.000000     0.000000        0.000000         0.000000   \n",
       "50%        0.000000     0.000000        0.000000         1.000000   \n",
       "75%        0.000000     0.000000        1.000000         1.000000   \n",
       "max        5.000000     9.000000        1.000000         1.000000   \n",
       "\n",
       "       Home Ownership_HaveMortgage  Home Ownership_Home Mortgage  \\\n",
       "count                  7392.000000                   7392.000000   \n",
       "mean                      0.002029                      0.484172   \n",
       "std                       0.045004                      0.499783   \n",
       "min                       0.000000                      0.000000   \n",
       "25%                       0.000000                      0.000000   \n",
       "50%                       0.000000                      0.000000   \n",
       "75%                       0.000000                      1.000000   \n",
       "max                       1.000000                      1.000000   \n",
       "\n",
       "       Home Ownership_Own Home  Home Ownership_Rent  \n",
       "count              7392.000000          7392.000000  \n",
       "mean                  0.091991             0.421807  \n",
       "std                   0.289033             0.493881  \n",
       "min                   0.000000             0.000000  \n",
       "25%                   0.000000             0.000000  \n",
       "50%                   0.000000             0.000000  \n",
       "75%                   0.000000             1.000000  \n",
       "max                   1.000000             1.000000  "
      ]
     },
     "execution_count": 25,
     "metadata": {},
     "output_type": "execute_result"
    }
   ],
   "source": [
    "df.describe()"
   ]
  },
  {
   "cell_type": "code",
   "execution_count": 26,
   "metadata": {},
   "outputs": [],
   "source": [
    "df['Credit Score'] = df['Credit Score'].apply(lambda val: 0  if np.isreal(val) and val < 650 else val)\n",
    "df['Credit Score'] = df['Credit Score'].apply(lambda val: 1 if np.isreal(val) and  (val >= 650 and val < 700) else val)\n",
    "df['Credit Score'] = df['Credit Score'].apply(lambda val: 2 if np.isreal(val) and  (val >= 700 and val < 750) else val)\n",
    "df['Credit Score'] = df['Credit Score'].apply(lambda val: 3 if np.isreal(val) and  (val >= 750 and val <= 850) else val)"
   ]
  },
  {
   "cell_type": "code",
   "execution_count": 27,
   "metadata": {},
   "outputs": [
    {
     "data": {
      "text/plain": [
       "<matplotlib.axes._subplots.AxesSubplot at 0x2b8fc7612908>"
      ]
     },
     "execution_count": 27,
     "metadata": {},
     "output_type": "execute_result"
    },
    {
     "data": {
      "image/png": "[encoded data removed]",
      "text/plain": [
       "<Figure size 432x288 with 1 Axes>"
      ]
     },
     "metadata": {
      "needs_background": "light"
     },
     "output_type": "display_data"
    }
   ],
   "source": [
    "df['Credit Score'].value_counts().sort_values(ascending = True).plot(kind='bar', title ='Number of loans in terms of Credit Score category')"
   ]
  },
  {
   "cell_type": "code",
   "execution_count": 28,
   "metadata": {},
   "outputs": [
    {
     "name": "stdout",
     "output_type": "stream",
     "text": [
      "<class 'pandas.core.frame.DataFrame'>\n",
      "Int64Index: 7392 entries, 0 to 12000\n",
      "Data columns (total 20 columns):\n",
      "Unnamed: 0                      7392 non-null int64\n",
      "Loan Status                     7392 non-null int64\n",
      "Current Loan Amount             7392 non-null int64\n",
      "Credit Score                    7392 non-null float64\n",
      "Annual Income                   7392 non-null float64\n",
      "Years in current job            7392 non-null int64\n",
      "Monthly Debt                    7392 non-null float64\n",
      "Years of Credit History         7392 non-null float64\n",
      "Number of Open Accounts         7392 non-null int64\n",
      "Number of Credit Problems       7392 non-null int64\n",
      "Current Credit Balance          7392 non-null int64\n",
      "Maximum Open Credit             7392 non-null int64\n",
      "Bankruptcies                    7392 non-null float64\n",
      "Tax Liens                       7392 non-null int64\n",
      "Term_Long Term                  7392 non-null uint8\n",
      "Term_Short Term                 7392 non-null uint8\n",
      "Home Ownership_HaveMortgage     7392 non-null uint8\n",
      "Home Ownership_Home Mortgage    7392 non-null uint8\n",
      "Home Ownership_Own Home         7392 non-null uint8\n",
      "Home Ownership_Rent             7392 non-null uint8\n",
      "dtypes: float64(5), int64(9), uint8(6)\n",
      "memory usage: 909.6 KB\n"
     ]
    }
   ],
   "source": [
    "df.info()"
   ]
  },
  {
   "cell_type": "markdown",
   "metadata": {},
   "source": [
    "###### Missing data has been imputed, dataset was cleaned and Categorical variables have been taken care of"
   ]
  },
  {
   "cell_type": "code",
   "execution_count": 29,
   "metadata": {},
   "outputs": [
    {
     "data": {
      "text/html": [
       "<div>\n",
       "<style scoped>\n",
       "    .dataframe tbody tr th:only-of-type {\n",
       "        vertical-align: middle;\n",
       "    }\n",
       "\n",
       "    .dataframe tbody tr th {\n",
       "        vertical-align: top;\n",
       "    }\n",
       "\n",
       "    .dataframe thead th {\n",
       "        text-align: right;\n",
       "    }\n",
       "</style>\n",
       "<table border=\"1\" class=\"dataframe\">\n",
       "  <thead>\n",
       "    <tr style=\"text-align: right;\">\n",
       "      <th></th>\n",
       "      <th>Unnamed: 0</th>\n",
       "      <th>Loan Status</th>\n",
       "      <th>Current Loan Amount</th>\n",
       "      <th>Credit Score</th>\n",
       "      <th>Annual Income</th>\n",
       "      <th>Years in current job</th>\n",
       "      <th>Monthly Debt</th>\n",
       "      <th>Years of Credit History</th>\n",
       "      <th>Number of Open Accounts</th>\n",
       "      <th>Number of Credit Problems</th>\n",
       "      <th>Current Credit Balance</th>\n",
       "      <th>Maximum Open Credit</th>\n",
       "      <th>Bankruptcies</th>\n",
       "      <th>Tax Liens</th>\n",
       "      <th>Term_Long Term</th>\n",
       "      <th>Term_Short Term</th>\n",
       "      <th>Home Ownership_HaveMortgage</th>\n",
       "      <th>Home Ownership_Home Mortgage</th>\n",
       "      <th>Home Ownership_Own Home</th>\n",
       "      <th>Home Ownership_Rent</th>\n",
       "    </tr>\n",
       "  </thead>\n",
       "  <tbody>\n",
       "    <tr>\n",
       "      <th>0</th>\n",
       "      <td>1</td>\n",
       "      <td>1</td>\n",
       "      <td>258082</td>\n",
       "      <td>2.0</td>\n",
       "      <td>950475.0</td>\n",
       "      <td>4</td>\n",
       "      <td>6748.42</td>\n",
       "      <td>11.5</td>\n",
       "      <td>12</td>\n",
       "      <td>0</td>\n",
       "      <td>330429</td>\n",
       "      <td>815782</td>\n",
       "      <td>0.0</td>\n",
       "      <td>0</td>\n",
       "      <td>0</td>\n",
       "      <td>1</td>\n",
       "      <td>0</td>\n",
       "      <td>0</td>\n",
       "      <td>0</td>\n",
       "      <td>1</td>\n",
       "    </tr>\n",
       "    <tr>\n",
       "      <th>2</th>\n",
       "      <td>3</td>\n",
       "      <td>1</td>\n",
       "      <td>260986</td>\n",
       "      <td>2.0</td>\n",
       "      <td>1314838.0</td>\n",
       "      <td>10</td>\n",
       "      <td>16325.94</td>\n",
       "      <td>30.3</td>\n",
       "      <td>7</td>\n",
       "      <td>0</td>\n",
       "      <td>189221</td>\n",
       "      <td>373890</td>\n",
       "      <td>0.0</td>\n",
       "      <td>0</td>\n",
       "      <td>0</td>\n",
       "      <td>1</td>\n",
       "      <td>0</td>\n",
       "      <td>0</td>\n",
       "      <td>1</td>\n",
       "      <td>0</td>\n",
       "    </tr>\n",
       "    <tr>\n",
       "      <th>5</th>\n",
       "      <td>6</td>\n",
       "      <td>1</td>\n",
       "      <td>353760</td>\n",
       "      <td>1.0</td>\n",
       "      <td>1202985.0</td>\n",
       "      <td>10</td>\n",
       "      <td>6115.15</td>\n",
       "      <td>13.8</td>\n",
       "      <td>10</td>\n",
       "      <td>0</td>\n",
       "      <td>173394</td>\n",
       "      <td>300564</td>\n",
       "      <td>0.0</td>\n",
       "      <td>0</td>\n",
       "      <td>1</td>\n",
       "      <td>0</td>\n",
       "      <td>0</td>\n",
       "      <td>0</td>\n",
       "      <td>0</td>\n",
       "      <td>1</td>\n",
       "    </tr>\n",
       "    <tr>\n",
       "      <th>8</th>\n",
       "      <td>9</td>\n",
       "      <td>1</td>\n",
       "      <td>134508</td>\n",
       "      <td>2.0</td>\n",
       "      <td>550620.0</td>\n",
       "      <td>6</td>\n",
       "      <td>3932.43</td>\n",
       "      <td>17.8</td>\n",
       "      <td>8</td>\n",
       "      <td>1</td>\n",
       "      <td>109668</td>\n",
       "      <td>307450</td>\n",
       "      <td>1.0</td>\n",
       "      <td>0</td>\n",
       "      <td>0</td>\n",
       "      <td>1</td>\n",
       "      <td>0</td>\n",
       "      <td>1</td>\n",
       "      <td>0</td>\n",
       "      <td>0</td>\n",
       "    </tr>\n",
       "    <tr>\n",
       "      <th>9</th>\n",
       "      <td>10</td>\n",
       "      <td>1</td>\n",
       "      <td>175208</td>\n",
       "      <td>3.0</td>\n",
       "      <td>1648915.0</td>\n",
       "      <td>10</td>\n",
       "      <td>1071.79</td>\n",
       "      <td>22.0</td>\n",
       "      <td>7</td>\n",
       "      <td>0</td>\n",
       "      <td>75221</td>\n",
       "      <td>1404964</td>\n",
       "      <td>0.0</td>\n",
       "      <td>0</td>\n",
       "      <td>0</td>\n",
       "      <td>1</td>\n",
       "      <td>0</td>\n",
       "      <td>0</td>\n",
       "      <td>1</td>\n",
       "      <td>0</td>\n",
       "    </tr>\n",
       "    <tr>\n",
       "      <th>10</th>\n",
       "      <td>11</td>\n",
       "      <td>1</td>\n",
       "      <td>77176</td>\n",
       "      <td>2.0</td>\n",
       "      <td>1618629.0</td>\n",
       "      <td>10</td>\n",
       "      <td>7229.88</td>\n",
       "      <td>28.6</td>\n",
       "      <td>6</td>\n",
       "      <td>0</td>\n",
       "      <td>221217</td>\n",
       "      <td>560472</td>\n",
       "      <td>0.0</td>\n",
       "      <td>0</td>\n",
       "      <td>0</td>\n",
       "      <td>1</td>\n",
       "      <td>0</td>\n",
       "      <td>1</td>\n",
       "      <td>0</td>\n",
       "      <td>0</td>\n",
       "    </tr>\n",
       "    <tr>\n",
       "      <th>12</th>\n",
       "      <td>13</td>\n",
       "      <td>1</td>\n",
       "      <td>642202</td>\n",
       "      <td>2.0</td>\n",
       "      <td>1759533.0</td>\n",
       "      <td>2</td>\n",
       "      <td>23020.59</td>\n",
       "      <td>13.8</td>\n",
       "      <td>11</td>\n",
       "      <td>0</td>\n",
       "      <td>445987</td>\n",
       "      <td>733546</td>\n",
       "      <td>0.0</td>\n",
       "      <td>0</td>\n",
       "      <td>0</td>\n",
       "      <td>1</td>\n",
       "      <td>0</td>\n",
       "      <td>0</td>\n",
       "      <td>0</td>\n",
       "      <td>1</td>\n",
       "    </tr>\n",
       "    <tr>\n",
       "      <th>15</th>\n",
       "      <td>16</td>\n",
       "      <td>1</td>\n",
       "      <td>155496</td>\n",
       "      <td>2.0</td>\n",
       "      <td>664753.0</td>\n",
       "      <td>6</td>\n",
       "      <td>8087.92</td>\n",
       "      <td>21.3</td>\n",
       "      <td>7</td>\n",
       "      <td>1</td>\n",
       "      <td>79382</td>\n",
       "      <td>150700</td>\n",
       "      <td>1.0</td>\n",
       "      <td>0</td>\n",
       "      <td>0</td>\n",
       "      <td>1</td>\n",
       "      <td>0</td>\n",
       "      <td>0</td>\n",
       "      <td>1</td>\n",
       "      <td>0</td>\n",
       "    </tr>\n",
       "    <tr>\n",
       "      <th>17</th>\n",
       "      <td>18</td>\n",
       "      <td>1</td>\n",
       "      <td>463650</td>\n",
       "      <td>2.0</td>\n",
       "      <td>1642303.0</td>\n",
       "      <td>10</td>\n",
       "      <td>41878.47</td>\n",
       "      <td>18.0</td>\n",
       "      <td>22</td>\n",
       "      <td>0</td>\n",
       "      <td>401565</td>\n",
       "      <td>756052</td>\n",
       "      <td>0.0</td>\n",
       "      <td>0</td>\n",
       "      <td>0</td>\n",
       "      <td>1</td>\n",
       "      <td>0</td>\n",
       "      <td>0</td>\n",
       "      <td>0</td>\n",
       "      <td>1</td>\n",
       "    </tr>\n",
       "    <tr>\n",
       "      <th>20</th>\n",
       "      <td>21</td>\n",
       "      <td>0</td>\n",
       "      <td>325688</td>\n",
       "      <td>2.0</td>\n",
       "      <td>1181325.0</td>\n",
       "      <td>1</td>\n",
       "      <td>18507.33</td>\n",
       "      <td>12.9</td>\n",
       "      <td>10</td>\n",
       "      <td>0</td>\n",
       "      <td>194617</td>\n",
       "      <td>338888</td>\n",
       "      <td>0.0</td>\n",
       "      <td>0</td>\n",
       "      <td>0</td>\n",
       "      <td>1</td>\n",
       "      <td>0</td>\n",
       "      <td>0</td>\n",
       "      <td>0</td>\n",
       "      <td>1</td>\n",
       "    </tr>\n",
       "  </tbody>\n",
       "</table>\n",
       "</div>"
      ],
      "text/plain": [
       "    Unnamed: 0  Loan Status  Current Loan Amount  Credit Score  Annual Income  \\\n",
       "0            1            1               258082           2.0       950475.0   \n",
       "2            3            1               260986           2.0      1314838.0   \n",
       "5            6            1               353760           1.0      1202985.0   \n",
       "8            9            1               134508           2.0       550620.0   \n",
       "9           10            1               175208           3.0      1648915.0   \n",
       "10          11            1                77176           2.0      1618629.0   \n",
       "12          13            1               642202           2.0      1759533.0   \n",
       "15          16            1               155496           2.0       664753.0   \n",
       "17          18            1               463650           2.0      1642303.0   \n",
       "20          21            0               325688           2.0      1181325.0   \n",
       "\n",
       "    Years in current job  Monthly Debt  Years of Credit History  \\\n",
       "0                      4       6748.42                     11.5   \n",
       "2                     10      16325.94                     30.3   \n",
       "5                     10       6115.15                     13.8   \n",
       "8                      6       3932.43                     17.8   \n",
       "9                     10       1071.79                     22.0   \n",
       "10                    10       7229.88                     28.6   \n",
       "12                     2      23020.59                     13.8   \n",
       "15                     6       8087.92                     21.3   \n",
       "17                    10      41878.47                     18.0   \n",
       "20                     1      18507.33                     12.9   \n",
       "\n",
       "    Number of Open Accounts  Number of Credit Problems  \\\n",
       "0                        12                          0   \n",
       "2                         7                          0   \n",
       "5                        10                          0   \n",
       "8                         8                          1   \n",
       "9                         7                          0   \n",
       "10                        6                          0   \n",
       "12                       11                          0   \n",
       "15                        7                          1   \n",
       "17                       22                          0   \n",
       "20                       10                          0   \n",
       "\n",
       "    Current Credit Balance  Maximum Open Credit  Bankruptcies  Tax Liens  \\\n",
       "0                   330429               815782           0.0          0   \n",
       "2                   189221               373890           0.0          0   \n",
       "5                   173394               300564           0.0          0   \n",
       "8                   109668               307450           1.0          0   \n",
       "9                    75221              1404964           0.0          0   \n",
       "10                  221217               560472           0.0          0   \n",
       "12                  445987               733546           0.0          0   \n",
       "15                   79382               150700           1.0          0   \n",
       "17                  401565               756052           0.0          0   \n",
       "20                  194617               338888           0.0          0   \n",
       "\n",
       "    Term_Long Term  Term_Short Term  Home Ownership_HaveMortgage  \\\n",
       "0                0                1                            0   \n",
       "2                0                1                            0   \n",
       "5                1                0                            0   \n",
       "8                0                1                            0   \n",
       "9                0                1                            0   \n",
       "10               0                1                            0   \n",
       "12               0                1                            0   \n",
       "15               0                1                            0   \n",
       "17               0                1                            0   \n",
       "20               0                1                            0   \n",
       "\n",
       "    Home Ownership_Home Mortgage  Home Ownership_Own Home  Home Ownership_Rent  \n",
       "0                              0                        0                    1  \n",
       "2                              0                        1                    0  \n",
       "5                              0                        0                    1  \n",
       "8                              1                        0                    0  \n",
       "9                              0                        1                    0  \n",
       "10                             1                        0                    0  \n",
       "12                             0                        0                    1  \n",
       "15                             0                        1                    0  \n",
       "17                             0                        0                    1  \n",
       "20                             0                        0                    1  "
      ]
     },
     "execution_count": 29,
     "metadata": {},
     "output_type": "execute_result"
    }
   ],
   "source": [
    "df.head(10)"
   ]
  },
  {
   "cell_type": "code",
   "execution_count": 30,
   "metadata": {},
   "outputs": [
    {
     "data": {
      "text/plain": [
       "(7392, 20)"
      ]
     },
     "execution_count": 30,
     "metadata": {},
     "output_type": "execute_result"
    }
   ],
   "source": [
    "df.shape"
   ]
  },
  {
   "cell_type": "markdown",
   "metadata": {},
   "source": [
    "##### Splitting data into Training & Test"
   ]
  },
  {
   "cell_type": "code",
   "execution_count": 31,
   "metadata": {},
   "outputs": [],
   "source": [
    "y = df['Loan Status']\n",
    "X = df.drop(['Loan Status'],axis=1)"
   ]
  },
  {
   "cell_type": "markdown",
   "metadata": {},
   "source": [
    "###### Min Max Scaler"
   ]
  },
  {
   "cell_type": "code",
   "execution_count": 32,
   "metadata": {},
   "outputs": [],
   "source": [
    "from sklearn.preprocessing import MinMaxScaler\n",
    "from sklearn.model_selection import train_test_split"
   ]
  },
  {
   "cell_type": "code",
   "execution_count": 33,
   "metadata": {},
   "outputs": [],
   "source": [
    "X_train_org, X_test_org, y_train, y_test = train_test_split(X, y, random_state = 42, test_size = 0.2)\n",
    "\n",
    "scaler = MinMaxScaler()\n",
    "X_train = scaler.fit_transform(X_train_org)\n",
    "X_test = scaler.transform(X_test_org)"
   ]
  },
  {
   "cell_type": "markdown",
   "metadata": {},
   "source": [
    "##### KNN Classifier"
   ]
  },
  {
   "cell_type": "code",
   "execution_count": 34,
   "metadata": {},
   "outputs": [],
   "source": [
    "from sklearn.neighbors import KNeighborsClassifier\n",
    "\n",
    "train_score_array = []\n",
    "test_score_array = []\n",
    "\n",
    "for k in range(1,25):\n",
    "    knn = KNeighborsClassifier(k)\n",
    "    knn.fit(X_train, y_train)\n",
    "    train_score_array.append(knn.score(X_train, y_train))\n",
    "    test_score_array.append(knn.score(X_test, y_test))"
   ]
  },
  {
   "cell_type": "code",
   "execution_count": 35,
   "metadata": {},
   "outputs": [
    {
     "data": {
      "text/plain": [
       "<matplotlib.legend.Legend at 0x2b8fcbe0f860>"
      ]
     },
     "execution_count": 35,
     "metadata": {},
     "output_type": "execute_result"
    },
    {
     "data": {
      "image/png": "[encoded data removed]",
      "text/plain": [
       "<Figure size 1800x360 with 1 Axes>"
      ]
     },
     "metadata": {
      "needs_background": "light"
     },
     "output_type": "display_data"
    }
   ],
   "source": [
    "x_axis = range(1,25)\n",
    "%matplotlib inline\n",
    "\n",
    "plt.subplots(figsize = (25,5))\n",
    "plt.plot(x_axis, train_score_array, label = 'Train Score', c = 'g')\n",
    "plt.plot(x_axis, test_score_array, label = 'Test Score', c='b')\n",
    "plt.xlabel('n_neighbors')\n",
    "plt.ylabel('Accuracy')\n",
    "plt.xticks(x_axis, np.arange(25))\n",
    "plt.grid()\n",
    "plt.legend()"
   ]
  },
  {
   "cell_type": "code",
   "execution_count": 36,
   "metadata": {},
   "outputs": [
    {
     "name": "stdout",
     "output_type": "stream",
     "text": [
      "22\n",
      "0.7605276509386099\n",
      "0.7667342799188641\n"
     ]
    }
   ],
   "source": [
    "position_max = test_score_array.index(max(test_score_array))\n",
    "print(position_max)\n",
    "print(train_score_array[position_max])\n",
    "print(test_score_array[position_max])"
   ]
  },
  {
   "cell_type": "markdown",
   "metadata": {},
   "source": [
    "The best KNN classifer uses a k of 22. "
   ]
  },
  {
   "cell_type": "markdown",
   "metadata": {},
   "source": [
    "##### Logistic Regression "
   ]
  },
  {
   "cell_type": "code",
   "execution_count": 37,
   "metadata": {},
   "outputs": [],
   "source": [
    "from sklearn.linear_model import LogisticRegression\n",
    "\n",
    "c_range = [0.001, 0.01, 0.1, 1, 10, 100, 1000]\n",
    "train_score_l1 = []\n",
    "train_score_l2 = []\n",
    "test_score_l1 = []\n",
    "test_score_l2 = []\n",
    "\n",
    "for c in c_range:\n",
    "    log_l1 = LogisticRegression(penalty = 'l1', C = c, solver = 'liblinear', max_iter = 5000, random_state=42)\n",
    "    log_l2 = LogisticRegression(penalty = 'l2', C = c, solver = 'lbfgs', max_iter = 5000, random_state=42)\n",
    "    log_l1.fit(X_train, y_train)\n",
    "    log_l2.fit(X_train, y_train)\n",
    "    train_score_l1.append(log_l1.score(X_train, y_train))\n",
    "    train_score_l2.append(log_l2.score(X_train, y_train))\n",
    "    test_score_l1.append(log_l1.score(X_test, y_test))\n",
    "    test_score_l2.append(log_l2.score(X_test, y_test))"
   ]
  },
  {
   "cell_type": "code",
   "execution_count": 38,
   "metadata": {},
   "outputs": [
    {
     "data": {
      "image/png": "[encoded data removed]",
      "text/plain": [
       "<Figure size 1440x360 with 1 Axes>"
      ]
     },
     "metadata": {
      "needs_background": "light"
     },
     "output_type": "display_data"
    }
   ],
   "source": [
    "plt.subplots(figsize = (20,5))\n",
    "plt.plot(c_range, train_score_l1, label = 'Train score, penalty = l1')\n",
    "plt.plot(c_range, test_score_l1, label = 'Test score, penalty = l1')\n",
    "plt.plot(c_range, train_score_l2, label = 'Train score, penalty = l2')\n",
    "plt.plot(c_range, test_score_l2, label = 'Test score, penalty = l2')\n",
    "plt.legend()\n",
    "plt.xlabel('Regularization parameter: C')\n",
    "plt.ylabel('Accuracy')\n",
    "plt.xscale('log')"
   ]
  },
  {
   "cell_type": "code",
   "execution_count": 39,
   "metadata": {},
   "outputs": [
    {
     "name": "stdout",
     "output_type": "stream",
     "text": [
      "4\n",
      "0.7598511753762895\n",
      "0.768762677484787\n"
     ]
    }
   ],
   "source": [
    "position_max_l1 = test_score_l1.index(max(test_score_l1))\n",
    "print(position_max_l1)\n",
    "print(train_score_l1[position_max_l1])\n",
    "print(test_score_l1[position_max_l1])"
   ]
  },
  {
   "cell_type": "code",
   "execution_count": 40,
   "metadata": {},
   "outputs": [
    {
     "name": "stdout",
     "output_type": "stream",
     "text": [
      "5\n",
      "0.7598511753762895\n",
      "0.768762677484787\n"
     ]
    }
   ],
   "source": [
    "position_max_l2 = test_score_l2.index(max(test_score_l2))\n",
    "print(position_max_l2)\n",
    "print(train_score_l2[position_max_l2])\n",
    "print(test_score_l2[position_max_l2])"
   ]
  },
  {
   "cell_type": "markdown",
   "metadata": {},
   "source": [
    "Logistic regression using L1 and L2 regularization yielded the same results. For L1 regularization, the best C hyperparameter was 10. For L2, the best C hyperparameter was 100. "
   ]
  },
  {
   "cell_type": "markdown",
   "metadata": {},
   "source": [
    "##### Decision Tree Classifier"
   ]
  },
  {
   "cell_type": "code",
   "execution_count": 41,
   "metadata": {},
   "outputs": [
    {
     "name": "stdout",
     "output_type": "stream",
     "text": [
      "Accuracy on training set: 1.000\n",
      "Accuracy on test set: 0.643\n"
     ]
    }
   ],
   "source": [
    "%matplotlib notebook\n",
    "from sklearn.tree import DecisionTreeClassifier\n",
    "\n",
    "dtree = DecisionTreeClassifier(random_state=42)\n",
    "\n",
    "dtree.fit(X_train_org, y_train)\n",
    "print(\"Accuracy on training set: {:.3f}\".format(dtree.score(X_train_org, y_train)))\n",
    "print(\"Accuracy on test set: {:.3f}\".format(dtree.score(X_test_org, y_test)))"
   ]
  },
  {
   "cell_type": "code",
   "execution_count": 42,
   "metadata": {},
   "outputs": [
    {
     "name": "stdout",
     "output_type": "stream",
     "text": [
      "Accuracy on training set: 0.761\n",
      "Accuracy on test set: 0.766\n"
     ]
    }
   ],
   "source": [
    "dtree = DecisionTreeClassifier(max_depth=4, random_state=0)\n",
    "dtree.fit(X_train_org, y_train)\n",
    "\n",
    "print(\"Accuracy on training set: {:.3f}\".format(dtree.score(X_train_org, y_train)))\n",
    "print(\"Accuracy on test set: {:.3f}\".format(dtree.score(X_test_org, y_test)))"
   ]
  },
  {
   "cell_type": "code",
   "execution_count": 43,
   "metadata": {},
   "outputs": [],
   "source": [
    "%matplotlib inline\n",
    "train_score_array = []\n",
    "test_score_array = []\n",
    "\n",
    "for k in range(1,20):\n",
    "    clf = DecisionTreeClassifier(random_state=42,max_depth=k)\n",
    "    clf.fit(X_train_org, y_train)\n",
    "\n",
    "    train_score_array.append(clf.score(X_train_org, y_train))\n",
    "    test_score_array.append(clf.score(X_test_org, y_test))"
   ]
  },
  {
   "cell_type": "code",
   "execution_count": 44,
   "metadata": {},
   "outputs": [
    {
     "data": {
      "text/plain": [
       "Text(0,0.5,'Score')"
      ]
     },
     "execution_count": 44,
     "metadata": {},
     "output_type": "execute_result"
    },
    {
     "data": {
      "image/png": "[encoded data removed]",
      "text/plain": [
       "<Figure size 1440x360 with 1 Axes>"
      ]
     },
     "metadata": {
      "needs_background": "light"
     },
     "output_type": "display_data"
    }
   ],
   "source": [
    "x_axis = range(1,20)\n",
    "plt.subplots(figsize = (20,5))\n",
    "plt.plot(x_axis, train_score_array, c = 'g', label = 'Train Score')\n",
    "plt.plot(x_axis, test_score_array, c = 'b', label = 'Test Score')\n",
    "plt.legend()\n",
    "plt.xlabel('Decision Tree Regressor')\n",
    "plt.ylabel('Score')"
   ]
  },
  {
   "cell_type": "code",
   "execution_count": 45,
   "metadata": {},
   "outputs": [
    {
     "name": "stdout",
     "output_type": "stream",
     "text": [
      "0.7634026720784711\n",
      "0.7586206896551724\n"
     ]
    }
   ],
   "source": [
    "print(train_score_array[4])\n",
    "print(test_score_array[4])"
   ]
  },
  {
   "cell_type": "markdown",
   "metadata": {},
   "source": [
    "The best Decision Tree Classifier used a max depth of 4. "
   ]
  },
  {
   "cell_type": "markdown",
   "metadata": {},
   "source": [
    "###### Linear Support Vector Machine"
   ]
  },
  {
   "cell_type": "code",
   "execution_count": 46,
   "metadata": {},
   "outputs": [
    {
     "name": "stdout",
     "output_type": "stream",
     "text": [
      "Train Score:  [0.7598511753762895, 0.7601894131574497, 0.7600202942668696, 0.7596820564857094, 0.4720108236089971]\n",
      "Test Score:  [0.7667342799188641, 0.7667342799188641, 0.7674104124408384, 0.7667342799188641, 0.48884381338742394]\n"
     ]
    }
   ],
   "source": [
    "from sklearn.svm import LinearSVC\n",
    "\n",
    "train_scores =[]\n",
    "test_scores = []\n",
    "x_range = [0.1, 1, 10, 100, 1000]\n",
    "\n",
    "for i in x_range:\n",
    "    clf1 = LinearSVC(random_state = 42, C = i)\n",
    "    clf1.fit(X_train, y_train)\n",
    "    train_scores.append(clf1.score(X_train, y_train))\n",
    "    test_scores.append(clf1.score(X_test, y_test))\n",
    "print('Train Score: ', train_scores)\n",
    "print('Test Score: ', test_scores)"
   ]
  },
  {
   "cell_type": "code",
   "execution_count": 47,
   "metadata": {
    "scrolled": true
   },
   "outputs": [
    {
     "data": {
      "text/plain": [
       "<matplotlib.legend.Legend at 0x2b902f230dd8>"
      ]
     },
     "execution_count": 47,
     "metadata": {},
     "output_type": "execute_result"
    },
    {
     "data": {
      "image/png": "[encoded data removed]",
      "text/plain": [
       "<Figure size 720x360 with 1 Axes>"
      ]
     },
     "metadata": {
      "needs_background": "light"
     },
     "output_type": "display_data"
    }
   ],
   "source": [
    "plt.figure(figsize=(10,5))\n",
    "plt.plot(x_range, train_scores, color = 'blue', label = 'Train Scores')\n",
    "plt.plot(x_range, test_scores, color = 'green', label = 'Test Scores')\n",
    "plt.xscale('log')\n",
    "plt.legend()"
   ]
  },
  {
   "cell_type": "markdown",
   "metadata": {},
   "source": [
    "###### The best LinearSVC model uses a C hyperparameter of 10. "
   ]
  },
  {
   "cell_type": "code",
   "execution_count": 48,
   "metadata": {},
   "outputs": [
    {
     "name": "stdout",
     "output_type": "stream",
     "text": [
      "Train Score: 0.7599\n",
      "Test Score: 0.7674\n"
     ]
    }
   ],
   "source": [
    "clf1 = LinearSVC(random_state = 42, C = 10, max_iter = 10000)\n",
    "clf1.fit(X_train, y_train)\n",
    "print('Train Score: {:.4f}'.format(clf1.score(X_train, y_train)))\n",
    "print('Test Score: {:.4f}'.format(clf1.score(X_test, y_test)))"
   ]
  },
  {
   "cell_type": "markdown",
   "metadata": {},
   "source": [
    "###### Gridsearch Setup"
   ]
  },
  {
   "cell_type": "code",
   "execution_count": 49,
   "metadata": {},
   "outputs": [
    {
     "name": "stdout",
     "output_type": "stream",
     "text": [
      "Parameter grid:\n",
      "{'C': [100, 1000, 10000, 100000, 1000000], 'gamma': [0.1, 1, 10, 100]}\n"
     ]
    }
   ],
   "source": [
    "param_grid = {'C': [100,1000,10000,100000, 1000000],\n",
    "              'gamma': [0.1, 1, 10, 100]}\n",
    "print(\"Parameter grid:\\n{}\".format(param_grid))"
   ]
  },
  {
   "cell_type": "code",
   "execution_count": 50,
   "metadata": {},
   "outputs": [],
   "source": [
    "from sklearn.model_selection import GridSearchCV\n",
    "from sklearn.svm import SVC\n",
    "import seaborn as sns"
   ]
  },
  {
   "cell_type": "markdown",
   "metadata": {},
   "source": [
    "##### SVC - rbf"
   ]
  },
  {
   "cell_type": "code",
   "execution_count": 51,
   "metadata": {},
   "outputs": [],
   "source": [
    "grid_search = GridSearchCV(SVC(kernel = 'rbf'), param_grid, cv=3, return_train_score=True, n_jobs = -1)"
   ]
  },
  {
   "cell_type": "code",
   "execution_count": 52,
   "metadata": {},
   "outputs": [
    {
     "data": {
      "text/plain": [
       "GridSearchCV(cv=3, error_score='raise',\n",
       "       estimator=SVC(C=1.0, cache_size=200, class_weight=None, coef0=0.0,\n",
       "  decision_function_shape='ovr', degree=3, gamma='auto', kernel='rbf',\n",
       "  max_iter=-1, probability=False, random_state=None, shrinking=True,\n",
       "  tol=0.001, verbose=False),\n",
       "       fit_params=None, iid=True, n_jobs=-1,\n",
       "       param_grid={'C': [100, 1000, 10000, 100000, 1000000], 'gamma': [0.1, 1, 10, 100]},\n",
       "       pre_dispatch='2*n_jobs', refit=True, return_train_score=True,\n",
       "       scoring=None, verbose=0)"
      ]
     },
     "execution_count": 52,
     "metadata": {},
     "output_type": "execute_result"
    }
   ],
   "source": [
    "grid_search.fit(X_train, y_train)"
   ]
  },
  {
   "cell_type": "code",
   "execution_count": 83,
   "metadata": {},
   "outputs": [
    {
     "name": "stdout",
     "output_type": "stream",
     "text": [
      "Best parameters: {'C': 100, 'gamma': 0.1}\n",
      "Best cross-validation score: 0.76\n"
     ]
    }
   ],
   "source": [
    "print(\"Best parameters: {}\".format(grid_search.best_params_))\n",
    "print(\"Best cross-validation score: {:.2f}\".format(grid_search.best_score_))"
   ]
  },
  {
   "cell_type": "code",
   "execution_count": 53,
   "metadata": {},
   "outputs": [
    {
     "data": {
      "text/html": [
       "<div>\n",
       "<style scoped>\n",
       "    .dataframe tbody tr th:only-of-type {\n",
       "        vertical-align: middle;\n",
       "    }\n",
       "\n",
       "    .dataframe tbody tr th {\n",
       "        vertical-align: top;\n",
       "    }\n",
       "\n",
       "    .dataframe thead th {\n",
       "        text-align: right;\n",
       "    }\n",
       "</style>\n",
       "<table border=\"1\" class=\"dataframe\">\n",
       "  <thead>\n",
       "    <tr style=\"text-align: right;\">\n",
       "      <th></th>\n",
       "      <th>mean_fit_time</th>\n",
       "      <th>std_fit_time</th>\n",
       "      <th>mean_score_time</th>\n",
       "      <th>std_score_time</th>\n",
       "      <th>param_C</th>\n",
       "      <th>param_gamma</th>\n",
       "      <th>params</th>\n",
       "      <th>split0_test_score</th>\n",
       "      <th>split1_test_score</th>\n",
       "      <th>split2_test_score</th>\n",
       "      <th>mean_test_score</th>\n",
       "      <th>std_test_score</th>\n",
       "      <th>rank_test_score</th>\n",
       "      <th>split0_train_score</th>\n",
       "      <th>split1_train_score</th>\n",
       "      <th>split2_train_score</th>\n",
       "      <th>mean_train_score</th>\n",
       "      <th>std_train_score</th>\n",
       "    </tr>\n",
       "  </thead>\n",
       "  <tbody>\n",
       "    <tr>\n",
       "      <th>0</th>\n",
       "      <td>6.596365</td>\n",
       "      <td>0.953043</td>\n",
       "      <td>0.206286</td>\n",
       "      <td>0.004588</td>\n",
       "      <td>100</td>\n",
       "      <td>0.1</td>\n",
       "      <td>{'C': 100, 'gamma': 0.1}</td>\n",
       "      <td>0.759635</td>\n",
       "      <td>0.760020</td>\n",
       "      <td>0.759898</td>\n",
       "      <td>0.759851</td>\n",
       "      <td>0.000161</td>\n",
       "      <td>1</td>\n",
       "      <td>0.760974</td>\n",
       "      <td>0.760020</td>\n",
       "      <td>0.760081</td>\n",
       "      <td>0.760359</td>\n",
       "      <td>0.000436</td>\n",
       "    </tr>\n",
       "    <tr>\n",
       "      <th>1</th>\n",
       "      <td>3.329298</td>\n",
       "      <td>0.038993</td>\n",
       "      <td>0.263758</td>\n",
       "      <td>0.022418</td>\n",
       "      <td>100</td>\n",
       "      <td>1</td>\n",
       "      <td>{'C': 100, 'gamma': 1}</td>\n",
       "      <td>0.732759</td>\n",
       "      <td>0.749873</td>\n",
       "      <td>0.728426</td>\n",
       "      <td>0.737020</td>\n",
       "      <td>0.009259</td>\n",
       "      <td>9</td>\n",
       "      <td>0.814007</td>\n",
       "      <td>0.804160</td>\n",
       "      <td>0.808521</td>\n",
       "      <td>0.808896</td>\n",
       "      <td>0.004028</td>\n",
       "    </tr>\n",
       "    <tr>\n",
       "      <th>2</th>\n",
       "      <td>1.943637</td>\n",
       "      <td>0.120725</td>\n",
       "      <td>0.216342</td>\n",
       "      <td>0.003985</td>\n",
       "      <td>100</td>\n",
       "      <td>10</td>\n",
       "      <td>{'C': 100, 'gamma': 10}</td>\n",
       "      <td>0.659229</td>\n",
       "      <td>0.657027</td>\n",
       "      <td>0.659391</td>\n",
       "      <td>0.658549</td>\n",
       "      <td>0.001078</td>\n",
       "      <td>14</td>\n",
       "      <td>0.980969</td>\n",
       "      <td>0.982243</td>\n",
       "      <td>0.980472</td>\n",
       "      <td>0.981228</td>\n",
       "      <td>0.000746</td>\n",
       "    </tr>\n",
       "    <tr>\n",
       "      <th>3</th>\n",
       "      <td>1.234600</td>\n",
       "      <td>0.042922</td>\n",
       "      <td>0.369469</td>\n",
       "      <td>0.036628</td>\n",
       "      <td>100</td>\n",
       "      <td>100</td>\n",
       "      <td>{'C': 100, 'gamma': 100}</td>\n",
       "      <td>0.738844</td>\n",
       "      <td>0.739726</td>\n",
       "      <td>0.748731</td>\n",
       "      <td>0.742432</td>\n",
       "      <td>0.004467</td>\n",
       "      <td>4</td>\n",
       "      <td>1.000000</td>\n",
       "      <td>1.000000</td>\n",
       "      <td>1.000000</td>\n",
       "      <td>1.000000</td>\n",
       "      <td>0.000000</td>\n",
       "    </tr>\n",
       "    <tr>\n",
       "      <th>4</th>\n",
       "      <td>14.535922</td>\n",
       "      <td>3.044522</td>\n",
       "      <td>0.192550</td>\n",
       "      <td>0.002029</td>\n",
       "      <td>1000</td>\n",
       "      <td>0.1</td>\n",
       "      <td>{'C': 1000, 'gamma': 0.1}</td>\n",
       "      <td>0.755578</td>\n",
       "      <td>0.761035</td>\n",
       "      <td>0.757360</td>\n",
       "      <td>0.757991</td>\n",
       "      <td>0.002272</td>\n",
       "      <td>2</td>\n",
       "      <td>0.765795</td>\n",
       "      <td>0.761796</td>\n",
       "      <td>0.762871</td>\n",
       "      <td>0.763487</td>\n",
       "      <td>0.001690</td>\n",
       "    </tr>\n",
       "  </tbody>\n",
       "</table>\n",
       "</div>"
      ],
      "text/plain": [
       "   mean_fit_time  std_fit_time  mean_score_time  std_score_time param_C  \\\n",
       "0       6.596365      0.953043         0.206286        0.004588     100   \n",
       "1       3.329298      0.038993         0.263758        0.022418     100   \n",
       "2       1.943637      0.120725         0.216342        0.003985     100   \n",
       "3       1.234600      0.042922         0.369469        0.036628     100   \n",
       "4      14.535922      3.044522         0.192550        0.002029    1000   \n",
       "\n",
       "  param_gamma                     params  split0_test_score  \\\n",
       "0         0.1   {'C': 100, 'gamma': 0.1}           0.759635   \n",
       "1           1     {'C': 100, 'gamma': 1}           0.732759   \n",
       "2          10    {'C': 100, 'gamma': 10}           0.659229   \n",
       "3         100   {'C': 100, 'gamma': 100}           0.738844   \n",
       "4         0.1  {'C': 1000, 'gamma': 0.1}           0.755578   \n",
       "\n",
       "   split1_test_score  split2_test_score  mean_test_score  std_test_score  \\\n",
       "0           0.760020           0.759898         0.759851        0.000161   \n",
       "1           0.749873           0.728426         0.737020        0.009259   \n",
       "2           0.657027           0.659391         0.658549        0.001078   \n",
       "3           0.739726           0.748731         0.742432        0.004467   \n",
       "4           0.761035           0.757360         0.757991        0.002272   \n",
       "\n",
       "   rank_test_score  split0_train_score  split1_train_score  \\\n",
       "0                1            0.760974            0.760020   \n",
       "1                9            0.814007            0.804160   \n",
       "2               14            0.980969            0.982243   \n",
       "3                4            1.000000            1.000000   \n",
       "4                2            0.765795            0.761796   \n",
       "\n",
       "   split2_train_score  mean_train_score  std_train_score  \n",
       "0            0.760081          0.760359         0.000436  \n",
       "1            0.808521          0.808896         0.004028  \n",
       "2            0.980472          0.981228         0.000746  \n",
       "3            1.000000          1.000000         0.000000  \n",
       "4            0.762871          0.763487         0.001690  "
      ]
     },
     "metadata": {},
     "output_type": "display_data"
    }
   ],
   "source": [
    "# convert to DataFrame\n",
    "results = pd.DataFrame(grid_search.cv_results_)\n",
    "# show the first 5 rows\n",
    "display(results.head())"
   ]
  },
  {
   "cell_type": "code",
   "execution_count": 56,
   "metadata": {},
   "outputs": [
    {
     "data": {
      "text/plain": [
       "([<matplotlib.axis.YTick at 0x2b8fffd02e10>,\n",
       "  <matplotlib.axis.YTick at 0x2b8fffd02748>,\n",
       "  <matplotlib.axis.YTick at 0x2b8fffdcb7b8>,\n",
       "  <matplotlib.axis.YTick at 0x2b8fffd89208>,\n",
       "  <matplotlib.axis.YTick at 0x2b8fffd896a0>],\n",
       " <a list of 5 Text yticklabel objects>)"
      ]
     },
     "execution_count": 56,
     "metadata": {},
     "output_type": "execute_result"
    },
    {
     "data": {
      "image/png": "[encoded data removed]",
      "text/plain": [
       "<Figure size 360x288 with 2 Axes>"
      ]
     },
     "metadata": {
      "needs_background": "light"
     },
     "output_type": "display_data"
    }
   ],
   "source": [
    "%matplotlib inline\n",
    "\n",
    "plt.figure(figsize=(5,4))\n",
    "scores = np.array(results.mean_test_score).reshape(5, 4)\n",
    "sns.heatmap(scores, linewidths = 0.5 , cmap='viridis', annot=True)\n",
    "plt.xlabel('gamma')\n",
    "plt.ylabel('C')\n",
    "plt.xlim(0, 5)\n",
    "plt.ylim(0, 5)\n",
    "plt.xticks(np.arange(4)+0.5, [0.1, 1, 10, 100])\n",
    "plt.yticks(np.arange(5)+0.5, [100,1000,10000,100000, 1000000])"
   ]
  },
  {
   "cell_type": "markdown",
   "metadata": {},
   "source": [
    "##### SVC - linear"
   ]
  },
  {
   "cell_type": "code",
   "execution_count": 58,
   "metadata": {},
   "outputs": [],
   "source": [
    "grid_search_linear = GridSearchCV(SVC(kernel='linear'), param_grid, cv=3, return_train_score=True, n_jobs = -1)"
   ]
  },
  {
   "cell_type": "code",
   "execution_count": 59,
   "metadata": {},
   "outputs": [
    {
     "data": {
      "text/plain": [
       "GridSearchCV(cv=3, error_score='raise',\n",
       "       estimator=SVC(C=1.0, cache_size=200, class_weight=None, coef0=0.0,\n",
       "  decision_function_shape='ovr', degree=3, gamma='auto', kernel='linear',\n",
       "  max_iter=-1, probability=False, random_state=None, shrinking=True,\n",
       "  tol=0.001, verbose=False),\n",
       "       fit_params=None, iid=True, n_jobs=-1,\n",
       "       param_grid={'C': [100, 1000, 10000, 100000, 1000000], 'gamma': [0.1, 1, 10, 100]},\n",
       "       pre_dispatch='2*n_jobs', refit=True, return_train_score=True,\n",
       "       scoring=None, verbose=0)"
      ]
     },
     "execution_count": 59,
     "metadata": {},
     "output_type": "execute_result"
    }
   ],
   "source": [
    "grid_search_linear.fit(X_train, y_train)"
   ]
  },
  {
   "cell_type": "code",
   "execution_count": 60,
   "metadata": {},
   "outputs": [
    {
     "name": "stdout",
     "output_type": "stream",
     "text": [
      "Best parameters: {'C': 100, 'gamma': 0.1}\n",
      "Best cross-validation score: 0.76\n"
     ]
    }
   ],
   "source": [
    "print(\"Best parameters: {}\".format(grid_search_linear.best_params_))\n",
    "print(\"Best cross-validation score: {:.2f}\".format(grid_search_linear.best_score_))"
   ]
  },
  {
   "cell_type": "code",
   "execution_count": 62,
   "metadata": {},
   "outputs": [
    {
     "data": {
      "text/html": [
       "<div>\n",
       "<style scoped>\n",
       "    .dataframe tbody tr th:only-of-type {\n",
       "        vertical-align: middle;\n",
       "    }\n",
       "\n",
       "    .dataframe tbody tr th {\n",
       "        vertical-align: top;\n",
       "    }\n",
       "\n",
       "    .dataframe thead th {\n",
       "        text-align: right;\n",
       "    }\n",
       "</style>\n",
       "<table border=\"1\" class=\"dataframe\">\n",
       "  <thead>\n",
       "    <tr style=\"text-align: right;\">\n",
       "      <th></th>\n",
       "      <th>mean_fit_time</th>\n",
       "      <th>std_fit_time</th>\n",
       "      <th>mean_score_time</th>\n",
       "      <th>std_score_time</th>\n",
       "      <th>param_C</th>\n",
       "      <th>param_gamma</th>\n",
       "      <th>params</th>\n",
       "      <th>split0_test_score</th>\n",
       "      <th>split1_test_score</th>\n",
       "      <th>split2_test_score</th>\n",
       "      <th>mean_test_score</th>\n",
       "      <th>std_test_score</th>\n",
       "      <th>rank_test_score</th>\n",
       "      <th>split0_train_score</th>\n",
       "      <th>split1_train_score</th>\n",
       "      <th>split2_train_score</th>\n",
       "      <th>mean_train_score</th>\n",
       "      <th>std_train_score</th>\n",
       "    </tr>\n",
       "  </thead>\n",
       "  <tbody>\n",
       "    <tr>\n",
       "      <th>0</th>\n",
       "      <td>6.596365</td>\n",
       "      <td>0.953043</td>\n",
       "      <td>0.206286</td>\n",
       "      <td>0.004588</td>\n",
       "      <td>100</td>\n",
       "      <td>0.1</td>\n",
       "      <td>{'C': 100, 'gamma': 0.1}</td>\n",
       "      <td>0.759635</td>\n",
       "      <td>0.760020</td>\n",
       "      <td>0.759898</td>\n",
       "      <td>0.759851</td>\n",
       "      <td>0.000161</td>\n",
       "      <td>1</td>\n",
       "      <td>0.760974</td>\n",
       "      <td>0.760020</td>\n",
       "      <td>0.760081</td>\n",
       "      <td>0.760359</td>\n",
       "      <td>0.000436</td>\n",
       "    </tr>\n",
       "    <tr>\n",
       "      <th>1</th>\n",
       "      <td>3.329298</td>\n",
       "      <td>0.038993</td>\n",
       "      <td>0.263758</td>\n",
       "      <td>0.022418</td>\n",
       "      <td>100</td>\n",
       "      <td>1</td>\n",
       "      <td>{'C': 100, 'gamma': 1}</td>\n",
       "      <td>0.732759</td>\n",
       "      <td>0.749873</td>\n",
       "      <td>0.728426</td>\n",
       "      <td>0.737020</td>\n",
       "      <td>0.009259</td>\n",
       "      <td>9</td>\n",
       "      <td>0.814007</td>\n",
       "      <td>0.804160</td>\n",
       "      <td>0.808521</td>\n",
       "      <td>0.808896</td>\n",
       "      <td>0.004028</td>\n",
       "    </tr>\n",
       "    <tr>\n",
       "      <th>2</th>\n",
       "      <td>1.943637</td>\n",
       "      <td>0.120725</td>\n",
       "      <td>0.216342</td>\n",
       "      <td>0.003985</td>\n",
       "      <td>100</td>\n",
       "      <td>10</td>\n",
       "      <td>{'C': 100, 'gamma': 10}</td>\n",
       "      <td>0.659229</td>\n",
       "      <td>0.657027</td>\n",
       "      <td>0.659391</td>\n",
       "      <td>0.658549</td>\n",
       "      <td>0.001078</td>\n",
       "      <td>14</td>\n",
       "      <td>0.980969</td>\n",
       "      <td>0.982243</td>\n",
       "      <td>0.980472</td>\n",
       "      <td>0.981228</td>\n",
       "      <td>0.000746</td>\n",
       "    </tr>\n",
       "    <tr>\n",
       "      <th>3</th>\n",
       "      <td>1.234600</td>\n",
       "      <td>0.042922</td>\n",
       "      <td>0.369469</td>\n",
       "      <td>0.036628</td>\n",
       "      <td>100</td>\n",
       "      <td>100</td>\n",
       "      <td>{'C': 100, 'gamma': 100}</td>\n",
       "      <td>0.738844</td>\n",
       "      <td>0.739726</td>\n",
       "      <td>0.748731</td>\n",
       "      <td>0.742432</td>\n",
       "      <td>0.004467</td>\n",
       "      <td>4</td>\n",
       "      <td>1.000000</td>\n",
       "      <td>1.000000</td>\n",
       "      <td>1.000000</td>\n",
       "      <td>1.000000</td>\n",
       "      <td>0.000000</td>\n",
       "    </tr>\n",
       "    <tr>\n",
       "      <th>4</th>\n",
       "      <td>14.535922</td>\n",
       "      <td>3.044522</td>\n",
       "      <td>0.192550</td>\n",
       "      <td>0.002029</td>\n",
       "      <td>1000</td>\n",
       "      <td>0.1</td>\n",
       "      <td>{'C': 1000, 'gamma': 0.1}</td>\n",
       "      <td>0.755578</td>\n",
       "      <td>0.761035</td>\n",
       "      <td>0.757360</td>\n",
       "      <td>0.757991</td>\n",
       "      <td>0.002272</td>\n",
       "      <td>2</td>\n",
       "      <td>0.765795</td>\n",
       "      <td>0.761796</td>\n",
       "      <td>0.762871</td>\n",
       "      <td>0.763487</td>\n",
       "      <td>0.001690</td>\n",
       "    </tr>\n",
       "  </tbody>\n",
       "</table>\n",
       "</div>"
      ],
      "text/plain": [
       "   mean_fit_time  std_fit_time  mean_score_time  std_score_time param_C  \\\n",
       "0       6.596365      0.953043         0.206286        0.004588     100   \n",
       "1       3.329298      0.038993         0.263758        0.022418     100   \n",
       "2       1.943637      0.120725         0.216342        0.003985     100   \n",
       "3       1.234600      0.042922         0.369469        0.036628     100   \n",
       "4      14.535922      3.044522         0.192550        0.002029    1000   \n",
       "\n",
       "  param_gamma                     params  split0_test_score  \\\n",
       "0         0.1   {'C': 100, 'gamma': 0.1}           0.759635   \n",
       "1           1     {'C': 100, 'gamma': 1}           0.732759   \n",
       "2          10    {'C': 100, 'gamma': 10}           0.659229   \n",
       "3         100   {'C': 100, 'gamma': 100}           0.738844   \n",
       "4         0.1  {'C': 1000, 'gamma': 0.1}           0.755578   \n",
       "\n",
       "   split1_test_score  split2_test_score  mean_test_score  std_test_score  \\\n",
       "0           0.760020           0.759898         0.759851        0.000161   \n",
       "1           0.749873           0.728426         0.737020        0.009259   \n",
       "2           0.657027           0.659391         0.658549        0.001078   \n",
       "3           0.739726           0.748731         0.742432        0.004467   \n",
       "4           0.761035           0.757360         0.757991        0.002272   \n",
       "\n",
       "   rank_test_score  split0_train_score  split1_train_score  \\\n",
       "0                1            0.760974            0.760020   \n",
       "1                9            0.814007            0.804160   \n",
       "2               14            0.980969            0.982243   \n",
       "3                4            1.000000            1.000000   \n",
       "4                2            0.765795            0.761796   \n",
       "\n",
       "   split2_train_score  mean_train_score  std_train_score  \n",
       "0            0.760081          0.760359         0.000436  \n",
       "1            0.808521          0.808896         0.004028  \n",
       "2            0.980472          0.981228         0.000746  \n",
       "3            1.000000          1.000000         0.000000  \n",
       "4            0.762871          0.763487         0.001690  "
      ]
     },
     "metadata": {},
     "output_type": "display_data"
    }
   ],
   "source": [
    "# convert to DataFrame\n",
    "results_linear = pd.DataFrame(grid_search_linear.cv_results_)\n",
    "# show the first 5 rows\n",
    "display(results.head())"
   ]
  },
  {
   "cell_type": "code",
   "execution_count": 64,
   "metadata": {},
   "outputs": [
    {
     "data": {
      "text/plain": [
       "([<matplotlib.axis.YTick at 0x2b905d2e9cf8>,\n",
       "  <matplotlib.axis.YTick at 0x2b905d2e9630>,\n",
       "  <matplotlib.axis.YTick at 0x2b905d2e46a0>,\n",
       "  <matplotlib.axis.YTick at 0x2b905d345a20>,\n",
       "  <matplotlib.axis.YTick at 0x2b905d345eb8>],\n",
       " <a list of 5 Text yticklabel objects>)"
      ]
     },
     "execution_count": 64,
     "metadata": {},
     "output_type": "execute_result"
    },
    {
     "data": {
      "image/png": "[encoded data removed]",
      "text/plain": [
       "<Figure size 360x288 with 2 Axes>"
      ]
     },
     "metadata": {
      "needs_background": "light"
     },
     "output_type": "display_data"
    }
   ],
   "source": [
    "%matplotlib inline\n",
    "\n",
    "plt.figure(figsize=(5,4))\n",
    "scores = np.array(results_linear.mean_test_score).reshape(5, 4)\n",
    "sns.heatmap(scores, linewidths = 0.5 , cmap='viridis', annot=True)\n",
    "plt.xlabel('gamma')\n",
    "plt.ylabel('C')\n",
    "plt.xlim(0, 5)\n",
    "plt.ylim(0, 5)\n",
    "plt.xticks(np.arange(4)+0.5, [0.1, 1, 10, 100])\n",
    "plt.yticks(np.arange(5)+0.5, [100,1000,10000,100000, 1000000])"
   ]
  },
  {
   "cell_type": "markdown",
   "metadata": {},
   "source": [
    "##### SVC - polynomial"
   ]
  },
  {
   "cell_type": "code",
   "execution_count": 65,
   "metadata": {},
   "outputs": [],
   "source": [
    "grid_search_poly = GridSearchCV(SVC(kernel='poly', degree = 2), param_grid, cv=3, return_train_score=True, n_jobs = -1)"
   ]
  },
  {
   "cell_type": "code",
   "execution_count": 66,
   "metadata": {},
   "outputs": [
    {
     "data": {
      "text/plain": [
       "GridSearchCV(cv=3, error_score='raise',\n",
       "       estimator=SVC(C=1.0, cache_size=200, class_weight=None, coef0=0.0,\n",
       "  decision_function_shape='ovr', degree=2, gamma='auto', kernel='poly',\n",
       "  max_iter=-1, probability=False, random_state=None, shrinking=True,\n",
       "  tol=0.001, verbose=False),\n",
       "       fit_params=None, iid=True, n_jobs=-1,\n",
       "       param_grid={'C': [100, 1000, 10000, 100000, 1000000], 'gamma': [0.1, 1, 10, 100]},\n",
       "       pre_dispatch='2*n_jobs', refit=True, return_train_score=True,\n",
       "       scoring=None, verbose=0)"
      ]
     },
     "execution_count": 66,
     "metadata": {},
     "output_type": "execute_result"
    }
   ],
   "source": [
    "grid_search_poly.fit(X_train, y_train)"
   ]
  },
  {
   "cell_type": "code",
   "execution_count": 67,
   "metadata": {},
   "outputs": [
    {
     "name": "stdout",
     "output_type": "stream",
     "text": [
      "Best parameters: {'C': 100, 'gamma': 0.1}\n",
      "Best cross-validation score: 0.76\n"
     ]
    }
   ],
   "source": [
    "print(\"Best parameters: {}\".format(grid_search_poly.best_params_))\n",
    "print(\"Best cross-validation score: {:.2f}\".format(grid_search_poly.best_score_))"
   ]
  },
  {
   "cell_type": "code",
   "execution_count": 68,
   "metadata": {},
   "outputs": [
    {
     "data": {
      "text/html": [
       "<div>\n",
       "<style scoped>\n",
       "    .dataframe tbody tr th:only-of-type {\n",
       "        vertical-align: middle;\n",
       "    }\n",
       "\n",
       "    .dataframe tbody tr th {\n",
       "        vertical-align: top;\n",
       "    }\n",
       "\n",
       "    .dataframe thead th {\n",
       "        text-align: right;\n",
       "    }\n",
       "</style>\n",
       "<table border=\"1\" class=\"dataframe\">\n",
       "  <thead>\n",
       "    <tr style=\"text-align: right;\">\n",
       "      <th></th>\n",
       "      <th>mean_fit_time</th>\n",
       "      <th>std_fit_time</th>\n",
       "      <th>mean_score_time</th>\n",
       "      <th>std_score_time</th>\n",
       "      <th>param_C</th>\n",
       "      <th>param_gamma</th>\n",
       "      <th>params</th>\n",
       "      <th>split0_test_score</th>\n",
       "      <th>split1_test_score</th>\n",
       "      <th>split2_test_score</th>\n",
       "      <th>mean_test_score</th>\n",
       "      <th>std_test_score</th>\n",
       "      <th>rank_test_score</th>\n",
       "      <th>split0_train_score</th>\n",
       "      <th>split1_train_score</th>\n",
       "      <th>split2_train_score</th>\n",
       "      <th>mean_train_score</th>\n",
       "      <th>std_train_score</th>\n",
       "    </tr>\n",
       "  </thead>\n",
       "  <tbody>\n",
       "    <tr>\n",
       "      <th>0</th>\n",
       "      <td>2.875568</td>\n",
       "      <td>1.020940</td>\n",
       "      <td>0.160316</td>\n",
       "      <td>0.057383</td>\n",
       "      <td>100</td>\n",
       "      <td>0.1</td>\n",
       "      <td>{'C': 100, 'gamma': 0.1}</td>\n",
       "      <td>0.759635</td>\n",
       "      <td>0.760020</td>\n",
       "      <td>0.758883</td>\n",
       "      <td>0.759513</td>\n",
       "      <td>0.000472</td>\n",
       "      <td>1</td>\n",
       "      <td>0.759959</td>\n",
       "      <td>0.759767</td>\n",
       "      <td>0.760081</td>\n",
       "      <td>0.759936</td>\n",
       "      <td>0.000129</td>\n",
       "    </tr>\n",
       "    <tr>\n",
       "      <th>1</th>\n",
       "      <td>263.753013</td>\n",
       "      <td>10.241706</td>\n",
       "      <td>0.096876</td>\n",
       "      <td>0.000653</td>\n",
       "      <td>100</td>\n",
       "      <td>1</td>\n",
       "      <td>{'C': 100, 'gamma': 1}</td>\n",
       "      <td>0.757606</td>\n",
       "      <td>0.760020</td>\n",
       "      <td>0.756853</td>\n",
       "      <td>0.758160</td>\n",
       "      <td>0.001351</td>\n",
       "      <td>3</td>\n",
       "      <td>0.763512</td>\n",
       "      <td>0.761289</td>\n",
       "      <td>0.761349</td>\n",
       "      <td>0.762050</td>\n",
       "      <td>0.001034</td>\n",
       "    </tr>\n",
       "    <tr>\n",
       "      <th>2</th>\n",
       "      <td>3431.200642</td>\n",
       "      <td>533.321178</td>\n",
       "      <td>0.097169</td>\n",
       "      <td>0.012664</td>\n",
       "      <td>100</td>\n",
       "      <td>10</td>\n",
       "      <td>{'C': 100, 'gamma': 10}</td>\n",
       "      <td>0.758114</td>\n",
       "      <td>0.756469</td>\n",
       "      <td>0.753807</td>\n",
       "      <td>0.756131</td>\n",
       "      <td>0.001774</td>\n",
       "      <td>9</td>\n",
       "      <td>0.764527</td>\n",
       "      <td>0.763318</td>\n",
       "      <td>0.763885</td>\n",
       "      <td>0.763910</td>\n",
       "      <td>0.000494</td>\n",
       "    </tr>\n",
       "    <tr>\n",
       "      <th>3</th>\n",
       "      <td>26272.173627</td>\n",
       "      <td>4492.631993</td>\n",
       "      <td>0.076958</td>\n",
       "      <td>0.001076</td>\n",
       "      <td>100</td>\n",
       "      <td>100</td>\n",
       "      <td>{'C': 100, 'gamma': 100}</td>\n",
       "      <td>0.746450</td>\n",
       "      <td>0.749366</td>\n",
       "      <td>0.729949</td>\n",
       "      <td>0.741925</td>\n",
       "      <td>0.008548</td>\n",
       "      <td>14</td>\n",
       "      <td>0.764527</td>\n",
       "      <td>0.754693</td>\n",
       "      <td>0.758306</td>\n",
       "      <td>0.759175</td>\n",
       "      <td>0.004061</td>\n",
       "    </tr>\n",
       "    <tr>\n",
       "      <th>4</th>\n",
       "      <td>25.561656</td>\n",
       "      <td>13.974300</td>\n",
       "      <td>0.124726</td>\n",
       "      <td>0.010668</td>\n",
       "      <td>1000</td>\n",
       "      <td>0.1</td>\n",
       "      <td>{'C': 1000, 'gamma': 0.1}</td>\n",
       "      <td>0.758621</td>\n",
       "      <td>0.760020</td>\n",
       "      <td>0.758376</td>\n",
       "      <td>0.759006</td>\n",
       "      <td>0.000724</td>\n",
       "      <td>2</td>\n",
       "      <td>0.761989</td>\n",
       "      <td>0.760274</td>\n",
       "      <td>0.760842</td>\n",
       "      <td>0.761035</td>\n",
       "      <td>0.000713</td>\n",
       "    </tr>\n",
       "  </tbody>\n",
       "</table>\n",
       "</div>"
      ],
      "text/plain": [
       "   mean_fit_time  std_fit_time  mean_score_time  std_score_time param_C  \\\n",
       "0       2.875568      1.020940         0.160316        0.057383     100   \n",
       "1     263.753013     10.241706         0.096876        0.000653     100   \n",
       "2    3431.200642    533.321178         0.097169        0.012664     100   \n",
       "3   26272.173627   4492.631993         0.076958        0.001076     100   \n",
       "4      25.561656     13.974300         0.124726        0.010668    1000   \n",
       "\n",
       "  param_gamma                     params  split0_test_score  \\\n",
       "0         0.1   {'C': 100, 'gamma': 0.1}           0.759635   \n",
       "1           1     {'C': 100, 'gamma': 1}           0.757606   \n",
       "2          10    {'C': 100, 'gamma': 10}           0.758114   \n",
       "3         100   {'C': 100, 'gamma': 100}           0.746450   \n",
       "4         0.1  {'C': 1000, 'gamma': 0.1}           0.758621   \n",
       "\n",
       "   split1_test_score  split2_test_score  mean_test_score  std_test_score  \\\n",
       "0           0.760020           0.758883         0.759513        0.000472   \n",
       "1           0.760020           0.756853         0.758160        0.001351   \n",
       "2           0.756469           0.753807         0.756131        0.001774   \n",
       "3           0.749366           0.729949         0.741925        0.008548   \n",
       "4           0.760020           0.758376         0.759006        0.000724   \n",
       "\n",
       "   rank_test_score  split0_train_score  split1_train_score  \\\n",
       "0                1            0.759959            0.759767   \n",
       "1                3            0.763512            0.761289   \n",
       "2                9            0.764527            0.763318   \n",
       "3               14            0.764527            0.754693   \n",
       "4                2            0.761989            0.760274   \n",
       "\n",
       "   split2_train_score  mean_train_score  std_train_score  \n",
       "0            0.760081          0.759936         0.000129  \n",
       "1            0.761349          0.762050         0.001034  \n",
       "2            0.763885          0.763910         0.000494  \n",
       "3            0.758306          0.759175         0.004061  \n",
       "4            0.760842          0.761035         0.000713  "
      ]
     },
     "metadata": {},
     "output_type": "display_data"
    }
   ],
   "source": [
    "# convert to DataFrame\n",
    "results_poly = pd.DataFrame(grid_search_poly.cv_results_)\n",
    "# show the first 5 rows\n",
    "display(results_poly.head())"
   ]
  },
  {
   "cell_type": "code",
   "execution_count": 69,
   "metadata": {},
   "outputs": [
    {
     "data": {
      "text/plain": [
       "([<matplotlib.axis.YTick at 0x2b905d22c7b8>,\n",
       "  <matplotlib.axis.YTick at 0x2b905d22c0f0>,\n",
       "  <matplotlib.axis.YTick at 0x2b902f9e8f28>,\n",
       "  <matplotlib.axis.YTick at 0x2b905d3d67b8>,\n",
       "  <matplotlib.axis.YTick at 0x2b905d3d6c50>],\n",
       " <a list of 5 Text yticklabel objects>)"
      ]
     },
     "execution_count": 69,
     "metadata": {},
     "output_type": "execute_result"
    },
    {
     "data": {
      "image/png": "[encoded data removed]",
      "text/plain": [
       "<Figure size 360x288 with 2 Axes>"
      ]
     },
     "metadata": {
      "needs_background": "light"
     },
     "output_type": "display_data"
    }
   ],
   "source": [
    "%matplotlib inline\n",
    "\n",
    "plt.figure(figsize=(5,4))\n",
    "scores = np.array(results_poly.mean_test_score).reshape(5, 4)\n",
    "sns.heatmap(scores, linewidths = 0.5 , cmap='viridis', annot=True)\n",
    "plt.xlabel('gamma')\n",
    "plt.ylabel('C')\n",
    "plt.xlim(0, 5)\n",
    "plt.ylim(0, 5)\n",
    "plt.xticks(np.arange(4)+0.5, [0.1, 1, 10, 100])\n",
    "plt.yticks(np.arange(5)+0.5, [100,1000,10000,100000, 1000000])"
   ]
  },
  {
   "cell_type": "code",
   "execution_count": 70,
   "metadata": {},
   "outputs": [
    {
     "data": {
      "text/plain": [
       "0.7495433789954338"
      ]
     },
     "execution_count": 70,
     "metadata": {},
     "output_type": "execute_result"
    }
   ],
   "source": [
    "scores.mean()"
   ]
  },
  {
   "cell_type": "markdown",
   "metadata": {},
   "source": [
    "##### Final Model\n",
    "The best model was Logistic Regressoin with a hyperparameter C = 10 and using L1 regularization"
   ]
  },
  {
   "cell_type": "code",
   "execution_count": 74,
   "metadata": {},
   "outputs": [
    {
     "name": "stdout",
     "output_type": "stream",
     "text": [
      "0.7590055809233891\n",
      "0.7633536173089925\n"
     ]
    }
   ],
   "source": [
    "log_l1 = LogisticRegression(penalty = 'l1', C = 10, solver = 'liblinear', max_iter = 5000, random_state=42)\n",
    "log_l1.fit(X, y)\n",
    "y_pred = log_l1.predict(X_test)\n",
    "print(log_l1.score(X_train, y_train))\n",
    "print(log_l1.score(X_test, y_test))"
   ]
  },
  {
   "cell_type": "code",
   "execution_count": 75,
   "metadata": {},
   "outputs": [
    {
     "name": "stdout",
     "output_type": "stream",
     "text": [
      "Cross-validation scores: [0.76132522 0.75997295 0.76116373 0.76522327 0.75845737]\n",
      "Average cross-validation score: 0.76\n"
     ]
    }
   ],
   "source": [
    "from sklearn.model_selection import cross_val_score\n",
    "\n",
    "scores = cross_val_score(log_l1, X, y, cv=5)\n",
    "print(\"Cross-validation scores: {}\".format(scores))\n",
    "print(\"Average cross-validation score: {:.2f}\".format(scores.mean()))"
   ]
  },
  {
   "cell_type": "code",
   "execution_count": 76,
   "metadata": {},
   "outputs": [],
   "source": [
    "from sklearn.model_selection import KFold\n",
    "kfold = KFold(n_splits=3)"
   ]
  },
  {
   "cell_type": "code",
   "execution_count": 78,
   "metadata": {},
   "outputs": [
    {
     "name": "stdout",
     "output_type": "stream",
     "text": [
      "Cross-validation scores:\n",
      "[0.76217532 0.76907468 0.75324675]\n"
     ]
    }
   ],
   "source": [
    "print(\"Cross-validation scores:\\n{}\".format(cross_val_score(log_l1, X, y, cv=kfold)))"
   ]
  },
  {
   "cell_type": "code",
   "execution_count": 79,
   "metadata": {},
   "outputs": [
    {
     "name": "stdout",
     "output_type": "stream",
     "text": [
      "Number of cv iterations:  7392\n",
      "Mean accuracy: 0.76\n",
      "[1. 1. 1. ... 1. 0. 0.]\n"
     ]
    }
   ],
   "source": [
    "from sklearn.model_selection import LeaveOneOut\n",
    "loo = LeaveOneOut()\n",
    "scores = cross_val_score(log_l1, X, y, cv=loo)\n",
    "print(\"Number of cv iterations: \", len(scores))\n",
    "print(\"Mean accuracy: {:.2f}\".format(scores.mean()))\n",
    "print(scores)"
   ]
  },
  {
   "cell_type": "code",
   "execution_count": 81,
   "metadata": {},
   "outputs": [
    {
     "name": "stdout",
     "output_type": "stream",
     "text": [
      "Confusion matrix:\n",
      "[[   8  337]\n",
      " [  13 1121]]\n"
     ]
    }
   ],
   "source": [
    "from sklearn.metrics import confusion_matrix\n",
    "\n",
    "confusion = confusion_matrix(y_test, y_pred)\n",
    "print(\"Confusion matrix:\\n{}\".format(confusion))\n"
   ]
  },
  {
   "cell_type": "code",
   "execution_count": 82,
   "metadata": {},
   "outputs": [
    {
     "name": "stdout",
     "output_type": "stream",
     "text": [
      "             precision    recall  f1-score   support\n",
      "\n",
      "Charged Off       0.38      0.02      0.04       345\n",
      " Fully Paid       0.77      0.99      0.86      1134\n",
      "\n",
      "avg / total       0.68      0.76      0.67      1479\n",
      "\n"
     ]
    }
   ],
   "source": [
    "from sklearn.metrics import classification_report\n",
    "print(classification_report(y_test, y_pred, target_names=[\"Charged Off\", \"Fully Paid\"]))"
   ]
  }
 ],
 "metadata": {
  "kernelspec": {
   "display_name": "Python 3",
   "language": "python",
   "name": "python3"
  },
  "language_info": {
   "codemirror_mode": {
    "name": "ipython",
    "version": 3
   },
   "file_extension": ".py",
   "mimetype": "text/x-python",
   "name": "python",
   "nbconvert_exporter": "python",
   "pygments_lexer": "ipython3",
   "version": "3.8.8"
  }
 },
 "nbformat": 4,
 "nbformat_minor": 2
}
