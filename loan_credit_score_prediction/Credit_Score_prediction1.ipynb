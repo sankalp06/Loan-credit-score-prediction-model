{
 "cells": [
  {
   "cell_type": "code",
   "execution_count": 4,
   "metadata": {},
   "outputs": [],
   "source": [
    "import pandas as pd\n",
    "import numpy as np\n",
    "import random\n",
    "import matplotlib.pyplot as plt\n",
    "from sklearn.preprocessing import LabelEncoder\n",
    "from sklearn.metrics import accuracy_score\n",
    "from sklearn.metrics import confusion_matrix"
   ]
  },
  {
   "cell_type": "code",
   "execution_count": 5,
   "metadata": {},
   "outputs": [],
   "source": [
    "df = pd.read_csv(\"credit_loan_data_clean.csv\")"
   ]
  },
  {
   "cell_type": "code",
   "execution_count": 6,
   "metadata": {},
   "outputs": [
    {
     "data": {
      "text/plain": [
       "(7392, 20)"
      ]
     },
     "execution_count": 6,
     "metadata": {},
     "output_type": "execute_result"
    }
   ],
   "source": [
    "df.shape"
   ]
  },
  {
   "cell_type": "code",
   "execution_count": 7,
   "metadata": {},
   "outputs": [
    {
     "name": "stdout",
     "output_type": "stream",
     "text": [
      "<class 'pandas.core.frame.DataFrame'>\n",
      "RangeIndex: 7392 entries, 0 to 7391\n",
      "Data columns (total 20 columns):\n",
      "Unnamed: 0                      7392 non-null int64\n",
      "Loan Status                     7392 non-null int64\n",
      "Current Loan Amount             7392 non-null int64\n",
      "Credit Score                    7392 non-null int64\n",
      "Annual Income                   7392 non-null int64\n",
      "Years in current job            7392 non-null int64\n",
      "Monthly Debt                    7392 non-null float64\n",
      "Years of Credit History         7392 non-null float64\n",
      "Number of Open Accounts         7392 non-null int64\n",
      "Number of Credit Problems       7392 non-null int64\n",
      "Current Credit Balance          7392 non-null int64\n",
      "Maximum Open Credit             7392 non-null int64\n",
      "Bankruptcies                    7392 non-null int64\n",
      "Tax Liens                       7392 non-null int64\n",
      "Term_Long Term                  7392 non-null int64\n",
      "Term_Short Term                 7392 non-null int64\n",
      "Home Ownership_HaveMortgage     7392 non-null int64\n",
      "Home Ownership_Home Mortgage    7392 non-null int64\n",
      "Home Ownership_Own Home         7392 non-null int64\n",
      "Home Ownership_Rent             7392 non-null int64\n",
      "dtypes: float64(2), int64(18)\n",
      "memory usage: 1.1 MB\n"
     ]
    }
   ],
   "source": [
    "\n",
    "df.info()"
   ]
  },
  {
   "cell_type": "markdown",
   "metadata": {},
   "source": [
    "##### Splitting data into Training & Test"
   ]
  },
  {
   "cell_type": "code",
   "execution_count": 8,
   "metadata": {},
   "outputs": [],
   "source": [
    "y = df['Loan Status']\n",
    "X = df.drop(['Loan Status'],axis=1)"
   ]
  },
  {
   "cell_type": "markdown",
   "metadata": {},
   "source": [
    "###### Min Max Scaler"
   ]
  },
  {
   "cell_type": "code",
   "execution_count": 9,
   "metadata": {},
   "outputs": [],
   "source": [
    "from sklearn.preprocessing import MinMaxScaler\n",
    "from sklearn.model_selection import train_test_split"
   ]
  },
  {
   "cell_type": "code",
   "execution_count": 10,
   "metadata": {},
   "outputs": [],
   "source": [
    "X_train_org, X_test_org, y_train, y_test = train_test_split(X, y, random_state = 42, test_size = 0.2)\n",
    "\n",
    "scaler = MinMaxScaler()\n",
    "X_train = scaler.fit_transform(X_train_org)\n",
    "X_test = scaler.transform(X_test_org)"
   ]
  },
  {
   "cell_type": "code",
   "execution_count": 11,
   "metadata": {},
   "outputs": [
    {
     "name": "stderr",
     "output_type": "stream",
     "text": [
      "/opt/ohpc/pub/apps/anaconda3/lib/python3.7/site-packages/sklearn/ensemble/weight_boosting.py:29: DeprecationWarning: numpy.core.umath_tests is an internal NumPy module and should not be imported. It will be removed in a future NumPy release.\n",
      "  from numpy.core.umath_tests import inner1d\n"
     ]
    }
   ],
   "source": [
    "from sklearn.tree import DecisionTreeClassifier\n",
    "from sklearn.linear_model import LogisticRegression\n",
    "from sklearn.svm import SVC\n",
    "\n",
    "from sklearn.ensemble import VotingClassifier"
   ]
  },
  {
   "cell_type": "code",
   "execution_count": 12,
   "metadata": {},
   "outputs": [
    {
     "name": "stdout",
     "output_type": "stream",
     "text": [
      "Accuracy on training set using Logistic Regression model: 0.7599\n",
      "Accuracy on test set using Logistic Regression model: 0.7688\n"
     ]
    }
   ],
   "source": [
    "log_clf = LogisticRegression(penalty = 'l1', C = 10, solver = 'liblinear', max_iter = 5000, random_state=42)\n",
    "log_clf.fit(X_train, y_train)\n",
    "y_pred = log_clf.predict(X_test)\n",
    "\n",
    "print(\"Accuracy on training set using Logistic Regression model: {:.4f}\".format(log_clf.score(X_train, y_train)))\n",
    "print(\"Accuracy on test set using Logistic Regression model: {:.4f}\".format(log_clf.score(X_test, y_test)))"
   ]
  },
  {
   "cell_type": "code",
   "execution_count": 13,
   "metadata": {},
   "outputs": [
    {
     "name": "stdout",
     "output_type": "stream",
     "text": [
      "Accuracy on training set using Decision Tree Model: 0.7610\n",
      "Accuracy on test set using Decision Tree Model: 0.7661\n"
     ]
    }
   ],
   "source": [
    "dtree_clf = DecisionTreeClassifier(max_depth=4, random_state=42)\n",
    "dtree_clf.fit(X_train, y_train)\n",
    "\n",
    "print(\"Accuracy on training set using Decision Tree Model: {:.4f}\".format(dtree_clf.score(X_train, y_train)))\n",
    "print(\"Accuracy on test set using Decision Tree Model: {:.4f}\".format(dtree_clf.score(X_test, y_test)))"
   ]
  },
  {
   "cell_type": "code",
   "execution_count": 14,
   "metadata": {},
   "outputs": [
    {
     "name": "stdout",
     "output_type": "stream",
     "text": [
      "Accuracy on training set using SVC Model: 0.7605\n",
      "Accuracy on test set using  SVC Model: 0.7667\n"
     ]
    }
   ],
   "source": [
    "svc_clf = SVC(C = 100, gamma = 0.1, probability = True, random_state= 42)\n",
    "svc_clf.fit(X_train, y_train)\n",
    "print('Accuracy on training set using SVC Model: {:.4f}'.format(svc_clf.score(X_train, y_train)))\n",
    "print('Accuracy on test set using  SVC Model: {:.4f}'.format(svc_clf.score(X_test, y_test)))"
   ]
  },
  {
   "cell_type": "code",
   "execution_count": 15,
   "metadata": {},
   "outputs": [
    {
     "name": "stdout",
     "output_type": "stream",
     "text": [
      "LogisticRegression 0.7688\n",
      "DecisionTreeClassifier 0.7661\n",
      "SVC 0.7667\n",
      "VotingClassifier 0.7667\n"
     ]
    },
    {
     "name": "stderr",
     "output_type": "stream",
     "text": [
      "/opt/ohpc/pub/apps/anaconda3/lib/python3.7/site-packages/sklearn/preprocessing/label.py:151: DeprecationWarning: The truth value of an empty array is ambiguous. Returning False, but in future this will result in an error. Use `array.size > 0` to check that an array is not empty.\n",
      "  if diff:\n"
     ]
    }
   ],
   "source": [
    "voting_hard_clf = VotingClassifier(estimators=[('lr', log_clf), ('dt', dtree_clf), ('svc', svc_clf)], voting='hard')\n",
    "voting_hard_clf.fit(X_train, y_train)\n",
    "\n",
    "from sklearn.metrics import accuracy_score\n",
    "for clf in (log_clf, dtree_clf, svc_clf, voting_hard_clf):\n",
    "    clf.fit(X_train, y_train)\n",
    "    y_pred = clf.predict(X_test)\n",
    "    print(clf.__class__.__name__, '%.4f'%accuracy_score(y_test, y_pred))"
   ]
  },
  {
   "cell_type": "code",
   "execution_count": 16,
   "metadata": {},
   "outputs": [
    {
     "name": "stdout",
     "output_type": "stream",
     "text": [
      "LogisticRegression 0.7688\n",
      "DecisionTreeClassifier 0.7661\n",
      "SVC 0.7667\n",
      "VotingClassifier 0.7667\n"
     ]
    },
    {
     "name": "stderr",
     "output_type": "stream",
     "text": [
      "/opt/ohpc/pub/apps/anaconda3/lib/python3.7/site-packages/sklearn/preprocessing/label.py:151: DeprecationWarning: The truth value of an empty array is ambiguous. Returning False, but in future this will result in an error. Use `array.size > 0` to check that an array is not empty.\n",
      "  if diff:\n"
     ]
    }
   ],
   "source": [
    "voting_soft_clf = VotingClassifier(estimators=[('lr', log_clf), ('dt', dtree_clf), ('svc', svc_clf)], voting='soft')\n",
    "voting_soft_clf.fit(X_train, y_train)\n",
    "\n",
    "for clf in (log_clf, dtree_clf, svc_clf, voting_soft_clf):\n",
    "    clf.fit(X_train, y_train)\n",
    "    y_pred = clf.predict(X_test)\n",
    "    print(clf.__class__.__name__, '%.4f'%accuracy_score(y_test, y_pred))"
   ]
  },
  {
   "cell_type": "markdown",
   "metadata": {},
   "source": [
    "##### Soft Voting and Hard Voting results are the same for this dataset"
   ]
  },
  {
   "cell_type": "markdown",
   "metadata": {},
   "source": [
    "# Applying Decision Tree model with Bagging Classifier"
   ]
  },
  {
   "cell_type": "code",
   "execution_count": 17,
   "metadata": {},
   "outputs": [],
   "source": [
    "from sklearn.ensemble import BaggingClassifier\n",
    "\n",
    "bag_clf = BaggingClassifier(dtree_clf, n_estimators=500, max_samples=100, bootstrap=True, random_state=42, oob_score = True)\n",
    "\n",
    "bag_clf.fit(X_train, y_train)\n",
    "y_pred = bag_clf.predict(X_test)"
   ]
  },
  {
   "cell_type": "code",
   "execution_count": 18,
   "metadata": {},
   "outputs": [
    {
     "name": "stdout",
     "output_type": "stream",
     "text": [
      "Train score of Decision Tree model with Bagging Classifier: 0.7597\n",
      "Test score of Decision Tree model with Bagging Classifier: 0.7667\n",
      "Out-of-bag score: 0.7597\n"
     ]
    }
   ],
   "source": [
    "print('Train score of Decision Tree model with Bagging Classifier: %.4f'%bag_clf.score(X_train, y_train))\n",
    "print('Test score of Decision Tree model with Bagging Classifier: %.4f'%bag_clf.score(X_test, y_test))\n",
    "print('Out-of-bag score: %.4f'%bag_clf.oob_score_)"
   ]
  },
  {
   "cell_type": "markdown",
   "metadata": {},
   "source": [
    "# Applying Logistic Regression model with Bagging Classifier"
   ]
  },
  {
   "cell_type": "code",
   "execution_count": 19,
   "metadata": {},
   "outputs": [],
   "source": [
    "from sklearn.ensemble import BaggingClassifier\n",
    "\n",
    "bag_log = BaggingClassifier(log_clf, n_estimators=500, max_samples=100, bootstrap=True, random_state=42, oob_score = True)\n",
    "\n",
    "bag_log.fit(X_train, y_train)\n",
    "y_pred = bag_log.predict(X_test)"
   ]
  },
  {
   "cell_type": "code",
   "execution_count": 20,
   "metadata": {},
   "outputs": [
    {
     "name": "stdout",
     "output_type": "stream",
     "text": [
      "Train score of Logistic Regression model with Bagging Classifier: 0.7595\n",
      "Test score Logistic Regression model with Bagging Classifier: 0.7688\n",
      "Out-of-bag score: 0.76\n"
     ]
    }
   ],
   "source": [
    "print('Train score of Logistic Regression model with Bagging Classifier: %.4f'%bag_log.score(X_train, y_train))\n",
    "print('Test score Logistic Regression model with Bagging Classifier: %.4f'%bag_log.score(X_test, y_test))\n",
    "print('Out-of-bag score: %.2f'%bag_log.oob_score_)"
   ]
  },
  {
   "cell_type": "markdown",
   "metadata": {},
   "source": [
    "# Applying Decision Tree model with Pasting Classifier"
   ]
  },
  {
   "cell_type": "code",
   "execution_count": 21,
   "metadata": {},
   "outputs": [],
   "source": [
    "from sklearn.ensemble import BaggingClassifier\n",
    "from sklearn.tree import DecisionTreeClassifier\n",
    "\n",
    "pas_clf = BaggingClassifier(dtree_clf, n_estimators=100, max_samples=500, bootstrap=False, random_state=0)\n",
    "\n",
    "pas_clf.fit(X_train, y_train)\n",
    "y_pred = pas_clf.predict(X_test)"
   ]
  },
  {
   "cell_type": "code",
   "execution_count": 22,
   "metadata": {},
   "outputs": [
    {
     "name": "stdout",
     "output_type": "stream",
     "text": [
      "Train score of Decision Tree model with Pasting Classifier: 0.7607\n",
      "Test score of Decision Tree model with Pasting Classifier: 0.7661\n"
     ]
    }
   ],
   "source": [
    "print('Train score of Decision Tree model with Pasting Classifier: %.4f'%pas_clf.score(X_train, y_train))\n",
    "print('Test score of Decision Tree model with Pasting Classifier: %.4f'%pas_clf.score(X_test, y_test))"
   ]
  },
  {
   "cell_type": "markdown",
   "metadata": {},
   "source": [
    "# Applying Logistic Regression model with Pasting Classifier"
   ]
  },
  {
   "cell_type": "code",
   "execution_count": 23,
   "metadata": {},
   "outputs": [],
   "source": [
    "from sklearn.ensemble import BaggingClassifier\n",
    "\n",
    "pas_log = BaggingClassifier(log_clf, n_estimators=500, max_samples=100, bootstrap=False, random_state=42)\n",
    "\n",
    "pas_log.fit(X_train, y_train)\n",
    "y_pred = pas_log.predict(X_test)"
   ]
  },
  {
   "cell_type": "code",
   "execution_count": 24,
   "metadata": {},
   "outputs": [
    {
     "name": "stdout",
     "output_type": "stream",
     "text": [
      "Train score of Logistic Regression model with Pasting Classifie: 0.7599\n",
      "Test score of Logistic Regression model with Pasting Classifie: 0.7674\n"
     ]
    }
   ],
   "source": [
    "print('Train score of Logistic Regression model with Pasting Classifie: %.4f'%pas_log.score(X_train, y_train))\n",
    "print('Test score of Logistic Regression model with Pasting Classifie: %.4f'%pas_log.score(X_test, y_test))"
   ]
  },
  {
   "cell_type": "markdown",
   "metadata": {},
   "source": [
    "# Applying SVC model with AdaBoosting Classifier"
   ]
  },
  {
   "cell_type": "code",
   "execution_count": 25,
   "metadata": {},
   "outputs": [],
   "source": [
    "from sklearn.ensemble import AdaBoostClassifier\n",
    "\n",
    "svc=SVC(probability=True, kernel='linear')\n",
    "\n",
    "ab =AdaBoostClassifier(n_estimators=50, base_estimator=svc,learning_rate=1, random_state=42)\n",
    "\n",
    "ab_model = ab.fit(X_train, y_train)\n",
    "\n",
    "y_pred = ab_model.predict(X_test)"
   ]
  },
  {
   "cell_type": "code",
   "execution_count": 26,
   "metadata": {},
   "outputs": [
    {
     "name": "stdout",
     "output_type": "stream",
     "text": [
      "Train score of SVC model with AdaBoosting Classifier: 0.7599\n",
      "Test score of SVC model with AdaBoosting Classifier: 0.7667\n"
     ]
    }
   ],
   "source": [
    "print('Train score of SVC model with AdaBoosting Classifier: %.4f'%ab.score(X_train, y_train))\n",
    "print('Test score of SVC model with AdaBoosting Classifier: %.4f'%ab.score(X_test, y_test))"
   ]
  },
  {
   "cell_type": "markdown",
   "metadata": {},
   "source": [
    "# Applying Decision Tree model with AdaBoosting Classifier"
   ]
  },
  {
   "cell_type": "code",
   "execution_count": 27,
   "metadata": {},
   "outputs": [],
   "source": [
    "ab_dt =AdaBoostClassifier(n_estimators=50, base_estimator=dtree_clf,learning_rate=1, random_state=42)\n",
    "\n",
    "ab_dt_model = ab_dt.fit(X_train, y_train)\n",
    "\n",
    "y_pred = ab_dt_model.predict(X_test)"
   ]
  },
  {
   "cell_type": "code",
   "execution_count": 28,
   "metadata": {},
   "outputs": [
    {
     "name": "stdout",
     "output_type": "stream",
     "text": [
      "Train score of Decision Tree model with AdaBoosting Classifier: 0.8840\n",
      "Test score of Decision Tree model with AdaBoosting Classifier: 0.6876\n"
     ]
    }
   ],
   "source": [
    "print('Train score of Decision Tree model with AdaBoosting Classifier: %.4f'%ab_dt.score(X_train, y_train))\n",
    "print('Test score of Decision Tree model with AdaBoosting Classifier: %.4f'%ab_dt.score(X_test, y_test))"
   ]
  },
  {
   "cell_type": "markdown",
   "metadata": {},
   "source": [
    "# Gradient Boosting"
   ]
  },
  {
   "cell_type": "code",
   "execution_count": 29,
   "metadata": {},
   "outputs": [
    {
     "name": "stdout",
     "output_type": "stream",
     "text": [
      "Accuracy on training set: 0.763\n",
      "Accuracy on test set: 0.763\n"
     ]
    }
   ],
   "source": [
    "from  sklearn.ensemble import GradientBoostingClassifier\n",
    "\n",
    "gbrt = GradientBoostingClassifier(max_depth=2, n_estimators=100, learning_rate=0.1, random_state=42)\n",
    "\n",
    "gbrt.fit(X_train, y_train)\n",
    "\n",
    "print(\"Accuracy on training set: {:.3f}\".format(gbrt.score(X_train, y_train)))\n",
    "print(\"Accuracy on test set: {:.3f}\".format(gbrt.score(X_test, y_test)))"
   ]
  },
  {
   "cell_type": "markdown",
   "metadata": {},
   "source": [
    "# Gradient Boosting Feature Importance"
   ]
  },
  {
   "cell_type": "code",
   "execution_count": 30,
   "metadata": {},
   "outputs": [
    {
     "data": {
      "text/plain": [
       "([<matplotlib.axis.YTick at 0x2ab4cbe99748>,\n",
       "  <matplotlib.axis.YTick at 0x2ab4cbe99080>,\n",
       "  <matplotlib.axis.YTick at 0x2ab4cbe74a20>,\n",
       "  <matplotlib.axis.YTick at 0x2ab4cbee9dd8>,\n",
       "  <matplotlib.axis.YTick at 0x2ab4cbef7320>,\n",
       "  <matplotlib.axis.YTick at 0x2ab4cbef7828>,\n",
       "  <matplotlib.axis.YTick at 0x2ab4cbef7d30>,\n",
       "  <matplotlib.axis.YTick at 0x2ab4cbef7128>,\n",
       "  <matplotlib.axis.YTick at 0x2ab4cbeff390>,\n",
       "  <matplotlib.axis.YTick at 0x2ab4cbeff898>,\n",
       "  <matplotlib.axis.YTick at 0x2ab4cbeffda0>,\n",
       "  <matplotlib.axis.YTick at 0x2ab4cbf062e8>,\n",
       "  <matplotlib.axis.YTick at 0x2ab4cbf067f0>,\n",
       "  <matplotlib.axis.YTick at 0x2ab4cbf06cf8>,\n",
       "  <matplotlib.axis.YTick at 0x2ab4cbf0f240>,\n",
       "  <matplotlib.axis.YTick at 0x2ab4cbf06668>,\n",
       "  <matplotlib.axis.YTick at 0x2ab4cbeff7f0>,\n",
       "  <matplotlib.axis.YTick at 0x2ab4cbf0f400>,\n",
       "  <matplotlib.axis.YTick at 0x2ab4cbf0fbe0>],\n",
       " <a list of 19 Text yticklabel objects>)"
      ]
     },
     "execution_count": 30,
     "metadata": {},
     "output_type": "execute_result"
    },
    {
     "data": {
      "image/png": "[encoded data removed]",
      "text/plain": [
       "<Figure size 1440x720 with 1 Axes>"
      ]
     },
     "metadata": {
      "needs_background": "light"
     },
     "output_type": "display_data"
    }
   ],
   "source": [
    "%matplotlib inline\n",
    "\n",
    "plt.subplots(figsize = (20,10))\n",
    "y_list = gbrt.feature_importances_\n",
    "y_pos = np.arange(len(y_list))\n",
    "features = df.columns\n",
    "plt.barh(y_pos, y_list, align='center', alpha=0.4)\n",
    "plt.yticks(y_pos, features)"
   ]
  },
  {
   "cell_type": "markdown",
   "metadata": {},
   "source": [
    "#### As per this chart Credit Score is the most important feature in Gradient Boosting classifier"
   ]
  },
  {
   "cell_type": "markdown",
   "metadata": {},
   "source": [
    "# Applying PCA on data"
   ]
  },
  {
   "cell_type": "code",
   "execution_count": 31,
   "metadata": {},
   "outputs": [],
   "source": [
    "from sklearn.decomposition import PCA\n",
    "\n",
    "# reduce the dimensionality\n",
    "pca = PCA(n_components= 0.95)\n",
    "X_train_pca = pca.fit_transform(X_train)\n",
    "X_test_pca = pca.transform(X_test)"
   ]
  },
  {
   "cell_type": "code",
   "execution_count": 32,
   "metadata": {},
   "outputs": [
    {
     "name": "stdout",
     "output_type": "stream",
     "text": [
      "2\n",
      "(5913, 7)\n"
     ]
    }
   ],
   "source": [
    "print(X_train_pca.ndim)\n",
    "print(X_train_pca.shape)"
   ]
  },
  {
   "cell_type": "markdown",
   "metadata": {},
   "source": [
    "#### Number of features after applying PCA on data is 7"
   ]
  },
  {
   "cell_type": "markdown",
   "metadata": {},
   "source": [
    "# Applying classification models on the data from PCA:"
   ]
  },
  {
   "cell_type": "markdown",
   "metadata": {},
   "source": [
    "## K Nearest Neighbors Classifier"
   ]
  },
  {
   "cell_type": "code",
   "execution_count": 33,
   "metadata": {},
   "outputs": [],
   "source": [
    "from sklearn.neighbors import KNeighborsClassifier\n",
    "\n",
    "train_score_array = []\n",
    "test_score_array = []\n",
    "\n",
    "for k in range(1,25):\n",
    "    knn = KNeighborsClassifier(k)\n",
    "    knn.fit(X_train_pca, y_train)\n",
    "    train_score_array.append(knn.score(X_train_pca, y_train))\n",
    "    test_score_array.append(knn.score(X_test_pca, y_test))"
   ]
  },
  {
   "cell_type": "code",
   "execution_count": 34,
   "metadata": {},
   "outputs": [
    {
     "data": {
      "text/plain": [
       "<matplotlib.legend.Legend at 0x2ab4fde597f0>"
      ]
     },
     "execution_count": 34,
     "metadata": {},
     "output_type": "execute_result"
    },
    {
     "data": {
      "image/png": "[encoded data removed]",
      "text/plain": [
       "<Figure size 1800x360 with 1 Axes>"
      ]
     },
     "metadata": {
      "needs_background": "light"
     },
     "output_type": "display_data"
    }
   ],
   "source": [
    "x_axis = range(1,25)\n",
    "%matplotlib inline\n",
    "\n",
    "plt.subplots(figsize = (25,5))\n",
    "plt.plot(x_axis, train_score_array, label = 'Train Score', c = 'g')\n",
    "plt.plot(x_axis, test_score_array, label = 'Test Score', c='b')\n",
    "plt.xlabel('n_neighbors')\n",
    "plt.ylabel('Accuracy')\n",
    "plt.xticks(x_axis, np.arange(25))\n",
    "plt.grid()\n",
    "plt.legend()"
   ]
  },
  {
   "cell_type": "code",
   "execution_count": 35,
   "metadata": {},
   "outputs": [
    {
     "name": "stdout",
     "output_type": "stream",
     "text": [
      "20\n",
      "0.7618806020632505\n",
      "0.7653820148749155\n"
     ]
    }
   ],
   "source": [
    "position_max = test_score_array.index(max(test_score_array))\n",
    "print(position_max)\n",
    "print(train_score_array[position_max])\n",
    "print(test_score_array[position_max])"
   ]
  },
  {
   "cell_type": "markdown",
   "metadata": {},
   "source": [
    "###### The best KNN classifer uses a k of 20. "
   ]
  },
  {
   "cell_type": "markdown",
   "metadata": {},
   "source": [
    "## Logistic Regression "
   ]
  },
  {
   "cell_type": "code",
   "execution_count": 36,
   "metadata": {},
   "outputs": [],
   "source": [
    "from sklearn.linear_model import LogisticRegression\n",
    "\n",
    "c_range = [0.001, 0.01, 0.1, 1, 10, 100, 1000]\n",
    "train_score_l1 = []\n",
    "train_score_l2 = []\n",
    "test_score_l1 = []\n",
    "test_score_l2 = []\n",
    "\n",
    "for c in c_range:\n",
    "    log_l1 = LogisticRegression(penalty = 'l1', C = c, solver = 'liblinear', max_iter = 5000, random_state=42)\n",
    "    log_l2 = LogisticRegression(penalty = 'l2', C = c, solver = 'lbfgs', max_iter = 5000, random_state=42)\n",
    "    log_l1.fit(X_train_pca, y_train)\n",
    "    log_l2.fit(X_train_pca, y_train)\n",
    "    train_score_l1.append(log_l1.score(X_train_pca, y_train))\n",
    "    train_score_l2.append(log_l2.score(X_train_pca, y_train))\n",
    "    test_score_l1.append(log_l1.score(X_test_pca, y_test))\n",
    "    test_score_l2.append(log_l2.score(X_test_pca, y_test))"
   ]
  },
  {
   "cell_type": "code",
   "execution_count": 37,
   "metadata": {},
   "outputs": [
    {
     "data": {
      "image/png": "[encoded data removed]",
      "text/plain": [
       "<Figure size 1440x360 with 1 Axes>"
      ]
     },
     "metadata": {
      "needs_background": "light"
     },
     "output_type": "display_data"
    }
   ],
   "source": [
    "plt.subplots(figsize = (20,5))\n",
    "plt.plot(c_range, train_score_l1, label = 'Train score, penalty = l1')\n",
    "plt.plot(c_range, test_score_l1, label = 'Test score, penalty = l1')\n",
    "plt.plot(c_range, train_score_l2, label = 'Train score, penalty = l2')\n",
    "plt.plot(c_range, test_score_l2, label = 'Test score, penalty = l2')\n",
    "plt.legend()\n",
    "plt.xlabel('Regularization parameter: C')\n",
    "plt.ylabel('Accuracy')\n",
    "plt.xscale('log')"
   ]
  },
  {
   "cell_type": "code",
   "execution_count": 38,
   "metadata": {},
   "outputs": [
    {
     "name": "stdout",
     "output_type": "stream",
     "text": [
      "3\n",
      "0.7590055809233891\n",
      "0.7694388100067613\n"
     ]
    }
   ],
   "source": [
    "position_max_l1 = test_score_l1.index(max(test_score_l1))\n",
    "print(position_max_l1)\n",
    "print(train_score_l1[position_max_l1])\n",
    "print(test_score_l1[position_max_l1])"
   ]
  },
  {
   "cell_type": "code",
   "execution_count": 39,
   "metadata": {},
   "outputs": [
    {
     "name": "stdout",
     "output_type": "stream",
     "text": [
      "3\n",
      "0.7590055809233891\n",
      "0.7694388100067613\n"
     ]
    }
   ],
   "source": [
    "position_max_l2 = test_score_l2.index(max(test_score_l2))\n",
    "print(position_max_l2)\n",
    "print(train_score_l2[position_max_l2])\n",
    "print(test_score_l2[position_max_l2])"
   ]
  },
  {
   "cell_type": "markdown",
   "metadata": {},
   "source": [
    "###### Logistic regression using L1 and L2 regularization yielded the same results. \n",
    "###### For both L1 and L2 regularization, the best C hyperparameter was 1."
   ]
  },
  {
   "cell_type": "markdown",
   "metadata": {},
   "source": [
    "## Decision Tree Classifier"
   ]
  },
  {
   "cell_type": "code",
   "execution_count": 40,
   "metadata": {},
   "outputs": [],
   "source": [
    "%matplotlib inline\n",
    "train_score_array = []\n",
    "test_score_array = []\n",
    "\n",
    "for k in range(1,20):\n",
    "    clf = DecisionTreeClassifier(random_state=42,max_depth=k)\n",
    "    clf.fit(X_train_pca, y_train)\n",
    "\n",
    "    train_score_array.append(clf.score(X_train_pca, y_train))\n",
    "    test_score_array.append(clf.score(X_test_pca, y_test))"
   ]
  },
  {
   "cell_type": "code",
   "execution_count": 41,
   "metadata": {},
   "outputs": [
    {
     "data": {
      "text/plain": [
       "Text(0,0.5,'Score')"
      ]
     },
     "execution_count": 41,
     "metadata": {},
     "output_type": "execute_result"
    },
    {
     "data": {
      "image/png": "[encoded data removed]",
      "text/plain": [
       "<Figure size 1440x360 with 1 Axes>"
      ]
     },
     "metadata": {
      "needs_background": "light"
     },
     "output_type": "display_data"
    }
   ],
   "source": [
    "x_axis = range(1,20)\n",
    "plt.subplots(figsize = (20,5))\n",
    "plt.plot(x_axis, train_score_array, c = 'g', label = 'Train Score')\n",
    "plt.plot(x_axis, test_score_array, c = 'b', label = 'Test Score')\n",
    "plt.legend()\n",
    "plt.xlabel('Decision Tree Classifier')\n",
    "plt.ylabel('Score')"
   ]
  },
  {
   "cell_type": "markdown",
   "metadata": {},
   "source": [
    "###### The best Decision Tree Classifier used a max depth of 2 "
   ]
  },
  {
   "cell_type": "code",
   "execution_count": 42,
   "metadata": {},
   "outputs": [
    {
     "name": "stdout",
     "output_type": "stream",
     "text": [
      "0.76103500761035\n",
      "0.7633536173089925\n"
     ]
    }
   ],
   "source": [
    "print(train_score_array[2])\n",
    "print(test_score_array[2])"
   ]
  },
  {
   "cell_type": "markdown",
   "metadata": {},
   "source": [
    "## Linear Support Vector Machine"
   ]
  },
  {
   "cell_type": "code",
   "execution_count": 43,
   "metadata": {},
   "outputs": [
    {
     "name": "stdout",
     "output_type": "stream",
     "text": [
      "Train Score:  [0.7598511753762895, 0.7598511753762895, 0.7598511753762895, 0.7556232031117875, 0.6646372399797057]\n",
      "Test Score:  [0.7667342799188641, 0.7667342799188641, 0.7667342799188641, 0.7586206896551724, 0.6457065584854631]\n"
     ]
    }
   ],
   "source": [
    "from sklearn.svm import LinearSVC\n",
    "\n",
    "train_scores = []\n",
    "test_scores = []\n",
    "x_range = [ 0.1, 1, 10, 100, 1000]\n",
    "\n",
    "for i in x_range:\n",
    "    clf1 = LinearSVC(random_state = 42, C = i)\n",
    "    clf1.fit(X_train_pca, y_train)\n",
    "    train_scores.append(clf1.score(X_train_pca, y_train))\n",
    "    test_scores.append(clf1.score(X_test_pca, y_test))\n",
    "    \n",
    "print('Train Score: ', train_scores)\n",
    "print('Test Score: ', test_scores)"
   ]
  },
  {
   "cell_type": "code",
   "execution_count": 44,
   "metadata": {},
   "outputs": [
    {
     "data": {
      "text/plain": [
       "<matplotlib.legend.Legend at 0x2ab4fe17ca58>"
      ]
     },
     "execution_count": 44,
     "metadata": {},
     "output_type": "execute_result"
    },
    {
     "data": {
      "image/png": "[encoded data removed]",
      "text/plain": [
       "<Figure size 720x360 with 1 Axes>"
      ]
     },
     "metadata": {
      "needs_background": "light"
     },
     "output_type": "display_data"
    }
   ],
   "source": [
    "plt.figure(figsize=(10,5))\n",
    "plt.plot(x_range, train_scores, color = 'blue', label = 'Train Scores')\n",
    "plt.plot(x_range, test_scores, color = 'green', label = 'Test Scores')\n",
    "plt.xscale('log')\n",
    "plt.legend()"
   ]
  },
  {
   "cell_type": "markdown",
   "metadata": {},
   "source": [
    "###### The best LinearSVC model uses a C hyperparameter of 10. "
   ]
  },
  {
   "cell_type": "code",
   "execution_count": 45,
   "metadata": {},
   "outputs": [
    {
     "name": "stdout",
     "output_type": "stream",
     "text": [
      "Train Score: 0.7599\n",
      "Test Score: 0.7667\n"
     ]
    }
   ],
   "source": [
    "clf1 = LinearSVC(random_state = 42, C = 10, max_iter = 10000)\n",
    "clf1.fit(X_train_pca, y_train)\n",
    "print('Train Score: {:.4f}'.format(clf1.score(X_train_pca, y_train)))\n",
    "print('Test Score: {:.4f}'.format(clf1.score(X_test_pca, y_test)))"
   ]
  },
  {
   "cell_type": "markdown",
   "metadata": {},
   "source": [
    "## Gridsearch Setup"
   ]
  },
  {
   "cell_type": "code",
   "execution_count": 46,
   "metadata": {},
   "outputs": [
    {
     "name": "stdout",
     "output_type": "stream",
     "text": [
      "Parameter grid:\n",
      "{'C': [1, 10, 100, 1000, 10000], 'gamma': [0.01, 0.1, 1, 10]}\n"
     ]
    }
   ],
   "source": [
    "param_grid = {'C': [1, 10, 100,1000,10000],\n",
    "              'gamma': [0.01, 0.1, 1, 10]}\n",
    "print(\"Parameter grid:\\n{}\".format(param_grid))"
   ]
  },
  {
   "cell_type": "code",
   "execution_count": 47,
   "metadata": {},
   "outputs": [],
   "source": [
    "from sklearn.model_selection import GridSearchCV\n",
    "from sklearn.svm import SVC\n",
    "import seaborn as sns"
   ]
  },
  {
   "cell_type": "markdown",
   "metadata": {},
   "source": [
    "## SVC - rbf Model"
   ]
  },
  {
   "cell_type": "code",
   "execution_count": 48,
   "metadata": {},
   "outputs": [],
   "source": [
    "grid_search = GridSearchCV(SVC(kernel = 'rbf'), param_grid, cv=3, return_train_score=True, n_jobs = -1)"
   ]
  },
  {
   "cell_type": "code",
   "execution_count": 49,
   "metadata": {},
   "outputs": [
    {
     "data": {
      "text/plain": [
       "GridSearchCV(cv=3, error_score='raise',\n",
       "       estimator=SVC(C=1.0, cache_size=200, class_weight=None, coef0=0.0,\n",
       "  decision_function_shape='ovr', degree=3, gamma='auto', kernel='rbf',\n",
       "  max_iter=-1, probability=False, random_state=None, shrinking=True,\n",
       "  tol=0.001, verbose=False),\n",
       "       fit_params=None, iid=True, n_jobs=-1,\n",
       "       param_grid={'C': [1, 10, 100, 1000, 10000], 'gamma': [0.01, 0.1, 1, 10]},\n",
       "       pre_dispatch='2*n_jobs', refit=True, return_train_score=True,\n",
       "       scoring=None, verbose=0)"
      ]
     },
     "execution_count": 49,
     "metadata": {},
     "output_type": "execute_result"
    }
   ],
   "source": [
    "grid_search.fit(X_train_pca, y_train)"
   ]
  },
  {
   "cell_type": "code",
   "execution_count": 50,
   "metadata": {},
   "outputs": [
    {
     "name": "stdout",
     "output_type": "stream",
     "text": [
      "Best parameters: {'C': 1, 'gamma': 0.01}\n",
      "Best cross-validation score: 0.76\n"
     ]
    }
   ],
   "source": [
    "print(\"Best parameters: {}\".format(grid_search.best_params_))\n",
    "print(\"Best cross-validation score: {:.2f}\".format(grid_search.best_score_))"
   ]
  },
  {
   "cell_type": "code",
   "execution_count": 51,
   "metadata": {},
   "outputs": [
    {
     "data": {
      "text/html": [
       "<div>\n",
       "<style scoped>\n",
       "    .dataframe tbody tr th:only-of-type {\n",
       "        vertical-align: middle;\n",
       "    }\n",
       "\n",
       "    .dataframe tbody tr th {\n",
       "        vertical-align: top;\n",
       "    }\n",
       "\n",
       "    .dataframe thead th {\n",
       "        text-align: right;\n",
       "    }\n",
       "</style>\n",
       "<table border=\"1\" class=\"dataframe\">\n",
       "  <thead>\n",
       "    <tr style=\"text-align: right;\">\n",
       "      <th></th>\n",
       "      <th>mean_fit_time</th>\n",
       "      <th>std_fit_time</th>\n",
       "      <th>mean_score_time</th>\n",
       "      <th>std_score_time</th>\n",
       "      <th>param_C</th>\n",
       "      <th>param_gamma</th>\n",
       "      <th>params</th>\n",
       "      <th>split0_test_score</th>\n",
       "      <th>split1_test_score</th>\n",
       "      <th>split2_test_score</th>\n",
       "      <th>mean_test_score</th>\n",
       "      <th>std_test_score</th>\n",
       "      <th>rank_test_score</th>\n",
       "      <th>split0_train_score</th>\n",
       "      <th>split1_train_score</th>\n",
       "      <th>split2_train_score</th>\n",
       "      <th>mean_train_score</th>\n",
       "      <th>std_train_score</th>\n",
       "    </tr>\n",
       "  </thead>\n",
       "  <tbody>\n",
       "    <tr>\n",
       "      <th>0</th>\n",
       "      <td>0.477199</td>\n",
       "      <td>0.121316</td>\n",
       "      <td>0.168156</td>\n",
       "      <td>0.067349</td>\n",
       "      <td>1</td>\n",
       "      <td>0.01</td>\n",
       "      <td>{'C': 1, 'gamma': 0.01}</td>\n",
       "      <td>0.759635</td>\n",
       "      <td>0.760020</td>\n",
       "      <td>0.759898</td>\n",
       "      <td>0.759851</td>\n",
       "      <td>0.000161</td>\n",
       "      <td>1</td>\n",
       "      <td>0.759959</td>\n",
       "      <td>0.759767</td>\n",
       "      <td>0.759828</td>\n",
       "      <td>0.759851</td>\n",
       "      <td>0.000080</td>\n",
       "    </tr>\n",
       "    <tr>\n",
       "      <th>1</th>\n",
       "      <td>0.578338</td>\n",
       "      <td>0.162985</td>\n",
       "      <td>0.174603</td>\n",
       "      <td>0.061556</td>\n",
       "      <td>1</td>\n",
       "      <td>0.1</td>\n",
       "      <td>{'C': 1, 'gamma': 0.1}</td>\n",
       "      <td>0.759635</td>\n",
       "      <td>0.760020</td>\n",
       "      <td>0.759898</td>\n",
       "      <td>0.759851</td>\n",
       "      <td>0.000161</td>\n",
       "      <td>1</td>\n",
       "      <td>0.759959</td>\n",
       "      <td>0.759767</td>\n",
       "      <td>0.759828</td>\n",
       "      <td>0.759851</td>\n",
       "      <td>0.000080</td>\n",
       "    </tr>\n",
       "    <tr>\n",
       "      <th>2</th>\n",
       "      <td>0.927548</td>\n",
       "      <td>0.034758</td>\n",
       "      <td>0.148135</td>\n",
       "      <td>0.000756</td>\n",
       "      <td>1</td>\n",
       "      <td>1</td>\n",
       "      <td>{'C': 1, 'gamma': 1}</td>\n",
       "      <td>0.759128</td>\n",
       "      <td>0.760020</td>\n",
       "      <td>0.759898</td>\n",
       "      <td>0.759682</td>\n",
       "      <td>0.000395</td>\n",
       "      <td>9</td>\n",
       "      <td>0.760213</td>\n",
       "      <td>0.759767</td>\n",
       "      <td>0.759828</td>\n",
       "      <td>0.759936</td>\n",
       "      <td>0.000198</td>\n",
       "    </tr>\n",
       "    <tr>\n",
       "      <th>3</th>\n",
       "      <td>0.918596</td>\n",
       "      <td>0.013764</td>\n",
       "      <td>0.153337</td>\n",
       "      <td>0.001087</td>\n",
       "      <td>1</td>\n",
       "      <td>10</td>\n",
       "      <td>{'C': 1, 'gamma': 10}</td>\n",
       "      <td>0.752535</td>\n",
       "      <td>0.750888</td>\n",
       "      <td>0.750254</td>\n",
       "      <td>0.751226</td>\n",
       "      <td>0.000962</td>\n",
       "      <td>14</td>\n",
       "      <td>0.776453</td>\n",
       "      <td>0.775748</td>\n",
       "      <td>0.777581</td>\n",
       "      <td>0.776594</td>\n",
       "      <td>0.000755</td>\n",
       "    </tr>\n",
       "    <tr>\n",
       "      <th>4</th>\n",
       "      <td>0.543126</td>\n",
       "      <td>0.181820</td>\n",
       "      <td>0.171553</td>\n",
       "      <td>0.057170</td>\n",
       "      <td>10</td>\n",
       "      <td>0.01</td>\n",
       "      <td>{'C': 10, 'gamma': 0.01}</td>\n",
       "      <td>0.759635</td>\n",
       "      <td>0.760020</td>\n",
       "      <td>0.759898</td>\n",
       "      <td>0.759851</td>\n",
       "      <td>0.000161</td>\n",
       "      <td>1</td>\n",
       "      <td>0.759959</td>\n",
       "      <td>0.759767</td>\n",
       "      <td>0.759828</td>\n",
       "      <td>0.759851</td>\n",
       "      <td>0.000080</td>\n",
       "    </tr>\n",
       "  </tbody>\n",
       "</table>\n",
       "</div>"
      ],
      "text/plain": [
       "   mean_fit_time  std_fit_time  mean_score_time  std_score_time param_C  \\\n",
       "0       0.477199      0.121316         0.168156        0.067349       1   \n",
       "1       0.578338      0.162985         0.174603        0.061556       1   \n",
       "2       0.927548      0.034758         0.148135        0.000756       1   \n",
       "3       0.918596      0.013764         0.153337        0.001087       1   \n",
       "4       0.543126      0.181820         0.171553        0.057170      10   \n",
       "\n",
       "  param_gamma                    params  split0_test_score  split1_test_score  \\\n",
       "0        0.01   {'C': 1, 'gamma': 0.01}           0.759635           0.760020   \n",
       "1         0.1    {'C': 1, 'gamma': 0.1}           0.759635           0.760020   \n",
       "2           1      {'C': 1, 'gamma': 1}           0.759128           0.760020   \n",
       "3          10     {'C': 1, 'gamma': 10}           0.752535           0.750888   \n",
       "4        0.01  {'C': 10, 'gamma': 0.01}           0.759635           0.760020   \n",
       "\n",
       "   split2_test_score  mean_test_score  std_test_score  rank_test_score  \\\n",
       "0           0.759898         0.759851        0.000161                1   \n",
       "1           0.759898         0.759851        0.000161                1   \n",
       "2           0.759898         0.759682        0.000395                9   \n",
       "3           0.750254         0.751226        0.000962               14   \n",
       "4           0.759898         0.759851        0.000161                1   \n",
       "\n",
       "   split0_train_score  split1_train_score  split2_train_score  \\\n",
       "0            0.759959            0.759767            0.759828   \n",
       "1            0.759959            0.759767            0.759828   \n",
       "2            0.760213            0.759767            0.759828   \n",
       "3            0.776453            0.775748            0.777581   \n",
       "4            0.759959            0.759767            0.759828   \n",
       "\n",
       "   mean_train_score  std_train_score  \n",
       "0          0.759851         0.000080  \n",
       "1          0.759851         0.000080  \n",
       "2          0.759936         0.000198  \n",
       "3          0.776594         0.000755  \n",
       "4          0.759851         0.000080  "
      ]
     },
     "metadata": {},
     "output_type": "display_data"
    }
   ],
   "source": [
    "# convert to DataFrame\n",
    "results = pd.DataFrame(grid_search.cv_results_)\n",
    "# show the first 5 rows\n",
    "display(results.head())"
   ]
  },
  {
   "cell_type": "code",
   "execution_count": 52,
   "metadata": {},
   "outputs": [
    {
     "data": {
      "text/plain": [
       "([<matplotlib.axis.YTick at 0x2ab4fdf55f60>,\n",
       "  <matplotlib.axis.YTick at 0x2ab4fdfb3320>,\n",
       "  <matplotlib.axis.YTick at 0x2ab4fdfbaa58>,\n",
       "  <matplotlib.axis.YTick at 0x2ab4fe0fcda0>,\n",
       "  <matplotlib.axis.YTick at 0x2ab4fe0fcd30>],\n",
       " <a list of 5 Text yticklabel objects>)"
      ]
     },
     "execution_count": 52,
     "metadata": {},
     "output_type": "execute_result"
    },
    {
     "data": {
      "image/png": "[encoded data removed]",
      "text/plain": [
       "<Figure size 360x288 with 2 Axes>"
      ]
     },
     "metadata": {
      "needs_background": "light"
     },
     "output_type": "display_data"
    }
   ],
   "source": [
    "%matplotlib inline\n",
    "\n",
    "plt.figure(figsize=(5,4))\n",
    "scores = np.array(results.mean_test_score).reshape(5, 4)\n",
    "sns.heatmap(scores, linewidths = 0.5 , cmap='viridis', annot=True)\n",
    "plt.xlabel('gamma')\n",
    "plt.ylabel('C')\n",
    "plt.xlim(0, 5)\n",
    "plt.ylim(0, 5)\n",
    "plt.xticks(np.arange(4)+0.5, [0.001, 0.1, 1, 10, 100])\n",
    "plt.yticks(np.arange(5)+0.5, [1,10, 100,1000,10000])"
   ]
  },
  {
   "cell_type": "markdown",
   "metadata": {},
   "source": [
    "## SVC - linear Model"
   ]
  },
  {
   "cell_type": "code",
   "execution_count": 53,
   "metadata": {},
   "outputs": [],
   "source": [
    "grid_search_linear = GridSearchCV(SVC(kernel='linear'), param_grid, cv=3, return_train_score=True, n_jobs = -1)"
   ]
  },
  {
   "cell_type": "code",
   "execution_count": 54,
   "metadata": {},
   "outputs": [
    {
     "data": {
      "text/plain": [
       "GridSearchCV(cv=3, error_score='raise',\n",
       "       estimator=SVC(C=1.0, cache_size=200, class_weight=None, coef0=0.0,\n",
       "  decision_function_shape='ovr', degree=3, gamma='auto', kernel='linear',\n",
       "  max_iter=-1, probability=False, random_state=None, shrinking=True,\n",
       "  tol=0.001, verbose=False),\n",
       "       fit_params=None, iid=True, n_jobs=-1,\n",
       "       param_grid={'C': [1, 10, 100, 1000, 10000], 'gamma': [0.01, 0.1, 1, 10]},\n",
       "       pre_dispatch='2*n_jobs', refit=True, return_train_score=True,\n",
       "       scoring=None, verbose=0)"
      ]
     },
     "execution_count": 54,
     "metadata": {},
     "output_type": "execute_result"
    }
   ],
   "source": [
    "grid_search_linear.fit(X_train_pca, y_train)"
   ]
  },
  {
   "cell_type": "code",
   "execution_count": 55,
   "metadata": {},
   "outputs": [
    {
     "name": "stdout",
     "output_type": "stream",
     "text": [
      "Best parameters: {'C': 1, 'gamma': 0.01}\n",
      "Best cross-validation score: 0.76\n"
     ]
    }
   ],
   "source": [
    "print(\"Best parameters: {}\".format(grid_search_linear.best_params_))\n",
    "print(\"Best cross-validation score: {:.2f}\".format(grid_search_linear.best_score_))"
   ]
  },
  {
   "cell_type": "code",
   "execution_count": 56,
   "metadata": {},
   "outputs": [
    {
     "data": {
      "text/html": [
       "<div>\n",
       "<style scoped>\n",
       "    .dataframe tbody tr th:only-of-type {\n",
       "        vertical-align: middle;\n",
       "    }\n",
       "\n",
       "    .dataframe tbody tr th {\n",
       "        vertical-align: top;\n",
       "    }\n",
       "\n",
       "    .dataframe thead th {\n",
       "        text-align: right;\n",
       "    }\n",
       "</style>\n",
       "<table border=\"1\" class=\"dataframe\">\n",
       "  <thead>\n",
       "    <tr style=\"text-align: right;\">\n",
       "      <th></th>\n",
       "      <th>mean_fit_time</th>\n",
       "      <th>std_fit_time</th>\n",
       "      <th>mean_score_time</th>\n",
       "      <th>std_score_time</th>\n",
       "      <th>param_C</th>\n",
       "      <th>param_gamma</th>\n",
       "      <th>params</th>\n",
       "      <th>split0_test_score</th>\n",
       "      <th>split1_test_score</th>\n",
       "      <th>split2_test_score</th>\n",
       "      <th>mean_test_score</th>\n",
       "      <th>std_test_score</th>\n",
       "      <th>rank_test_score</th>\n",
       "      <th>split0_train_score</th>\n",
       "      <th>split1_train_score</th>\n",
       "      <th>split2_train_score</th>\n",
       "      <th>mean_train_score</th>\n",
       "      <th>std_train_score</th>\n",
       "    </tr>\n",
       "  </thead>\n",
       "  <tbody>\n",
       "    <tr>\n",
       "      <th>0</th>\n",
       "      <td>0.477199</td>\n",
       "      <td>0.121316</td>\n",
       "      <td>0.168156</td>\n",
       "      <td>0.067349</td>\n",
       "      <td>1</td>\n",
       "      <td>0.01</td>\n",
       "      <td>{'C': 1, 'gamma': 0.01}</td>\n",
       "      <td>0.759635</td>\n",
       "      <td>0.760020</td>\n",
       "      <td>0.759898</td>\n",
       "      <td>0.759851</td>\n",
       "      <td>0.000161</td>\n",
       "      <td>1</td>\n",
       "      <td>0.759959</td>\n",
       "      <td>0.759767</td>\n",
       "      <td>0.759828</td>\n",
       "      <td>0.759851</td>\n",
       "      <td>0.000080</td>\n",
       "    </tr>\n",
       "    <tr>\n",
       "      <th>1</th>\n",
       "      <td>0.578338</td>\n",
       "      <td>0.162985</td>\n",
       "      <td>0.174603</td>\n",
       "      <td>0.061556</td>\n",
       "      <td>1</td>\n",
       "      <td>0.1</td>\n",
       "      <td>{'C': 1, 'gamma': 0.1}</td>\n",
       "      <td>0.759635</td>\n",
       "      <td>0.760020</td>\n",
       "      <td>0.759898</td>\n",
       "      <td>0.759851</td>\n",
       "      <td>0.000161</td>\n",
       "      <td>1</td>\n",
       "      <td>0.759959</td>\n",
       "      <td>0.759767</td>\n",
       "      <td>0.759828</td>\n",
       "      <td>0.759851</td>\n",
       "      <td>0.000080</td>\n",
       "    </tr>\n",
       "    <tr>\n",
       "      <th>2</th>\n",
       "      <td>0.927548</td>\n",
       "      <td>0.034758</td>\n",
       "      <td>0.148135</td>\n",
       "      <td>0.000756</td>\n",
       "      <td>1</td>\n",
       "      <td>1</td>\n",
       "      <td>{'C': 1, 'gamma': 1}</td>\n",
       "      <td>0.759128</td>\n",
       "      <td>0.760020</td>\n",
       "      <td>0.759898</td>\n",
       "      <td>0.759682</td>\n",
       "      <td>0.000395</td>\n",
       "      <td>9</td>\n",
       "      <td>0.760213</td>\n",
       "      <td>0.759767</td>\n",
       "      <td>0.759828</td>\n",
       "      <td>0.759936</td>\n",
       "      <td>0.000198</td>\n",
       "    </tr>\n",
       "    <tr>\n",
       "      <th>3</th>\n",
       "      <td>0.918596</td>\n",
       "      <td>0.013764</td>\n",
       "      <td>0.153337</td>\n",
       "      <td>0.001087</td>\n",
       "      <td>1</td>\n",
       "      <td>10</td>\n",
       "      <td>{'C': 1, 'gamma': 10}</td>\n",
       "      <td>0.752535</td>\n",
       "      <td>0.750888</td>\n",
       "      <td>0.750254</td>\n",
       "      <td>0.751226</td>\n",
       "      <td>0.000962</td>\n",
       "      <td>14</td>\n",
       "      <td>0.776453</td>\n",
       "      <td>0.775748</td>\n",
       "      <td>0.777581</td>\n",
       "      <td>0.776594</td>\n",
       "      <td>0.000755</td>\n",
       "    </tr>\n",
       "    <tr>\n",
       "      <th>4</th>\n",
       "      <td>0.543126</td>\n",
       "      <td>0.181820</td>\n",
       "      <td>0.171553</td>\n",
       "      <td>0.057170</td>\n",
       "      <td>10</td>\n",
       "      <td>0.01</td>\n",
       "      <td>{'C': 10, 'gamma': 0.01}</td>\n",
       "      <td>0.759635</td>\n",
       "      <td>0.760020</td>\n",
       "      <td>0.759898</td>\n",
       "      <td>0.759851</td>\n",
       "      <td>0.000161</td>\n",
       "      <td>1</td>\n",
       "      <td>0.759959</td>\n",
       "      <td>0.759767</td>\n",
       "      <td>0.759828</td>\n",
       "      <td>0.759851</td>\n",
       "      <td>0.000080</td>\n",
       "    </tr>\n",
       "  </tbody>\n",
       "</table>\n",
       "</div>"
      ],
      "text/plain": [
       "   mean_fit_time  std_fit_time  mean_score_time  std_score_time param_C  \\\n",
       "0       0.477199      0.121316         0.168156        0.067349       1   \n",
       "1       0.578338      0.162985         0.174603        0.061556       1   \n",
       "2       0.927548      0.034758         0.148135        0.000756       1   \n",
       "3       0.918596      0.013764         0.153337        0.001087       1   \n",
       "4       0.543126      0.181820         0.171553        0.057170      10   \n",
       "\n",
       "  param_gamma                    params  split0_test_score  split1_test_score  \\\n",
       "0        0.01   {'C': 1, 'gamma': 0.01}           0.759635           0.760020   \n",
       "1         0.1    {'C': 1, 'gamma': 0.1}           0.759635           0.760020   \n",
       "2           1      {'C': 1, 'gamma': 1}           0.759128           0.760020   \n",
       "3          10     {'C': 1, 'gamma': 10}           0.752535           0.750888   \n",
       "4        0.01  {'C': 10, 'gamma': 0.01}           0.759635           0.760020   \n",
       "\n",
       "   split2_test_score  mean_test_score  std_test_score  rank_test_score  \\\n",
       "0           0.759898         0.759851        0.000161                1   \n",
       "1           0.759898         0.759851        0.000161                1   \n",
       "2           0.759898         0.759682        0.000395                9   \n",
       "3           0.750254         0.751226        0.000962               14   \n",
       "4           0.759898         0.759851        0.000161                1   \n",
       "\n",
       "   split0_train_score  split1_train_score  split2_train_score  \\\n",
       "0            0.759959            0.759767            0.759828   \n",
       "1            0.759959            0.759767            0.759828   \n",
       "2            0.760213            0.759767            0.759828   \n",
       "3            0.776453            0.775748            0.777581   \n",
       "4            0.759959            0.759767            0.759828   \n",
       "\n",
       "   mean_train_score  std_train_score  \n",
       "0          0.759851         0.000080  \n",
       "1          0.759851         0.000080  \n",
       "2          0.759936         0.000198  \n",
       "3          0.776594         0.000755  \n",
       "4          0.759851         0.000080  "
      ]
     },
     "metadata": {},
     "output_type": "display_data"
    }
   ],
   "source": [
    "# convert to DataFrame\n",
    "results_linear = pd.DataFrame(grid_search_linear.cv_results_)\n",
    "# show the first 5 rows\n",
    "display(results.head())"
   ]
  },
  {
   "cell_type": "code",
   "execution_count": 57,
   "metadata": {},
   "outputs": [
    {
     "data": {
      "text/plain": [
       "([<matplotlib.axis.YTick at 0x2ab4fdfac240>,\n",
       "  <matplotlib.axis.YTick at 0x2ab4fdfa2668>,\n",
       "  <matplotlib.axis.YTick at 0x2ab4fdfa8c50>,\n",
       "  <matplotlib.axis.YTick at 0x2ab4fdf47208>,\n",
       "  <matplotlib.axis.YTick at 0x2ab4fdf476d8>],\n",
       " <a list of 5 Text yticklabel objects>)"
      ]
     },
     "execution_count": 57,
     "metadata": {},
     "output_type": "execute_result"
    },
    {
     "data": {
      "image/png": "[encoded data removed]",
      "text/plain": [
       "<Figure size 360x288 with 2 Axes>"
      ]
     },
     "metadata": {
      "needs_background": "light"
     },
     "output_type": "display_data"
    }
   ],
   "source": [
    "%matplotlib inline\n",
    "\n",
    "plt.figure(figsize=(5,4))\n",
    "scores = np.array(results_linear.mean_test_score).reshape(5, 4)\n",
    "sns.heatmap(scores, linewidths = 0.5 , cmap='viridis', annot=True)\n",
    "plt.xlabel('gamma')\n",
    "plt.ylabel('C')\n",
    "plt.xlim(0, 5)\n",
    "plt.ylim(0, 5)\n",
    "plt.xticks(np.arange(4)+0.5, [0.01, 0.1, 1, 10, 100])\n",
    "plt.yticks(np.arange(5)+0.5, [1, 10, 100,1000,10000])"
   ]
  },
  {
   "cell_type": "markdown",
   "metadata": {},
   "source": [
    "## SVC - polynomial Model"
   ]
  },
  {
   "cell_type": "code",
   "execution_count": 58,
   "metadata": {},
   "outputs": [],
   "source": [
    "grid_search_poly = GridSearchCV(SVC(kernel='poly', degree = 2), param_grid, cv=3, return_train_score=True, n_jobs = -1)"
   ]
  },
  {
   "cell_type": "code",
   "execution_count": 59,
   "metadata": {},
   "outputs": [
    {
     "data": {
      "text/plain": [
       "GridSearchCV(cv=3, error_score='raise',\n",
       "       estimator=SVC(C=1.0, cache_size=200, class_weight=None, coef0=0.0,\n",
       "  decision_function_shape='ovr', degree=2, gamma='auto', kernel='poly',\n",
       "  max_iter=-1, probability=False, random_state=None, shrinking=True,\n",
       "  tol=0.001, verbose=False),\n",
       "       fit_params=None, iid=True, n_jobs=-1,\n",
       "       param_grid={'C': [1, 10, 100, 1000, 10000], 'gamma': [0.01, 0.1, 1, 10]},\n",
       "       pre_dispatch='2*n_jobs', refit=True, return_train_score=True,\n",
       "       scoring=None, verbose=0)"
      ]
     },
     "execution_count": 59,
     "metadata": {},
     "output_type": "execute_result"
    }
   ],
   "source": [
    "grid_search_poly.fit(X_train_pca, y_train)"
   ]
  },
  {
   "cell_type": "code",
   "execution_count": 60,
   "metadata": {},
   "outputs": [
    {
     "name": "stdout",
     "output_type": "stream",
     "text": [
      "Best parameters: {'C': 1, 'gamma': 0.01}\n",
      "Best cross-validation score: 0.76\n"
     ]
    }
   ],
   "source": [
    "print(\"Best parameters: {}\".format(grid_search_poly.best_params_))\n",
    "print(\"Best cross-validation score: {:.2f}\".format(grid_search_poly.best_score_))"
   ]
  },
  {
   "cell_type": "code",
   "execution_count": 61,
   "metadata": {},
   "outputs": [
    {
     "data": {
      "text/html": [
       "<div>\n",
       "<style scoped>\n",
       "    .dataframe tbody tr th:only-of-type {\n",
       "        vertical-align: middle;\n",
       "    }\n",
       "\n",
       "    .dataframe tbody tr th {\n",
       "        vertical-align: top;\n",
       "    }\n",
       "\n",
       "    .dataframe thead th {\n",
       "        text-align: right;\n",
       "    }\n",
       "</style>\n",
       "<table border=\"1\" class=\"dataframe\">\n",
       "  <thead>\n",
       "    <tr style=\"text-align: right;\">\n",
       "      <th></th>\n",
       "      <th>mean_fit_time</th>\n",
       "      <th>std_fit_time</th>\n",
       "      <th>mean_score_time</th>\n",
       "      <th>std_score_time</th>\n",
       "      <th>param_C</th>\n",
       "      <th>param_gamma</th>\n",
       "      <th>params</th>\n",
       "      <th>split0_test_score</th>\n",
       "      <th>split1_test_score</th>\n",
       "      <th>split2_test_score</th>\n",
       "      <th>mean_test_score</th>\n",
       "      <th>std_test_score</th>\n",
       "      <th>rank_test_score</th>\n",
       "      <th>split0_train_score</th>\n",
       "      <th>split1_train_score</th>\n",
       "      <th>split2_train_score</th>\n",
       "      <th>mean_train_score</th>\n",
       "      <th>std_train_score</th>\n",
       "    </tr>\n",
       "  </thead>\n",
       "  <tbody>\n",
       "    <tr>\n",
       "      <th>0</th>\n",
       "      <td>0.207199</td>\n",
       "      <td>0.019426</td>\n",
       "      <td>0.049055</td>\n",
       "      <td>0.000372</td>\n",
       "      <td>1</td>\n",
       "      <td>0.01</td>\n",
       "      <td>{'C': 1, 'gamma': 0.01}</td>\n",
       "      <td>0.759635</td>\n",
       "      <td>0.76002</td>\n",
       "      <td>0.759898</td>\n",
       "      <td>0.759851</td>\n",
       "      <td>0.000161</td>\n",
       "      <td>1</td>\n",
       "      <td>0.759959</td>\n",
       "      <td>0.759767</td>\n",
       "      <td>0.759828</td>\n",
       "      <td>0.759851</td>\n",
       "      <td>0.00008</td>\n",
       "    </tr>\n",
       "    <tr>\n",
       "      <th>1</th>\n",
       "      <td>0.272670</td>\n",
       "      <td>0.036056</td>\n",
       "      <td>0.062870</td>\n",
       "      <td>0.017850</td>\n",
       "      <td>1</td>\n",
       "      <td>0.1</td>\n",
       "      <td>{'C': 1, 'gamma': 0.1}</td>\n",
       "      <td>0.759635</td>\n",
       "      <td>0.76002</td>\n",
       "      <td>0.759898</td>\n",
       "      <td>0.759851</td>\n",
       "      <td>0.000161</td>\n",
       "      <td>1</td>\n",
       "      <td>0.759959</td>\n",
       "      <td>0.759767</td>\n",
       "      <td>0.759828</td>\n",
       "      <td>0.759851</td>\n",
       "      <td>0.00008</td>\n",
       "    </tr>\n",
       "    <tr>\n",
       "      <th>2</th>\n",
       "      <td>0.233527</td>\n",
       "      <td>0.015070</td>\n",
       "      <td>0.051442</td>\n",
       "      <td>0.000346</td>\n",
       "      <td>1</td>\n",
       "      <td>1</td>\n",
       "      <td>{'C': 1, 'gamma': 1}</td>\n",
       "      <td>0.759635</td>\n",
       "      <td>0.76002</td>\n",
       "      <td>0.759898</td>\n",
       "      <td>0.759851</td>\n",
       "      <td>0.000161</td>\n",
       "      <td>1</td>\n",
       "      <td>0.759959</td>\n",
       "      <td>0.759767</td>\n",
       "      <td>0.759828</td>\n",
       "      <td>0.759851</td>\n",
       "      <td>0.00008</td>\n",
       "    </tr>\n",
       "    <tr>\n",
       "      <th>3</th>\n",
       "      <td>20.193752</td>\n",
       "      <td>1.287736</td>\n",
       "      <td>0.066717</td>\n",
       "      <td>0.000584</td>\n",
       "      <td>1</td>\n",
       "      <td>10</td>\n",
       "      <td>{'C': 1, 'gamma': 10}</td>\n",
       "      <td>0.759635</td>\n",
       "      <td>0.76002</td>\n",
       "      <td>0.759898</td>\n",
       "      <td>0.759851</td>\n",
       "      <td>0.000161</td>\n",
       "      <td>1</td>\n",
       "      <td>0.759959</td>\n",
       "      <td>0.759767</td>\n",
       "      <td>0.759828</td>\n",
       "      <td>0.759851</td>\n",
       "      <td>0.00008</td>\n",
       "    </tr>\n",
       "    <tr>\n",
       "      <th>4</th>\n",
       "      <td>0.202306</td>\n",
       "      <td>0.009485</td>\n",
       "      <td>0.050520</td>\n",
       "      <td>0.000152</td>\n",
       "      <td>10</td>\n",
       "      <td>0.01</td>\n",
       "      <td>{'C': 10, 'gamma': 0.01}</td>\n",
       "      <td>0.759635</td>\n",
       "      <td>0.76002</td>\n",
       "      <td>0.759898</td>\n",
       "      <td>0.759851</td>\n",
       "      <td>0.000161</td>\n",
       "      <td>1</td>\n",
       "      <td>0.759959</td>\n",
       "      <td>0.759767</td>\n",
       "      <td>0.759828</td>\n",
       "      <td>0.759851</td>\n",
       "      <td>0.00008</td>\n",
       "    </tr>\n",
       "  </tbody>\n",
       "</table>\n",
       "</div>"
      ],
      "text/plain": [
       "   mean_fit_time  std_fit_time  mean_score_time  std_score_time param_C  \\\n",
       "0       0.207199      0.019426         0.049055        0.000372       1   \n",
       "1       0.272670      0.036056         0.062870        0.017850       1   \n",
       "2       0.233527      0.015070         0.051442        0.000346       1   \n",
       "3      20.193752      1.287736         0.066717        0.000584       1   \n",
       "4       0.202306      0.009485         0.050520        0.000152      10   \n",
       "\n",
       "  param_gamma                    params  split0_test_score  split1_test_score  \\\n",
       "0        0.01   {'C': 1, 'gamma': 0.01}           0.759635            0.76002   \n",
       "1         0.1    {'C': 1, 'gamma': 0.1}           0.759635            0.76002   \n",
       "2           1      {'C': 1, 'gamma': 1}           0.759635            0.76002   \n",
       "3          10     {'C': 1, 'gamma': 10}           0.759635            0.76002   \n",
       "4        0.01  {'C': 10, 'gamma': 0.01}           0.759635            0.76002   \n",
       "\n",
       "   split2_test_score  mean_test_score  std_test_score  rank_test_score  \\\n",
       "0           0.759898         0.759851        0.000161                1   \n",
       "1           0.759898         0.759851        0.000161                1   \n",
       "2           0.759898         0.759851        0.000161                1   \n",
       "3           0.759898         0.759851        0.000161                1   \n",
       "4           0.759898         0.759851        0.000161                1   \n",
       "\n",
       "   split0_train_score  split1_train_score  split2_train_score  \\\n",
       "0            0.759959            0.759767            0.759828   \n",
       "1            0.759959            0.759767            0.759828   \n",
       "2            0.759959            0.759767            0.759828   \n",
       "3            0.759959            0.759767            0.759828   \n",
       "4            0.759959            0.759767            0.759828   \n",
       "\n",
       "   mean_train_score  std_train_score  \n",
       "0          0.759851          0.00008  \n",
       "1          0.759851          0.00008  \n",
       "2          0.759851          0.00008  \n",
       "3          0.759851          0.00008  \n",
       "4          0.759851          0.00008  "
      ]
     },
     "metadata": {},
     "output_type": "display_data"
    }
   ],
   "source": [
    "# convert to DataFrame\n",
    "results_poly = pd.DataFrame(grid_search_poly.cv_results_)\n",
    "# show the first 5 rows\n",
    "display(results_poly.head())"
   ]
  },
  {
   "cell_type": "code",
   "execution_count": 62,
   "metadata": {},
   "outputs": [
    {
     "data": {
      "text/plain": [
       "([<matplotlib.axis.YTick at 0x2ab4fdf5afd0>,\n",
       "  <matplotlib.axis.YTick at 0x2ab4fdf5a908>,\n",
       "  <matplotlib.axis.YTick at 0x2ab4fdf6b438>,\n",
       "  <matplotlib.axis.YTick at 0x2ab56d7034e0>,\n",
       "  <matplotlib.axis.YTick at 0x2ab56d7039b0>],\n",
       " <a list of 5 Text yticklabel objects>)"
      ]
     },
     "execution_count": 62,
     "metadata": {},
     "output_type": "execute_result"
    },
    {
     "data": {
      "image/png": "[encoded data removed]",
      "text/plain": [
       "<Figure size 360x288 with 2 Axes>"
      ]
     },
     "metadata": {
      "needs_background": "light"
     },
     "output_type": "display_data"
    }
   ],
   "source": [
    "%matplotlib inline\n",
    "\n",
    "plt.figure(figsize=(5,4))\n",
    "scores = np.array(results_poly.mean_test_score).reshape(5, 4)\n",
    "sns.heatmap(scores, linewidths = 0.5 , cmap='viridis', annot=True)\n",
    "plt.xlabel('gamma')\n",
    "plt.ylabel('C')\n",
    "plt.xlim(0, 5)\n",
    "plt.ylim(0, 5)\n",
    "plt.xticks(np.arange(4)+0.5, [0.01, 0.1, 1, 10, 100])\n",
    "plt.yticks(np.arange(5)+0.5, [1, 10, 100,1000,10000])"
   ]
  },
  {
   "cell_type": "code",
   "execution_count": 63,
   "metadata": {},
   "outputs": [
    {
     "data": {
      "text/plain": [
       "0.7598511753762895"
      ]
     },
     "execution_count": 63,
     "metadata": {},
     "output_type": "execute_result"
    }
   ],
   "source": [
    "scores.max()"
   ]
  },
  {
   "cell_type": "markdown",
   "metadata": {},
   "source": [
    "## Comparing classification results on the original data vs PCA data"
   ]
  },
  {
   "cell_type": "code",
   "execution_count": 64,
   "metadata": {},
   "outputs": [
    {
     "data": {
      "text/html": [
       "<div>\n",
       "<style scoped>\n",
       "    .dataframe tbody tr th:only-of-type {\n",
       "        vertical-align: middle;\n",
       "    }\n",
       "\n",
       "    .dataframe tbody tr th {\n",
       "        vertical-align: top;\n",
       "    }\n",
       "\n",
       "    .dataframe thead th {\n",
       "        text-align: right;\n",
       "    }\n",
       "</style>\n",
       "<table border=\"1\" class=\"dataframe\">\n",
       "  <thead>\n",
       "    <tr style=\"text-align: right;\">\n",
       "      <th></th>\n",
       "      <th>Score Type</th>\n",
       "      <th>KNN Orig</th>\n",
       "      <th>KNN PCA</th>\n",
       "      <th>Logistic Regression Orig</th>\n",
       "      <th>Logistic Regression PCA</th>\n",
       "      <th>Decision Tree Orig</th>\n",
       "      <th>Decision Tree PCA</th>\n",
       "      <th>Linear SVC Orig</th>\n",
       "      <th>Linear SVC PCA</th>\n",
       "    </tr>\n",
       "  </thead>\n",
       "  <tbody>\n",
       "    <tr>\n",
       "      <th>0</th>\n",
       "      <td>Train Score</td>\n",
       "      <td>0.7605</td>\n",
       "      <td>0.7619</td>\n",
       "      <td>0.7599</td>\n",
       "      <td>0.7590</td>\n",
       "      <td>0.7634</td>\n",
       "      <td>0.7610</td>\n",
       "      <td>0.7599</td>\n",
       "      <td>0.7599</td>\n",
       "    </tr>\n",
       "    <tr>\n",
       "      <th>1</th>\n",
       "      <td>Test Score</td>\n",
       "      <td>0.7667</td>\n",
       "      <td>0.7654</td>\n",
       "      <td>0.7688</td>\n",
       "      <td>0.7694</td>\n",
       "      <td>0.7586</td>\n",
       "      <td>0.7634</td>\n",
       "      <td>0.7674</td>\n",
       "      <td>0.7667</td>\n",
       "    </tr>\n",
       "  </tbody>\n",
       "</table>\n",
       "</div>"
      ],
      "text/plain": [
       "    Score Type KNN Orig KNN PCA Logistic Regression Orig  \\\n",
       "0  Train Score   0.7605  0.7619                   0.7599   \n",
       "1   Test Score   0.7667  0.7654                   0.7688   \n",
       "\n",
       "  Logistic Regression PCA Decision Tree Orig Decision Tree PCA  \\\n",
       "0                  0.7590             0.7634            0.7610   \n",
       "1                  0.7694             0.7586            0.7634   \n",
       "\n",
       "  Linear SVC Orig Linear SVC PCA  \n",
       "0          0.7599         0.7599  \n",
       "1          0.7674         0.7667  "
      ]
     },
     "execution_count": 64,
     "metadata": {},
     "output_type": "execute_result"
    }
   ],
   "source": [
    "data = {'Score Type':  ['Train Score', 'Test Score'],\n",
    "                'KNN Orig': ['0.7605', '0.7667'],\n",
    "                'KNN PCA': ['0.7619', '0.7654'],\n",
    "                'Logistic Regression Orig': ['0.7599', '0.7688'],\n",
    "                'Logistic Regression PCA': ['0.7590', '0.7694'],\n",
    "                'Decision Tree Orig': ['0.7634', '0.7586'],\n",
    "                'Decision Tree PCA': ['0.7610', '0.7634'],\n",
    "                'Linear SVC Orig': ['0.7599', '0.7674'],\n",
    "                'Linear SVC PCA': ['0.7599', '0.7667']\n",
    "        }\n",
    "\n",
    "df = pd.DataFrame (data, columns = ['Score Type','KNN Orig','KNN PCA','Logistic Regression Orig','Logistic Regression PCA',\n",
    "                                         'Decision Tree Orig','Decision Tree PCA','Linear SVC Orig','Linear SVC PCA'])\n",
    "\n",
    "df"
   ]
  },
  {
   "cell_type": "markdown",
   "metadata": {},
   "source": [
    "#### As per the above table, in both cases (original data vs PCA data) logistic regression produced the best score among all models\n",
    "#### The PCA data providede a slightly better result on the test data comparing to the original data (0.7694 vs 0.7688)\n"
   ]
  },
  {
   "cell_type": "code",
   "execution_count": 65,
   "metadata": {},
   "outputs": [
    {
     "data": {
      "text/html": [
       "<div>\n",
       "<style scoped>\n",
       "    .dataframe tbody tr th:only-of-type {\n",
       "        vertical-align: middle;\n",
       "    }\n",
       "\n",
       "    .dataframe tbody tr th {\n",
       "        vertical-align: top;\n",
       "    }\n",
       "\n",
       "    .dataframe thead th {\n",
       "        text-align: right;\n",
       "    }\n",
       "</style>\n",
       "<table border=\"1\" class=\"dataframe\">\n",
       "  <thead>\n",
       "    <tr style=\"text-align: right;\">\n",
       "      <th></th>\n",
       "      <th>Type</th>\n",
       "      <th>SVC-rbf Orig</th>\n",
       "      <th>SVC-rbf PCA</th>\n",
       "      <th>SVC-linear Orig</th>\n",
       "      <th>SVC-linear PCA</th>\n",
       "      <th>SVC-polynomial Orig</th>\n",
       "      <th>SVC-polynomial PCA</th>\n",
       "    </tr>\n",
       "  </thead>\n",
       "  <tbody>\n",
       "    <tr>\n",
       "      <th>0</th>\n",
       "      <td>Best C</td>\n",
       "      <td>100</td>\n",
       "      <td>1</td>\n",
       "      <td>100</td>\n",
       "      <td>1</td>\n",
       "      <td>100</td>\n",
       "      <td>1</td>\n",
       "    </tr>\n",
       "    <tr>\n",
       "      <th>1</th>\n",
       "      <td>Best Gamma</td>\n",
       "      <td>0.1</td>\n",
       "      <td>0.01</td>\n",
       "      <td>0.1</td>\n",
       "      <td>0.01</td>\n",
       "      <td>0.1</td>\n",
       "      <td>0.01</td>\n",
       "    </tr>\n",
       "    <tr>\n",
       "      <th>2</th>\n",
       "      <td>Best Cross-Val Score</td>\n",
       "      <td>0.76</td>\n",
       "      <td>0.76</td>\n",
       "      <td>0.76</td>\n",
       "      <td>0.76</td>\n",
       "      <td>0.76</td>\n",
       "      <td>0.76</td>\n",
       "    </tr>\n",
       "  </tbody>\n",
       "</table>\n",
       "</div>"
      ],
      "text/plain": [
       "                   Type SVC-rbf Orig SVC-rbf PCA SVC-linear Orig  \\\n",
       "0                Best C          100           1             100   \n",
       "1            Best Gamma          0.1        0.01             0.1   \n",
       "2  Best Cross-Val Score         0.76        0.76            0.76   \n",
       "\n",
       "  SVC-linear PCA SVC-polynomial Orig SVC-polynomial PCA  \n",
       "0              1                 100                  1  \n",
       "1           0.01                 0.1               0.01  \n",
       "2           0.76                0.76               0.76  "
      ]
     },
     "execution_count": 65,
     "metadata": {},
     "output_type": "execute_result"
    }
   ],
   "source": [
    "data_gs = {'Type':  ['Best C', 'Best Gamma', 'Best Cross-Val Score'],\n",
    "                'SVC-rbf Orig': ['100','0.1', '0.76'],\n",
    "                'SVC-rbf PCA': ['1','0.01', '0.76'],\n",
    "                'SVC-linear Orig': ['100','0.1', '0.76'],\n",
    "                'SVC-linear PCA': ['1','0.01', '0.76'],\n",
    "                'SVC-polynomial Orig': ['100','0.1', '0.76'],\n",
    "                'SVC-polynomial PCA': ['1','0.01', '0.76']\n",
    "       }\n",
    "\n",
    "df_gs = pd.DataFrame (data_gs, columns = ['Type','SVC-rbf Orig','SVC-rbf PCA','SVC-linear Orig','SVC-linear PCA',\n",
    "                                         'SVC-polynomial Orig','SVC-polynomial PCA'])\n",
    "\n",
    "df_gs"
   ]
  },
  {
   "cell_type": "markdown",
   "metadata": {},
   "source": [
    "#### Applying SVC models with grid search produced similar cross-validation scores in both cases (original data vs PCA data) however, the best C and Gamma values were different.\n"
   ]
  },
  {
   "cell_type": "markdown",
   "metadata": {},
   "source": [
    "#### Overrall, the results were very close, but performance on the PCA data was much better than the original data. For example the polinomial grid search on the original data took around 36 hours to complet, but it took less than 4 hours to complete on PCA data in similar situation."
   ]
  },
  {
   "cell_type": "markdown",
   "metadata": {},
   "source": [
    "# Applying Deep Learning models on the dataset"
   ]
  },
  {
   "cell_type": "code",
   "execution_count": 66,
   "metadata": {},
   "outputs": [],
   "source": [
    "import tensorflow as tf\n",
    "from tensorflow.python.keras.layers import Input, Dense,Flatten\n",
    "from  tensorflow.python.keras import Sequential"
   ]
  },
  {
   "cell_type": "markdown",
   "metadata": {},
   "source": [
    "## Reshaping the model"
   ]
  },
  {
   "cell_type": "code",
   "execution_count": 67,
   "metadata": {},
   "outputs": [
    {
     "name": "stdout",
     "output_type": "stream",
     "text": [
      "(5913, 19)\n",
      "(1479, 19)\n",
      "(5913, 19)\n",
      "(1479, 19)\n"
     ]
    }
   ],
   "source": [
    "print(X_train.shape)\n",
    "print(X_test.shape)\n",
    "\n",
    "# building the input vector\n",
    "x_train = X_train.reshape(X_train.shape[0], X_train.shape[1]).astype(float)\n",
    "x_test = X_test.reshape(X_test.shape[0], X_test.shape[1]).astype(float)\n",
    "\n",
    "print(x_train.shape)\n",
    "print(x_test.shape)"
   ]
  },
  {
   "cell_type": "code",
   "execution_count": 68,
   "metadata": {},
   "outputs": [],
   "source": [
    "Y_train = pd.get_dummies(y_train)\n",
    "Y_test = pd.get_dummies(y_test)"
   ]
  },
  {
   "cell_type": "code",
   "execution_count": 69,
   "metadata": {},
   "outputs": [
    {
     "name": "stdout",
     "output_type": "stream",
     "text": [
      "(5913, 2)\n",
      "(1479, 2)\n"
     ]
    }
   ],
   "source": [
    "print(Y_train.shape)\n",
    "print(Y_test.shape)"
   ]
  },
  {
   "cell_type": "code",
   "execution_count": 71,
   "metadata": {},
   "outputs": [
    {
     "name": "stdout",
     "output_type": "stream",
     "text": [
      "WARNING:tensorflow:From /opt/ohpc/pub/apps/anaconda3/lib/python3.7/site-packages/tensorflow/python/ops/resource_variable_ops.py:435: colocate_with (from tensorflow.python.framework.ops) is deprecated and will be removed in a future version.\n",
      "Instructions for updating:\n",
      "Colocations handled automatically by placer.\n",
      "WARNING:tensorflow:From /opt/ohpc/pub/apps/anaconda3/lib/python3.7/site-packages/tensorflow/python/ops/math_ops.py:3066: to_int32 (from tensorflow.python.ops.math_ops) is deprecated and will be removed in a future version.\n",
      "Instructions for updating:\n",
      "Use tf.cast instead.\n",
      "Epoch 1/10\n",
      "5913/5913 [==============================] - 1s 134us/sample - loss: 0.6062 - acc: 0.7571\n",
      "Epoch 2/10\n",
      "5913/5913 [==============================] - 0s 18us/sample - loss: 0.5452 - acc: 0.7599\n",
      "Epoch 3/10\n",
      "5913/5913 [==============================] - 0s 20us/sample - loss: 0.5422 - acc: 0.7599\n",
      "Epoch 4/10\n",
      "5913/5913 [==============================] - 0s 19us/sample - loss: 0.5408 - acc: 0.7599\n",
      "Epoch 5/10\n",
      "5913/5913 [==============================] - 0s 17us/sample - loss: 0.5399 - acc: 0.7599\n",
      "Epoch 6/10\n",
      "5913/5913 [==============================] - 0s 24us/sample - loss: 0.5392 - acc: 0.7599\n",
      "Epoch 7/10\n",
      "5913/5913 [==============================] - 0s 19us/sample - loss: 0.5395 - acc: 0.7599\n",
      "Epoch 8/10\n",
      "5913/5913 [==============================] - 0s 18us/sample - loss: 0.5387 - acc: 0.7599\n",
      "Epoch 9/10\n",
      "5913/5913 [==============================] - 0s 22us/sample - loss: 0.5378 - acc: 0.7599\n",
      "Epoch 10/10\n",
      "5913/5913 [==============================] - 0s 20us/sample - loss: 0.5378 - acc: 0.7599\n"
     ]
    },
    {
     "data": {
      "text/plain": [
       "<tensorflow.python.keras.callbacks.History at 0x2ab56df38e48>"
      ]
     },
     "execution_count": 71,
     "metadata": {},
     "output_type": "execute_result"
    }
   ],
   "source": [
    "# step 1: build the model\n",
    "model1 = Sequential()\n",
    "# input layer: # number AN, input_dim (input_shape), activation:sigmoid/relu\n",
    "model1.add(Dense(32, input_dim = 19, activation = 'relu', kernel_initializer= 'random_uniform',name = 'input_layer'))\n",
    "# hidden layer\n",
    "model1.add(Dense(16, activation= 'relu', kernel_initializer= 'random_uniform',  name = 'hidden_layer_1'))\n",
    "# output layer\n",
    "model1.add(Dense(2, activation = 'softmax', name = 'output_layer'))\n",
    "\n",
    "\n",
    "# step 2: compile the model: loss, optimizer, metrics\n",
    "model1.compile(loss= 'categorical_crossentropy', optimizer = 'adam', metrics = ['accuracy'])\n",
    "\n",
    "\n",
    "# step 3: train the model\n",
    "model1.fit(x_train, Y_train, epochs= 10, batch_size= 128)"
   ]
  },
  {
   "cell_type": "markdown",
   "metadata": {},
   "source": [
    "##### Evaluating Deep Learning model with reshaping"
   ]
  },
  {
   "cell_type": "code",
   "execution_count": 72,
   "metadata": {},
   "outputs": [
    {
     "name": "stdout",
     "output_type": "stream",
     "text": [
      "5913/5913 [==============================] - 0s 48us/sample - loss: 0.5371 - acc: 0.7599\n"
     ]
    },
    {
     "data": {
      "text/plain": [
       "[0.537116677420768, 0.75985116]"
      ]
     },
     "execution_count": 72,
     "metadata": {},
     "output_type": "execute_result"
    }
   ],
   "source": [
    "model1.evaluate(x_train, Y_train)"
   ]
  },
  {
   "cell_type": "code",
   "execution_count": 73,
   "metadata": {},
   "outputs": [
    {
     "name": "stdout",
     "output_type": "stream",
     "text": [
      "1479/1479 [==============================] - 0s 60us/sample - loss: 0.5374 - acc: 0.7667\n"
     ]
    },
    {
     "data": {
      "text/plain": [
       "[0.5373998429422204, 0.7667343]"
      ]
     },
     "execution_count": 73,
     "metadata": {},
     "output_type": "execute_result"
    }
   ],
   "source": [
    "model1.evaluate(x_test, Y_test)"
   ]
  },
  {
   "cell_type": "markdown",
   "metadata": {},
   "source": [
    "#### Accuracy of this deep learning model on the test dataset with reshaping data is equal to 0.7667"
   ]
  },
  {
   "cell_type": "code",
   "execution_count": 74,
   "metadata": {},
   "outputs": [
    {
     "name": "stdout",
     "output_type": "stream",
     "text": [
      "_________________________________________________________________\n",
      "Layer (type)                 Output Shape              Param #   \n",
      "=================================================================\n",
      "input_layer (Dense)          (None, 32)                640       \n",
      "_________________________________________________________________\n",
      "hidden_layer_1 (Dense)       (None, 16)                528       \n",
      "_________________________________________________________________\n",
      "output_layer (Dense)         (None, 2)                 34        \n",
      "=================================================================\n",
      "Total params: 1,202\n",
      "Trainable params: 1,202\n",
      "Non-trainable params: 0\n",
      "_________________________________________________________________\n"
     ]
    }
   ],
   "source": [
    "model1.summary()"
   ]
  },
  {
   "cell_type": "markdown",
   "metadata": {},
   "source": [
    "## Neural Netwroks without reshaping the input dataset"
   ]
  },
  {
   "cell_type": "code",
   "execution_count": 75,
   "metadata": {},
   "outputs": [
    {
     "name": "stdout",
     "output_type": "stream",
     "text": [
      "Epoch 1/10\n",
      "5913/5913 [==============================] - 1s 108us/sample - loss: 0.6105 - acc: 0.7123\n",
      "Epoch 2/10\n",
      "5913/5913 [==============================] - 0s 20us/sample - loss: 0.5497 - acc: 0.7599\n",
      "Epoch 3/10\n",
      "5913/5913 [==============================] - 0s 25us/sample - loss: 0.5445 - acc: 0.7599\n",
      "Epoch 4/10\n",
      "5913/5913 [==============================] - 0s 18us/sample - loss: 0.5424 - acc: 0.7599\n",
      "Epoch 5/10\n",
      "5913/5913 [==============================] - 0s 16us/sample - loss: 0.5418 - acc: 0.7599\n",
      "Epoch 6/10\n",
      "5913/5913 [==============================] - 0s 23us/sample - loss: 0.5399 - acc: 0.7599\n",
      "Epoch 7/10\n",
      "5913/5913 [==============================] - 0s 20us/sample - loss: 0.5393 - acc: 0.7599\n",
      "Epoch 8/10\n",
      "5913/5913 [==============================] - 0s 21us/sample - loss: 0.5385 - acc: 0.7599\n",
      "Epoch 9/10\n",
      "5913/5913 [==============================] - 0s 19us/sample - loss: 0.5385 - acc: 0.7599\n",
      "Epoch 10/10\n",
      "5913/5913 [==============================] - 0s 21us/sample - loss: 0.5373 - acc: 0.7599\n"
     ]
    },
    {
     "data": {
      "text/plain": [
       "<tensorflow.python.keras.callbacks.History at 0x2ab621b9acf8>"
      ]
     },
     "execution_count": 75,
     "metadata": {},
     "output_type": "execute_result"
    }
   ],
   "source": [
    "# step 1: build the model\n",
    "model2 = Sequential()\n",
    "# flatten layer\n",
    "#model2.add(Flatten(input_shape = (5913, 19), name = 'flatten_layer'))\n",
    "# other layers\n",
    "model2.add(Dense(32, input_dim = 19, activation = 'relu', name = 'layer1'))\n",
    "model2.add(Dense(16, activation = 'relu', name = 'layer2'))\n",
    "model2.add(Dense(2, activation = 'softmax', name = 'output_layer'))\n",
    "\n",
    "#model2.summary()\n",
    "# step 2: compile the model: loss, optimizer, metrics\n",
    "model2.compile(loss= 'categorical_crossentropy', optimizer = 'adam', metrics = ['accuracy'])\n",
    "\n",
    "\n",
    "# step 3: train the model\n",
    "model2.fit(X_train, Y_train, epochs= 10, batch_size= 128)"
   ]
  },
  {
   "cell_type": "markdown",
   "metadata": {},
   "source": [
    "#### Evaluating the model without reshaping"
   ]
  },
  {
   "cell_type": "code",
   "execution_count": 76,
   "metadata": {},
   "outputs": [
    {
     "name": "stdout",
     "output_type": "stream",
     "text": [
      "5913/5913 [==============================] - 0s 48us/sample - loss: 0.5365 - acc: 0.7599\n"
     ]
    },
    {
     "data": {
      "text/plain": [
       "[0.5365290518805357, 0.75985116]"
      ]
     },
     "execution_count": 76,
     "metadata": {},
     "output_type": "execute_result"
    }
   ],
   "source": [
    "model2.evaluate(X_train, Y_train)"
   ]
  },
  {
   "cell_type": "code",
   "execution_count": 77,
   "metadata": {},
   "outputs": [
    {
     "name": "stdout",
     "output_type": "stream",
     "text": [
      "1479/1479 [==============================] - 0s 35us/sample - loss: 0.5386 - acc: 0.7667\n"
     ]
    },
    {
     "data": {
      "text/plain": [
       "[0.5386450070638443, 0.7667343]"
      ]
     },
     "execution_count": 77,
     "metadata": {},
     "output_type": "execute_result"
    }
   ],
   "source": [
    "model2.evaluate(X_test, Y_test)"
   ]
  },
  {
   "cell_type": "markdown",
   "metadata": {},
   "source": [
    "#### Accuracy of this deep learning model on the test dataset with reshaping data is also equal to 0.7667"
   ]
  },
  {
   "cell_type": "code",
   "execution_count": 78,
   "metadata": {},
   "outputs": [
    {
     "name": "stdout",
     "output_type": "stream",
     "text": [
      "_________________________________________________________________\n",
      "Layer (type)                 Output Shape              Param #   \n",
      "=================================================================\n",
      "layer1 (Dense)               (None, 32)                640       \n",
      "_________________________________________________________________\n",
      "layer2 (Dense)               (None, 16)                528       \n",
      "_________________________________________________________________\n",
      "output_layer (Dense)         (None, 2)                 34        \n",
      "=================================================================\n",
      "Total params: 1,202\n",
      "Trainable params: 1,202\n",
      "Non-trainable params: 0\n",
      "_________________________________________________________________\n"
     ]
    }
   ],
   "source": [
    "model2.summary()"
   ]
  },
  {
   "cell_type": "markdown",
   "metadata": {},
   "source": [
    "#### -----------------------------------------------------------------------------------------------------"
   ]
  },
  {
   "cell_type": "markdown",
   "metadata": {},
   "source": [
    "### Final Model\n",
    "### The best model after applying PCA on the data was Logistic Regressoin with a hyperparameter C = 1 and using L1 regularization"
   ]
  },
  {
   "cell_type": "code",
   "execution_count": 79,
   "metadata": {},
   "outputs": [
    {
     "name": "stdout",
     "output_type": "stream",
     "text": [
      "0.7590055809233891\n",
      "0.7694388100067613\n"
     ]
    }
   ],
   "source": [
    "from sklearn.linear_model import LogisticRegression\n",
    "\n",
    "log_l1 = LogisticRegression(penalty = 'l1', C = 1, solver = 'liblinear', max_iter = 5000, random_state=42)\n",
    "log_l1.fit(X_train_pca, y_train)\n",
    "y_pred = log_l1.predict(X_test_pca)\n",
    "print(log_l1.score(X_train_pca, y_train))\n",
    "print(log_l1.score(X_test_pca, y_test))"
   ]
  },
  {
   "cell_type": "code",
   "execution_count": 80,
   "metadata": {},
   "outputs": [
    {
     "name": "stdout",
     "output_type": "stream",
     "text": [
      "Cross-validation scores: [0.76132522 0.75997295 0.76116373 0.76589986 0.75845737]\n",
      "Average cross-validation score: 0.76\n"
     ]
    }
   ],
   "source": [
    "from sklearn.model_selection import cross_val_score\n",
    "\n",
    "scores = cross_val_score(log_l1, X, y, cv=5)\n",
    "print(\"Cross-validation scores: {}\".format(scores))\n",
    "print(\"Average cross-validation score: {:.2f}\".format(scores.mean()))"
   ]
  },
  {
   "cell_type": "code",
   "execution_count": 81,
   "metadata": {},
   "outputs": [],
   "source": [
    "from sklearn.model_selection import KFold\n",
    "kfold = KFold(n_splits=3)"
   ]
  },
  {
   "cell_type": "code",
   "execution_count": 82,
   "metadata": {},
   "outputs": [
    {
     "name": "stdout",
     "output_type": "stream",
     "text": [
      "Cross-validation scores:\n",
      "[0.76217532 0.76866883 0.75324675]\n"
     ]
    }
   ],
   "source": [
    "print(\"Cross-validation scores:\\n{}\".format(cross_val_score(log_l1, X, y, cv=kfold)))"
   ]
  },
  {
   "cell_type": "code",
   "execution_count": 83,
   "metadata": {},
   "outputs": [
    {
     "name": "stdout",
     "output_type": "stream",
     "text": [
      "Number of cv iterations:  7392\n",
      "Mean accuracy: 0.76\n",
      "[1. 1. 1. ... 1. 0. 0.]\n"
     ]
    }
   ],
   "source": [
    "from sklearn.model_selection import LeaveOneOut\n",
    "loo = LeaveOneOut()\n",
    "scores = cross_val_score(log_l1, X, y, cv=loo)\n",
    "print(\"Number of cv iterations: \", len(scores))\n",
    "print(\"Mean accuracy: {:.2f}\".format(scores.mean()))\n",
    "print(scores)"
   ]
  },
  {
   "cell_type": "code",
   "execution_count": 84,
   "metadata": {},
   "outputs": [
    {
     "name": "stdout",
     "output_type": "stream",
     "text": [
      "Confusion matrix:\n",
      "[[   6  339]\n",
      " [   2 1132]]\n"
     ]
    }
   ],
   "source": [
    "from sklearn.metrics import confusion_matrix\n",
    "\n",
    "confusion = confusion_matrix(y_test, y_pred)\n",
    "print(\"Confusion matrix:\\n{}\".format(confusion))\n"
   ]
  },
  {
   "cell_type": "code",
   "execution_count": 85,
   "metadata": {},
   "outputs": [
    {
     "name": "stdout",
     "output_type": "stream",
     "text": [
      "             precision    recall  f1-score   support\n",
      "\n",
      "Charged Off       0.75      0.02      0.03       345\n",
      " Fully Paid       0.77      1.00      0.87      1134\n",
      "\n",
      "avg / total       0.76      0.77      0.67      1479\n",
      "\n"
     ]
    }
   ],
   "source": [
    "from sklearn.metrics import classification_report\n",
    "print(classification_report(y_test, y_pred, target_names=[\"Charged Off\", \"Fully Paid\"]))"
   ]
  }
 ],
 "metadata": {
  "kernelspec": {
   "display_name": "Python 3",
   "language": "python",
   "name": "python3"
  },
  "language_info": {
   "codemirror_mode": {
    "name": "ipython",
    "version": 3
   },
   "file_extension": ".py",
   "mimetype": "text/x-python",
   "name": "python",
   "nbconvert_exporter": "python",
   "pygments_lexer": "ipython3",
   "version": "3.8.8"
  }
 },
 "nbformat": 4,
 "nbformat_minor": 2
}
